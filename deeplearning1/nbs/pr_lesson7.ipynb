{
 "cells": [
  {
   "cell_type": "markdown",
   "metadata": {},
   "source": [
    "## Lesson resources\n",
    "\n",
    "* [https://youtu.be/Q0z-l2KRYFY Lesson video]\n",
    "* [http://forums.fast.ai/t/lesson-7-discussion Forum discussion]\n",
    "* [http://wiki.fast.ai/index.php/Lesson_7_Notes Lesson 7 notes]\n",
    "* The notebooks:\n",
    "** [https://github.com/fastai/courses/blob/master/deeplearning1/nbs/lesson6.ipynb Lesson 6] updated with pure python RNN and theano GRU details\n",
    "** [https://github.com/fastai/courses/blob/master/deeplearning1/nbs/lesson7.ipynb Lesson 7] has the various CNN architectures applied to the kaggle fisheries competition.\n",
    "\n",
    "* The python scripts:\n",
    "** [https://github.com/fastai/courses/blob/master/deeplearning1/nbs/vgg16bn.py VGG with batch normalization] - also adds 'size' and 'include_top' parameters\n",
    "** [https://github.com/fastai/courses/blob/master/deeplearning1/nbs/resnet50.py resnet50.py] - The resnet architecture\n",
    "\n",
    "## More information\n",
    "\n",
    "* [https://culurciello.github.io/tech/2016/06/04/nets.html Network architecture review] (really great)\n",
    "* [http://techtalks.tv/talks/fully-convolutional-networks-for-semantic-segmentation/61606/ Fully convolutional net]\n",
    "* [https://keras.io/getting-started/functional-api-guide/#multi-input-and-multi-output-models [Multi input and multi output nets in Keras]\n",
    "* [http://www.wildml.com/2015/10/recurrent-neural-network-tutorial-part-4-implementing-a-grulstm-rnn-with-python-and-theano/ Gated recurrent units (GRUs) ]"
   ]
  },
  {
   "cell_type": "markdown",
   "metadata": {},
   "source": [
    "## Fisheries competition\n",
    "\n",
    "In this notebook we're going to investigate a range of different architectures for the [Kaggle fisheries competition](https://www.kaggle.com/c/the-nature-conservancy-fisheries-monitoring). The video states taht vgg.py and vgg_ft() from utils.py have been updated to include VGG with batch normalization, but this is not the case. We've instead created a new file [vgg_bn.py] and an additional method vgg_ft_bn() (which is already in utils.py) which we use in this notbook.\n",
    "\n",
    "### actions\n",
    "1. create validation and sample set\n",
    "2. rearrange image files into their respective directories\n",
    "3. fine tune and train model\n",
    "4. generate prediction\n",
    "5. validate prediction\n",
    "6. sumit predictions to kaggle"
   ]
  },
  {
   "cell_type": "code",
   "execution_count": 1,
   "metadata": {},
   "outputs": [
    {
     "name": "stderr",
     "output_type": "stream",
     "text": [
      "Using TensorFlow backend.\n"
     ]
    }
   ],
   "source": [
    "%matplotlib inline\n",
    "import imp\n",
    "import utils\n",
    "imp.reload(utils)\n",
    "from utils import *"
   ]
  },
  {
   "cell_type": "code",
   "execution_count": 2,
   "metadata": {
    "collapsed": true
   },
   "outputs": [],
   "source": [
    "path = './data/fish'\n",
    "batch_size = 64"
   ]
  },
  {
   "cell_type": "markdown",
   "metadata": {},
   "source": [
    "## Data Preparation"
   ]
  },
  {
   "cell_type": "code",
   "execution_count": 88,
   "metadata": {},
   "outputs": [
    {
     "name": "stdout",
     "output_type": "stream",
     "text": [
      "1719 data\\fish\\org\\ALB\n",
      "data\\fish\\org\\ALB\\img_02229.jpg --> data\\fish\\train\\ALB\n",
      "data\\fish\\org\\ALB\\img_02883.jpg --> data\\fish\\train\\ALB\n",
      "data\\fish\\org\\ALB\\img_02414.jpg --> data\\fish\\train\\ALB\n",
      "data\\fish\\org\\ALB\\img_06989.jpg --> data\\fish\\train\\ALB\n",
      "data\\fish\\org\\ALB\\img_01901.jpg --> data\\fish\\train\\ALB\n",
      "data\\fish\\org\\ALB\\img_02328.jpg --> data\\fish\\train\\ALB\n",
      "data\\fish\\org\\ALB\\img_05973.jpg --> data\\fish\\train\\ALB\n",
      "data\\fish\\org\\ALB\\img_05266.jpg --> data\\fish\\train\\ALB\n",
      "data\\fish\\org\\ALB\\img_01822.jpg --> data\\fish\\train\\ALB\n",
      "data\\fish\\org\\ALB\\img_04907.jpg --> data\\fish\\train\\ALB\n",
      "data\\fish\\org\\ALB\\img_07384.jpg --> data\\fish\\train\\ALB\n",
      "data\\fish\\org\\ALB\\img_00793.jpg --> data\\fish\\train\\ALB\n",
      "data\\fish\\org\\ALB\\img_03593.jpg --> data\\fish\\train\\ALB\n",
      "data\\fish\\org\\ALB\\img_02046.jpg --> data\\fish\\train\\ALB\n",
      "data\\fish\\org\\ALB\\img_04954.jpg --> data\\fish\\train\\ALB\n",
      "data\\fish\\org\\ALB\\img_06158.jpg --> data\\fish\\train\\ALB\n",
      "data\\fish\\org\\ALB\\img_07614.jpg --> data\\fish\\train\\ALB\n",
      "data\\fish\\org\\ALB\\img_05270.jpg --> data\\fish\\train\\ALB\n",
      "data\\fish\\org\\ALB\\img_02437.jpg --> data\\fish\\train\\ALB\n",
      "data\\fish\\org\\ALB\\img_07636.jpg --> data\\fish\\train\\ALB\n",
      "data\\fish\\org\\ALB\\img_01509.jpg --> data\\fish\\train\\ALB\n",
      "data\\fish\\org\\ALB\\img_04513.jpg --> data\\fish\\train\\ALB\n",
      "data\\fish\\org\\ALB\\img_00385.jpg --> data\\fish\\train\\ALB\n",
      "data\\fish\\org\\ALB\\img_06961.jpg --> data\\fish\\train\\ALB\n",
      "data\\fish\\org\\ALB\\img_06439.jpg --> data\\fish\\train\\ALB\n",
      "data\\fish\\org\\ALB\\img_02452.jpg --> data\\fish\\train\\ALB\n",
      "data\\fish\\org\\ALB\\img_04466.jpg --> data\\fish\\train\\ALB\n",
      "data\\fish\\org\\ALB\\img_01823.jpg --> data\\fish\\train\\ALB\n",
      "data\\fish\\org\\ALB\\img_07057.jpg --> data\\fish\\train\\ALB\n",
      "data\\fish\\org\\ALB\\img_05312.jpg --> data\\fish\\train\\ALB\n",
      "data\\fish\\org\\ALB\\img_07335.jpg --> data\\fish\\train\\ALB\n",
      "data\\fish\\org\\ALB\\img_06935.jpg --> data\\fish\\train\\ALB\n",
      "data\\fish\\org\\ALB\\img_03845.jpg --> data\\fish\\train\\ALB\n",
      "data\\fish\\org\\ALB\\img_07701.jpg --> data\\fish\\train\\ALB\n",
      "data\\fish\\org\\ALB\\img_01713.jpg --> data\\fish\\train\\ALB\n",
      "data\\fish\\org\\ALB\\img_02610.jpg --> data\\fish\\train\\ALB\n",
      "data\\fish\\org\\ALB\\img_03112.jpg --> data\\fish\\train\\ALB\n",
      "data\\fish\\org\\ALB\\img_01896.jpg --> data\\fish\\train\\ALB\n",
      "data\\fish\\org\\ALB\\img_00163.jpg --> data\\fish\\train\\ALB\n",
      "data\\fish\\org\\ALB\\img_07694.jpg --> data\\fish\\train\\ALB\n",
      "data\\fish\\org\\ALB\\img_01077.jpg --> data\\fish\\train\\ALB\n",
      "data\\fish\\org\\ALB\\img_06570.jpg --> data\\fish\\train\\ALB\n",
      "data\\fish\\org\\ALB\\img_07225.jpg --> data\\fish\\train\\ALB\n",
      "data\\fish\\org\\ALB\\img_07204.jpg --> data\\fish\\train\\ALB\n",
      "data\\fish\\org\\ALB\\img_01000.jpg --> data\\fish\\train\\ALB\n",
      "data\\fish\\org\\ALB\\img_01282.jpg --> data\\fish\\train\\ALB\n",
      "data\\fish\\org\\ALB\\img_02856.jpg --> data\\fish\\train\\ALB\n",
      "data\\fish\\org\\ALB\\img_05348.jpg --> data\\fish\\train\\ALB\n",
      "data\\fish\\org\\ALB\\img_04882.jpg --> data\\fish\\train\\ALB\n",
      "data\\fish\\org\\ALB\\img_06142.jpg --> data\\fish\\train\\ALB\n",
      "data\\fish\\org\\ALB\\img_05851.jpg --> data\\fish\\train\\ALB\n",
      "data\\fish\\org\\ALB\\img_04808.jpg --> data\\fish\\train\\ALB\n",
      "data\\fish\\org\\ALB\\img_03798.jpg --> data\\fish\\train\\ALB\n",
      "data\\fish\\org\\ALB\\img_00269.jpg --> data\\fish\\train\\ALB\n",
      "data\\fish\\org\\ALB\\img_03115.jpg --> data\\fish\\train\\ALB\n",
      "data\\fish\\org\\ALB\\img_02399.jpg --> data\\fish\\train\\ALB\n",
      "data\\fish\\org\\ALB\\img_04742.jpg --> data\\fish\\train\\ALB\n",
      "data\\fish\\org\\ALB\\img_01756.jpg --> data\\fish\\train\\ALB\n",
      "data\\fish\\org\\ALB\\img_01911.jpg --> data\\fish\\train\\ALB\n",
      "data\\fish\\org\\ALB\\img_01489.jpg --> data\\fish\\train\\ALB\n",
      "data\\fish\\org\\ALB\\img_01921.jpg --> data\\fish\\train\\ALB\n",
      "data\\fish\\org\\ALB\\img_01398.jpg --> data\\fish\\train\\ALB\n",
      "data\\fish\\org\\ALB\\img_04093.jpg --> data\\fish\\train\\ALB\n",
      "data\\fish\\org\\ALB\\img_06200.jpg --> data\\fish\\train\\ALB\n",
      "data\\fish\\org\\ALB\\img_02253.jpg --> data\\fish\\train\\ALB\n",
      "data\\fish\\org\\ALB\\img_00281.jpg --> data\\fish\\train\\ALB\n",
      "data\\fish\\org\\ALB\\img_03884.jpg --> data\\fish\\train\\ALB\n",
      "data\\fish\\org\\ALB\\img_07174.jpg --> data\\fish\\train\\ALB\n",
      "data\\fish\\org\\ALB\\img_01028.jpg --> data\\fish\\train\\ALB\n",
      "data\\fish\\org\\ALB\\img_03859.jpg --> data\\fish\\train\\ALB\n",
      "data\\fish\\org\\ALB\\img_02945.jpg --> data\\fish\\train\\ALB\n",
      "data\\fish\\org\\ALB\\img_06347.jpg --> data\\fish\\train\\ALB\n",
      "data\\fish\\org\\ALB\\img_05518.jpg --> data\\fish\\train\\ALB\n",
      "data\\fish\\org\\ALB\\img_02324.jpg --> data\\fish\\train\\ALB\n",
      "data\\fish\\org\\ALB\\img_07442.jpg --> data\\fish\\train\\ALB\n",
      "data\\fish\\org\\ALB\\img_07163.jpg --> data\\fish\\train\\ALB\n",
      "data\\fish\\org\\ALB\\img_02410.jpg --> data\\fish\\train\\ALB\n",
      "data\\fish\\org\\ALB\\img_04016.jpg --> data\\fish\\train\\ALB\n",
      "data\\fish\\org\\ALB\\img_06018.jpg --> data\\fish\\train\\ALB\n",
      "data\\fish\\org\\ALB\\img_01023.jpg --> data\\fish\\train\\ALB\n",
      "data\\fish\\org\\ALB\\img_05077.jpg --> data\\fish\\train\\ALB\n",
      "data\\fish\\org\\ALB\\img_06075.jpg --> data\\fish\\train\\ALB\n",
      "data\\fish\\org\\ALB\\img_02421.jpg --> data\\fish\\train\\ALB\n",
      "data\\fish\\org\\ALB\\img_05350.jpg --> data\\fish\\train\\ALB\n",
      "data\\fish\\org\\ALB\\img_04368.jpg --> data\\fish\\train\\ALB\n",
      "data\\fish\\org\\ALB\\img_00782.jpg --> data\\fish\\train\\ALB\n",
      "data\\fish\\org\\ALB\\img_01396.jpg --> data\\fish\\train\\ALB\n",
      "data\\fish\\org\\ALB\\img_01663.jpg --> data\\fish\\train\\ALB\n",
      "data\\fish\\org\\ALB\\img_06260.jpg --> data\\fish\\train\\ALB\n",
      "data\\fish\\org\\ALB\\img_04345.jpg --> data\\fish\\train\\ALB\n",
      "data\\fish\\org\\ALB\\img_07358.jpg --> data\\fish\\train\\ALB\n",
      "data\\fish\\org\\ALB\\img_02992.jpg --> data\\fish\\train\\ALB\n",
      "data\\fish\\org\\ALB\\img_01038.jpg --> data\\fish\\train\\ALB\n",
      "data\\fish\\org\\ALB\\img_05690.jpg --> data\\fish\\train\\ALB\n",
      "data\\fish\\org\\ALB\\img_00561.jpg --> data\\fish\\train\\ALB\n",
      "data\\fish\\org\\ALB\\img_06421.jpg --> data\\fish\\train\\ALB\n",
      "data\\fish\\org\\ALB\\img_00701.jpg --> data\\fish\\train\\ALB\n",
      "data\\fish\\org\\ALB\\img_07299.jpg --> data\\fish\\train\\ALB\n",
      "data\\fish\\org\\ALB\\img_06944.jpg --> data\\fish\\train\\ALB\n",
      "data\\fish\\org\\ALB\\img_06721.jpg --> data\\fish\\train\\ALB\n",
      "data\\fish\\org\\ALB\\img_01361.jpg --> data\\fish\\train\\ALB\n",
      "data\\fish\\org\\ALB\\img_07377.jpg --> data\\fish\\train\\ALB\n",
      "data\\fish\\org\\ALB\\img_03224.jpg --> data\\fish\\train\\ALB\n",
      "data\\fish\\org\\ALB\\img_03146.jpg --> data\\fish\\train\\ALB\n",
      "data\\fish\\org\\ALB\\img_00869.jpg --> data\\fish\\train\\ALB\n",
      "data\\fish\\org\\ALB\\img_04973.jpg --> data\\fish\\train\\ALB\n",
      "data\\fish\\org\\ALB\\img_01127.jpg --> data\\fish\\train\\ALB\n",
      "data\\fish\\org\\ALB\\img_03700.jpg --> data\\fish\\train\\ALB\n",
      "data\\fish\\org\\ALB\\img_02925.jpg --> data\\fish\\train\\ALB\n",
      "data\\fish\\org\\ALB\\img_06680.jpg --> data\\fish\\train\\ALB\n",
      "data\\fish\\org\\ALB\\img_03737.jpg --> data\\fish\\train\\ALB\n",
      "data\\fish\\org\\ALB\\img_05283.jpg --> data\\fish\\train\\ALB\n",
      "data\\fish\\org\\ALB\\img_00130.jpg --> data\\fish\\train\\ALB\n",
      "data\\fish\\org\\ALB\\img_02254.jpg --> data\\fish\\train\\ALB\n",
      "data\\fish\\org\\ALB\\img_05810.jpg --> data\\fish\\train\\ALB\n",
      "data\\fish\\org\\ALB\\img_07396.jpg --> data\\fish\\train\\ALB\n",
      "data\\fish\\org\\ALB\\img_04950.jpg --> data\\fish\\train\\ALB\n",
      "data\\fish\\org\\ALB\\img_05103.jpg --> data\\fish\\train\\ALB\n",
      "data\\fish\\org\\ALB\\img_00810.jpg --> data\\fish\\train\\ALB\n",
      "data\\fish\\org\\ALB\\img_03431.jpg --> data\\fish\\train\\ALB\n",
      "data\\fish\\org\\ALB\\img_00744.jpg --> data\\fish\\train\\ALB\n",
      "data\\fish\\org\\ALB\\img_05201.jpg --> data\\fish\\train\\ALB\n",
      "data\\fish\\org\\ALB\\img_04086.jpg --> data\\fish\\train\\ALB\n",
      "data\\fish\\org\\ALB\\img_00342.jpg --> data\\fish\\train\\ALB\n",
      "data\\fish\\org\\ALB\\img_07162.jpg --> data\\fish\\train\\ALB\n",
      "data\\fish\\org\\ALB\\img_05213.jpg --> data\\fish\\train\\ALB\n",
      "data\\fish\\org\\ALB\\img_05684.jpg --> data\\fish\\train\\ALB\n",
      "data\\fish\\org\\ALB\\img_01690.jpg --> data\\fish\\train\\ALB\n",
      "data\\fish\\org\\ALB\\img_00319.jpg --> data\\fish\\train\\ALB\n",
      "data\\fish\\org\\ALB\\img_00219.jpg --> data\\fish\\train\\ALB\n",
      "data\\fish\\org\\ALB\\img_05560.jpg --> data\\fish\\train\\ALB\n",
      "data\\fish\\org\\ALB\\img_00687.jpg --> data\\fish\\train\\ALB\n",
      "data\\fish\\org\\ALB\\img_06282.jpg --> data\\fish\\train\\ALB\n",
      "data\\fish\\org\\ALB\\img_03694.jpg --> data\\fish\\train\\ALB\n",
      "data\\fish\\org\\ALB\\img_05358.jpg --> data\\fish\\train\\ALB\n",
      "data\\fish\\org\\ALB\\img_02107.jpg --> data\\fish\\train\\ALB\n",
      "data\\fish\\org\\ALB\\img_02338.jpg --> data\\fish\\train\\ALB\n",
      "data\\fish\\org\\ALB\\img_03432.jpg --> data\\fish\\train\\ALB\n",
      "data\\fish\\org\\ALB\\img_06367.jpg --> data\\fish\\train\\ALB\n",
      "data\\fish\\org\\ALB\\img_01620.jpg --> data\\fish\\train\\ALB\n",
      "data\\fish\\org\\ALB\\img_00019.jpg --> data\\fish\\train\\ALB\n",
      "data\\fish\\org\\ALB\\img_00039.jpg --> data\\fish\\train\\ALB\n",
      "data\\fish\\org\\ALB\\img_03682.jpg --> data\\fish\\train\\ALB\n",
      "data\\fish\\org\\ALB\\img_07755.jpg --> data\\fish\\train\\ALB\n",
      "data\\fish\\org\\ALB\\img_03499.jpg --> data\\fish\\train\\ALB\n",
      "data\\fish\\org\\ALB\\img_06716.jpg --> data\\fish\\train\\ALB\n"
     ]
    },
    {
     "name": "stdout",
     "output_type": "stream",
     "text": [
      "data\\fish\\org\\ALB\\img_05279.jpg --> data\\fish\\train\\ALB\n",
      "data\\fish\\org\\ALB\\img_00617.jpg --> data\\fish\\train\\ALB\n",
      "data\\fish\\org\\ALB\\img_02719.jpg --> data\\fish\\train\\ALB\n",
      "data\\fish\\org\\ALB\\img_01072.jpg --> data\\fish\\train\\ALB\n",
      "data\\fish\\org\\ALB\\img_07463.jpg --> data\\fish\\train\\ALB\n",
      "data\\fish\\org\\ALB\\img_00829.jpg --> data\\fish\\train\\ALB\n",
      "data\\fish\\org\\ALB\\img_04112.jpg --> data\\fish\\train\\ALB\n",
      "data\\fish\\org\\ALB\\img_07917.jpg --> data\\fish\\train\\ALB\n",
      "data\\fish\\org\\ALB\\img_02034.jpg --> data\\fish\\train\\ALB\n",
      "data\\fish\\org\\ALB\\img_01333.jpg --> data\\fish\\train\\ALB\n",
      "data\\fish\\org\\ALB\\img_07549.jpg --> data\\fish\\train\\ALB\n",
      "data\\fish\\org\\ALB\\img_03233.jpg --> data\\fish\\train\\ALB\n",
      "data\\fish\\org\\ALB\\img_05131.jpg --> data\\fish\\train\\ALB\n",
      "data\\fish\\org\\ALB\\img_01334.jpg --> data\\fish\\train\\ALB\n",
      "data\\fish\\org\\ALB\\img_04301.jpg --> data\\fish\\train\\ALB\n",
      "data\\fish\\org\\ALB\\img_02292.jpg --> data\\fish\\train\\ALB\n",
      "data\\fish\\org\\ALB\\img_03575.jpg --> data\\fish\\train\\ALB\n",
      "data\\fish\\org\\ALB\\img_03119.jpg --> data\\fish\\train\\ALB\n",
      "data\\fish\\org\\ALB\\img_06458.jpg --> data\\fish\\train\\ALB\n",
      "data\\fish\\org\\ALB\\img_04683.jpg --> data\\fish\\train\\ALB\n",
      "data\\fish\\org\\ALB\\img_01753.jpg --> data\\fish\\train\\ALB\n",
      "data\\fish\\org\\ALB\\img_05237.jpg --> data\\fish\\train\\ALB\n",
      "data\\fish\\org\\ALB\\img_06057.jpg --> data\\fish\\train\\ALB\n",
      "data\\fish\\org\\ALB\\img_01079.jpg --> data\\fish\\train\\ALB\n",
      "data\\fish\\org\\ALB\\img_00634.jpg --> data\\fish\\train\\ALB\n",
      "data\\fish\\org\\ALB\\img_00690.jpg --> data\\fish\\train\\ALB\n",
      "data\\fish\\org\\ALB\\img_04259.jpg --> data\\fish\\train\\ALB\n",
      "data\\fish\\org\\ALB\\img_07092.jpg --> data\\fish\\train\\ALB\n",
      "data\\fish\\org\\ALB\\img_07877.jpg --> data\\fish\\train\\ALB\n",
      "data\\fish\\org\\ALB\\img_01401.jpg --> data\\fish\\train\\ALB\n",
      "data\\fish\\org\\ALB\\img_02519.jpg --> data\\fish\\train\\ALB\n",
      "data\\fish\\org\\ALB\\img_01045.jpg --> data\\fish\\train\\ALB\n",
      "data\\fish\\org\\ALB\\img_00632.jpg --> data\\fish\\train\\ALB\n",
      "data\\fish\\org\\ALB\\img_06450.jpg --> data\\fish\\train\\ALB\n",
      "data\\fish\\org\\ALB\\img_04980.jpg --> data\\fish\\train\\ALB\n",
      "data\\fish\\org\\ALB\\img_00706.jpg --> data\\fish\\train\\ALB\n",
      "data\\fish\\org\\ALB\\img_03606.jpg --> data\\fish\\train\\ALB\n",
      "data\\fish\\org\\ALB\\img_00507.jpg --> data\\fish\\train\\ALB\n",
      "data\\fish\\org\\ALB\\img_05363.jpg --> data\\fish\\train\\ALB\n",
      "data\\fish\\org\\ALB\\img_02710.jpg --> data\\fish\\train\\ALB\n",
      "data\\fish\\org\\ALB\\img_00742.jpg --> data\\fish\\train\\ALB\n",
      "data\\fish\\org\\ALB\\img_01046.jpg --> data\\fish\\train\\ALB\n",
      "data\\fish\\org\\ALB\\img_01652.jpg --> data\\fish\\train\\ALB\n",
      "data\\fish\\org\\ALB\\img_07153.jpg --> data\\fish\\train\\ALB\n",
      "data\\fish\\org\\ALB\\img_03323.jpg --> data\\fish\\train\\ALB\n",
      "data\\fish\\org\\ALB\\img_03357.jpg --> data\\fish\\train\\ALB\n",
      "data\\fish\\org\\ALB\\img_00341.jpg --> data\\fish\\train\\ALB\n",
      "data\\fish\\org\\ALB\\img_04330.jpg --> data\\fish\\train\\ALB\n",
      "data\\fish\\org\\ALB\\img_05637.jpg --> data\\fish\\train\\ALB\n",
      "data\\fish\\org\\ALB\\img_07802.jpg --> data\\fish\\train\\ALB\n",
      "data\\fish\\org\\ALB\\img_01638.jpg --> data\\fish\\train\\ALB\n",
      "data\\fish\\org\\ALB\\img_00596.jpg --> data\\fish\\train\\ALB\n",
      "data\\fish\\org\\ALB\\img_07559.jpg --> data\\fish\\train\\ALB\n",
      "data\\fish\\org\\ALB\\img_03538.jpg --> data\\fish\\train\\ALB\n",
      "data\\fish\\org\\ALB\\img_07136.jpg --> data\\fish\\train\\ALB\n",
      "data\\fish\\org\\ALB\\img_02203.jpg --> data\\fish\\train\\ALB\n",
      "data\\fish\\org\\ALB\\img_04567.jpg --> data\\fish\\train\\ALB\n",
      "data\\fish\\org\\ALB\\img_00425.jpg --> data\\fish\\train\\ALB\n",
      "data\\fish\\org\\ALB\\img_05868.jpg --> data\\fish\\train\\ALB\n",
      "data\\fish\\org\\ALB\\img_02862.jpg --> data\\fish\\train\\ALB\n",
      "data\\fish\\org\\ALB\\img_01291.jpg --> data\\fish\\train\\ALB\n",
      "data\\fish\\org\\ALB\\img_03108.jpg --> data\\fish\\train\\ALB\n",
      "data\\fish\\org\\ALB\\img_04572.jpg --> data\\fish\\train\\ALB\n",
      "data\\fish\\org\\ALB\\img_07285.jpg --> data\\fish\\train\\ALB\n",
      "data\\fish\\org\\ALB\\img_00344.jpg --> data\\fish\\train\\ALB\n",
      "data\\fish\\org\\ALB\\img_05515.jpg --> data\\fish\\train\\ALB\n",
      "data\\fish\\org\\ALB\\img_00274.jpg --> data\\fish\\train\\ALB\n",
      "data\\fish\\org\\ALB\\img_03578.jpg --> data\\fish\\train\\ALB\n",
      "data\\fish\\org\\ALB\\img_03579.jpg --> data\\fish\\train\\ALB\n",
      "data\\fish\\org\\ALB\\img_06563.jpg --> data\\fish\\train\\ALB\n",
      "data\\fish\\org\\ALB\\img_05286.jpg --> data\\fish\\train\\ALB\n",
      "data\\fish\\org\\ALB\\img_07240.jpg --> data\\fish\\train\\ALB\n",
      "data\\fish\\org\\ALB\\img_00747.jpg --> data\\fish\\train\\ALB\n",
      "data\\fish\\org\\ALB\\img_01733.jpg --> data\\fish\\train\\ALB\n",
      "data\\fish\\org\\ALB\\img_04220.jpg --> data\\fish\\train\\ALB\n",
      "data\\fish\\org\\ALB\\img_00482.jpg --> data\\fish\\train\\ALB\n",
      "data\\fish\\org\\ALB\\img_00762.jpg --> data\\fish\\train\\ALB\n",
      "data\\fish\\org\\ALB\\img_05039.jpg --> data\\fish\\train\\ALB\n",
      "data\\fish\\org\\ALB\\img_00633.jpg --> data\\fish\\train\\ALB\n",
      "data\\fish\\org\\ALB\\img_06422.jpg --> data\\fish\\train\\ALB\n",
      "data\\fish\\org\\ALB\\img_06069.jpg --> data\\fish\\train\\ALB\n",
      "data\\fish\\org\\ALB\\img_05315.jpg --> data\\fish\\train\\ALB\n",
      "data\\fish\\org\\ALB\\img_06247.jpg --> data\\fish\\train\\ALB\n",
      "data\\fish\\org\\ALB\\img_01063.jpg --> data\\fish\\valid\\ALB\n",
      "data\\fish\\org\\ALB\\img_05815.jpg --> data\\fish\\valid\\ALB\n",
      "data\\fish\\org\\ALB\\img_06853.jpg --> data\\fish\\valid\\ALB\n",
      "data\\fish\\org\\ALB\\img_07471.jpg --> data\\fish\\valid\\ALB\n",
      "data\\fish\\org\\ALB\\img_04792.jpg --> data\\fish\\valid\\ALB\n",
      "data\\fish\\org\\ALB\\img_06039.jpg --> data\\fish\\valid\\ALB\n",
      "data\\fish\\org\\ALB\\img_01941.jpg --> data\\fish\\valid\\ALB\n",
      "data\\fish\\org\\ALB\\img_00029.jpg --> data\\fish\\valid\\ALB\n",
      "data\\fish\\org\\ALB\\img_01816.jpg --> data\\fish\\valid\\ALB\n",
      "data\\fish\\org\\ALB\\img_04893.jpg --> data\\fish\\valid\\ALB\n",
      "data\\fish\\org\\ALB\\img_00665.jpg --> data\\fish\\valid\\ALB\n",
      "data\\fish\\org\\ALB\\img_05818.jpg --> data\\fish\\valid\\ALB\n",
      "data\\fish\\org\\ALB\\img_07745.jpg --> data\\fish\\valid\\ALB\n",
      "data\\fish\\org\\ALB\\img_06931.jpg --> data\\fish\\valid\\ALB\n",
      "data\\fish\\org\\ALB\\img_04728.jpg --> data\\fish\\valid\\ALB\n",
      "data\\fish\\org\\ALB\\img_07328.jpg --> data\\fish\\valid\\ALB\n",
      "data\\fish\\org\\ALB\\img_00626.jpg --> data\\fish\\valid\\ALB\n",
      "data\\fish\\org\\ALB\\img_04755.jpg --> data\\fish\\valid\\ALB\n",
      "data\\fish\\org\\ALB\\img_02185.jpg --> data\\fish\\valid\\ALB\n",
      "data\\fish\\org\\ALB\\img_07670.jpg --> data\\fish\\valid\\ALB\n",
      "data\\fish\\org\\ALB\\img_06566.jpg --> data\\fish\\valid\\ALB\n",
      "data\\fish\\org\\ALB\\img_02058.jpg --> data\\fish\\valid\\ALB\n",
      "data\\fish\\org\\ALB\\img_01261.jpg --> data\\fish\\valid\\ALB\n",
      "data\\fish\\org\\ALB\\img_00300.jpg --> data\\fish\\valid\\ALB\n",
      "data\\fish\\org\\ALB\\img_05200.jpg --> data\\fish\\valid\\ALB\n",
      "data\\fish\\org\\ALB\\img_03107.jpg --> data\\fish\\valid\\ALB\n",
      "data\\fish\\org\\ALB\\img_00457.jpg --> data\\fish\\valid\\ALB\n",
      "data\\fish\\org\\ALB\\img_05575.jpg --> data\\fish\\valid\\ALB\n",
      "data\\fish\\org\\ALB\\img_05859.jpg --> data\\fish\\valid\\ALB\n",
      "data\\fish\\org\\ALB\\img_07241.jpg --> data\\fish\\valid\\ALB\n",
      "data\\fish\\org\\ALB\\img_01865.jpg --> data\\fish\\valid\\ALB\n",
      "data\\fish\\org\\ALB\\img_02820.jpg --> data\\fish\\valid\\ALB\n",
      "data\\fish\\org\\ALB\\img_01110.jpg --> data\\fish\\valid\\ALB\n",
      "data\\fish\\org\\ALB\\img_00295.jpg --> data\\fish\\valid\\ALB\n",
      "data\\fish\\org\\ALB\\img_03855.jpg --> data\\fish\\valid\\ALB\n",
      "data\\fish\\org\\ALB\\img_04524.jpg --> data\\fish\\valid\\ALB\n",
      "data\\fish\\org\\ALB\\img_03466.jpg --> data\\fish\\valid\\ALB\n",
      "data\\fish\\org\\ALB\\img_07851.jpg --> data\\fish\\valid\\ALB\n",
      "data\\fish\\org\\ALB\\img_04823.jpg --> data\\fish\\valid\\ALB\n",
      "data\\fish\\org\\ALB\\img_06175.jpg --> data\\fish\\valid\\ALB\n",
      "data\\fish\\org\\ALB\\img_07113.jpg --> data\\fish\\valid\\ALB\n",
      "data\\fish\\org\\ALB\\img_01805.jpg --> data\\fish\\valid\\ALB\n",
      "data\\fish\\org\\ALB\\img_07567.jpg --> data\\fish\\valid\\ALB\n",
      "data\\fish\\org\\ALB\\img_05303.jpg --> data\\fish\\valid\\ALB\n",
      "data\\fish\\org\\ALB\\img_06868.jpg --> data\\fish\\valid\\ALB\n",
      "data\\fish\\org\\ALB\\img_01001.jpg --> data\\fish\\valid\\ALB\n",
      "data\\fish\\org\\ALB\\img_02012.jpg --> data\\fish\\valid\\ALB\n",
      "data\\fish\\org\\ALB\\img_03182.jpg --> data\\fish\\valid\\ALB\n",
      "data\\fish\\org\\ALB\\img_07262.jpg --> data\\fish\\valid\\ALB\n",
      "data\\fish\\org\\ALB\\img_07171.jpg --> data\\fish\\valid\\ALB\n",
      "data\\fish\\org\\ALB\\img_01480.jpg --> data\\fish\\valid\\ALB\n",
      "data\\fish\\org\\ALB\\img_00975.jpg --> data\\fish\\valid\\ALB\n",
      "data\\fish\\org\\ALB\\img_06461.jpg --> data\\fish\\valid\\ALB\n",
      "data\\fish\\org\\ALB\\img_05890.jpg --> data\\fish\\valid\\ALB\n",
      "data\\fish\\org\\ALB\\img_00010.jpg --> data\\fish\\valid\\ALB\n",
      "data\\fish\\org\\ALB\\img_06126.jpg --> data\\fish\\valid\\ALB\n",
      "data\\fish\\org\\ALB\\img_07868.jpg --> data\\fish\\valid\\ALB\n",
      "data\\fish\\org\\ALB\\img_05777.jpg --> data\\fish\\valid\\ALB\n",
      "data\\fish\\org\\ALB\\img_05083.jpg --> data\\fish\\valid\\ALB\n",
      "data\\fish\\org\\ALB\\img_07214.jpg --> data\\fish\\valid\\ALB\n",
      "data\\fish\\org\\ALB\\img_01047.jpg --> data\\fish\\valid\\ALB\n",
      "data\\fish\\org\\ALB\\img_01093.jpg --> data\\fish\\valid\\ALB\n",
      "data\\fish\\org\\ALB\\img_07037.jpg --> data\\fish\\valid\\ALB\n",
      "data\\fish\\org\\ALB\\img_05757.jpg --> data\\fish\\valid\\ALB\n"
     ]
    },
    {
     "name": "stdout",
     "output_type": "stream",
     "text": [
      "data\\fish\\org\\ALB\\img_04164.jpg --> data\\fish\\valid\\ALB\n",
      "data\\fish\\org\\ALB\\img_00719.jpg --> data\\fish\\valid\\ALB\n",
      "data\\fish\\org\\ALB\\img_06372.jpg --> data\\fish\\valid\\ALB\n",
      "data\\fish\\org\\ALB\\img_07810.jpg --> data\\fish\\valid\\ALB\n",
      "data\\fish\\org\\ALB\\img_03451.jpg --> data\\fish\\valid\\ALB\n",
      "data\\fish\\org\\ALB\\img_05808.jpg --> data\\fish\\valid\\ALB\n",
      "data\\fish\\org\\ALB\\img_01841.jpg --> data\\fish\\valid\\ALB\n",
      "data\\fish\\org\\ALB\\img_01032.jpg --> data\\fish\\valid\\ALB\n",
      "data\\fish\\org\\ALB\\img_05465.jpg --> data\\fish\\valid\\ALB\n",
      "data\\fish\\org\\ALB\\img_01507.jpg --> data\\fish\\valid\\ALB\n",
      "data\\fish\\org\\ALB\\img_02586.jpg --> data\\fish\\valid\\ALB\n",
      "data\\fish\\org\\ALB\\img_03635.jpg --> data\\fish\\valid\\ALB\n",
      "data\\fish\\org\\ALB\\img_03216.jpg --> data\\fish\\valid\\ALB\n",
      "data\\fish\\org\\ALB\\img_05297.jpg --> data\\fish\\valid\\ALB\n",
      "data\\fish\\org\\ALB\\img_01455.jpg --> data\\fish\\valid\\ALB\n",
      "data\\fish\\org\\ALB\\img_07207.jpg --> data\\fish\\valid\\ALB\n",
      "data\\fish\\org\\ALB\\img_07662.jpg --> data\\fish\\valid\\ALB\n",
      "data\\fish\\org\\ALB\\img_06437.jpg --> data\\fish\\valid\\ALB\n",
      "data\\fish\\org\\ALB\\img_02793.jpg --> data\\fish\\valid\\ALB\n",
      "data\\fish\\org\\ALB\\img_03212.jpg --> data\\fish\\valid\\ALB\n",
      "data\\fish\\org\\ALB\\img_00570.jpg --> data\\fish\\valid\\ALB\n",
      "data\\fish\\org\\ALB\\img_01482.jpg --> data\\fish\\valid\\ALB\n",
      "data\\fish\\org\\ALB\\img_07040.jpg --> data\\fish\\valid\\ALB\n",
      "data\\fish\\org\\ALB\\img_02623.jpg --> data\\fish\\valid\\ALB\n",
      "data\\fish\\org\\ALB\\img_06350.jpg --> data\\fish\\valid\\ALB\n",
      "data\\fish\\org\\ALB\\img_01948.jpg --> data\\fish\\valid\\ALB\n",
      "data\\fish\\org\\ALB\\img_01338.jpg --> data\\fish\\valid\\ALB\n",
      "data\\fish\\org\\ALB\\img_01074.jpg --> data\\fish\\valid\\ALB\n",
      "data\\fish\\org\\ALB\\img_01992.jpg --> data\\fish\\valid\\ALB\n",
      "data\\fish\\org\\ALB\\img_02996.jpg --> data\\fish\\valid\\ALB\n",
      "data\\fish\\org\\ALB\\img_03836.jpg --> data\\fish\\valid\\ALB\n",
      "data\\fish\\org\\ALB\\img_00993.jpg --> data\\fish\\valid\\ALB\n",
      "data\\fish\\org\\ALB\\img_04612.jpg --> data\\fish\\valid\\ALB\n",
      "data\\fish\\org\\ALB\\img_02190.jpg --> data\\fish\\valid\\ALB\n",
      "data\\fish\\org\\ALB\\img_05556.jpg --> data\\fish\\valid\\ALB\n",
      "data\\fish\\org\\ALB\\img_04025.jpg --> data\\fish\\valid\\ALB\n",
      "data\\fish\\org\\ALB\\img_06560.jpg --> data\\fish\\valid\\ALB\n",
      "data\\fish\\org\\ALB\\img_00638.jpg --> data\\fish\\valid\\ALB\n",
      "data\\fish\\org\\ALB\\img_00401.jpg --> data\\fish\\valid\\ALB\n",
      "data\\fish\\org\\ALB\\img_06420.jpg --> data\\fish\\valid\\ALB\n",
      "data\\fish\\org\\ALB\\img_01514.jpg --> data\\fish\\valid\\ALB\n",
      "data\\fish\\org\\ALB\\img_05235.jpg --> data\\fish\\valid\\ALB\n",
      "data\\fish\\org\\ALB\\img_05842.jpg --> data\\fish\\valid\\ALB\n",
      "data\\fish\\org\\ALB\\img_03729.jpg --> data\\fish\\valid\\ALB\n",
      "data\\fish\\org\\ALB\\img_03356.jpg --> data\\fish\\valid\\ALB\n",
      "data\\fish\\org\\ALB\\img_01954.jpg --> data\\fish\\valid\\ALB\n",
      "data\\fish\\org\\ALB\\img_01574.jpg --> data\\fish\\valid\\ALB\n",
      "data\\fish\\org\\ALB\\img_01152.jpg --> data\\fish\\valid\\ALB\n",
      "data\\fish\\org\\ALB\\img_04861.jpg --> data\\fish\\valid\\ALB\n",
      "data\\fish\\org\\ALB\\img_06215.jpg --> data\\fish\\valid\\ALB\n",
      "200 data\\fish\\org\\BET\n",
      "data\\fish\\org\\BET\\img_01933.jpg --> data\\fish\\train\\BET\n",
      "data\\fish\\org\\BET\\img_07378.jpg --> data\\fish\\train\\BET\n",
      "data\\fish\\org\\BET\\img_00231.jpg --> data\\fish\\train\\BET\n",
      "data\\fish\\org\\BET\\img_01450.jpg --> data\\fish\\train\\BET\n",
      "data\\fish\\org\\BET\\img_05065.jpg --> data\\fish\\train\\BET\n",
      "data\\fish\\org\\BET\\img_04931.jpg --> data\\fish\\train\\BET\n",
      "data\\fish\\org\\BET\\img_01166.jpg --> data\\fish\\train\\BET\n",
      "data\\fish\\org\\BET\\img_06532.jpg --> data\\fish\\train\\BET\n",
      "data\\fish\\org\\BET\\img_06384.jpg --> data\\fish\\train\\BET\n",
      "data\\fish\\org\\BET\\img_00107.jpg --> data\\fish\\train\\BET\n",
      "data\\fish\\org\\BET\\img_05858.jpg --> data\\fish\\train\\BET\n",
      "data\\fish\\org\\BET\\img_00883.jpg --> data\\fish\\train\\BET\n",
      "data\\fish\\org\\BET\\img_07795.jpg --> data\\fish\\train\\BET\n",
      "data\\fish\\org\\BET\\img_05069.jpg --> data\\fish\\train\\BET\n",
      "data\\fish\\org\\BET\\img_01194.jpg --> data\\fish\\train\\BET\n",
      "data\\fish\\org\\BET\\img_02139.jpg --> data\\fish\\train\\BET\n",
      "data\\fish\\org\\BET\\img_04891.jpg --> data\\fish\\train\\BET\n",
      "data\\fish\\org\\BET\\img_01299.jpg --> data\\fish\\train\\BET\n",
      "data\\fish\\org\\BET\\img_05252.jpg --> data\\fish\\train\\BET\n",
      "data\\fish\\org\\BET\\img_03565.jpg --> data\\fish\\train\\BET\n",
      "data\\fish\\org\\BET\\img_06862.jpg --> data\\fish\\train\\BET\n",
      "data\\fish\\org\\BET\\img_07519.jpg --> data\\fish\\train\\BET\n",
      "data\\fish\\org\\BET\\img_05402.jpg --> data\\fish\\train\\BET\n",
      "data\\fish\\org\\BET\\img_02168.jpg --> data\\fish\\train\\BET\n",
      "data\\fish\\org\\BET\\img_00321.jpg --> data\\fish\\train\\BET\n",
      "data\\fish\\org\\BET\\img_00888.jpg --> data\\fish\\train\\BET\n",
      "data\\fish\\org\\BET\\img_06035.jpg --> data\\fish\\valid\\BET\n",
      "data\\fish\\org\\BET\\img_04028.jpg --> data\\fish\\valid\\BET\n",
      "data\\fish\\org\\BET\\img_04718.jpg --> data\\fish\\valid\\BET\n",
      "data\\fish\\org\\BET\\img_03723.jpg --> data\\fish\\valid\\BET\n",
      "data\\fish\\org\\BET\\img_01215.jpg --> data\\fish\\valid\\BET\n",
      "data\\fish\\org\\BET\\img_06623.jpg --> data\\fish\\valid\\BET\n",
      "data\\fish\\org\\BET\\img_04853.jpg --> data\\fish\\valid\\BET\n",
      "data\\fish\\org\\BET\\img_07015.jpg --> data\\fish\\valid\\BET\n",
      "data\\fish\\org\\BET\\img_06983.jpg --> data\\fish\\valid\\BET\n",
      "data\\fish\\org\\BET\\img_02696.jpg --> data\\fish\\valid\\BET\n",
      "data\\fish\\org\\BET\\img_01477.jpg --> data\\fish\\valid\\BET\n",
      "data\\fish\\org\\BET\\img_06542.jpg --> data\\fish\\valid\\BET\n",
      "data\\fish\\org\\BET\\img_05848.jpg --> data\\fish\\valid\\BET\n",
      "117 data\\fish\\org\\DOL\n",
      "data\\fish\\org\\DOL\\img_00983.jpg --> data\\fish\\train\\DOL\n",
      "data\\fish\\org\\DOL\\img_07643.jpg --> data\\fish\\train\\DOL\n",
      "data\\fish\\org\\DOL\\img_05420.jpg --> data\\fish\\train\\DOL\n",
      "data\\fish\\org\\DOL\\img_02910.jpg --> data\\fish\\train\\DOL\n",
      "data\\fish\\org\\DOL\\img_00918.jpg --> data\\fish\\train\\DOL\n",
      "data\\fish\\org\\DOL\\img_01311.jpg --> data\\fish\\train\\DOL\n",
      "data\\fish\\org\\DOL\\img_06644.jpg --> data\\fish\\train\\DOL\n",
      "data\\fish\\org\\DOL\\img_02752.jpg --> data\\fish\\train\\DOL\n",
      "data\\fish\\org\\DOL\\img_07212.jpg --> data\\fish\\train\\DOL\n",
      "data\\fish\\org\\DOL\\img_05782.jpg --> data\\fish\\train\\DOL\n",
      "data\\fish\\org\\DOL\\img_02210.jpg --> data\\fish\\train\\DOL\n",
      "data\\fish\\org\\DOL\\img_04760.jpg --> data\\fish\\train\\DOL\n",
      "data\\fish\\org\\DOL\\img_03997.jpg --> data\\fish\\train\\DOL\n",
      "data\\fish\\org\\DOL\\img_07898.jpg --> data\\fish\\train\\DOL\n",
      "data\\fish\\org\\DOL\\img_03546.jpg --> data\\fish\\train\\DOL\n",
      "data\\fish\\org\\DOL\\img_02926.jpg --> data\\fish\\valid\\DOL\n",
      "data\\fish\\org\\DOL\\img_02333.jpg --> data\\fish\\valid\\DOL\n",
      "data\\fish\\org\\DOL\\img_00678.jpg --> data\\fish\\valid\\DOL\n",
      "data\\fish\\org\\DOL\\img_05557.jpg --> data\\fish\\valid\\DOL\n",
      "data\\fish\\org\\DOL\\img_01628.jpg --> data\\fish\\valid\\DOL\n",
      "data\\fish\\org\\DOL\\img_04283.jpg --> data\\fish\\valid\\DOL\n",
      "data\\fish\\org\\DOL\\img_01055.jpg --> data\\fish\\valid\\DOL\n",
      "67 data\\fish\\org\\LAG\n",
      "data\\fish\\org\\LAG\\img_01037.jpg --> data\\fish\\train\\LAG\n",
      "data\\fish\\org\\LAG\\img_01457.jpg --> data\\fish\\train\\LAG\n",
      "data\\fish\\org\\LAG\\img_02236.jpg --> data\\fish\\train\\LAG\n",
      "data\\fish\\org\\LAG\\img_07334.jpg --> data\\fish\\train\\LAG\n",
      "data\\fish\\org\\LAG\\img_07817.jpg --> data\\fish\\train\\LAG\n",
      "data\\fish\\org\\LAG\\img_00176.jpg --> data\\fish\\train\\LAG\n",
      "data\\fish\\org\\LAG\\img_06224.jpg --> data\\fish\\train\\LAG\n",
      "data\\fish\\org\\LAG\\img_04711.jpg --> data\\fish\\train\\LAG\n",
      "data\\fish\\org\\LAG\\img_06257.jpg --> data\\fish\\valid\\LAG\n",
      "data\\fish\\org\\LAG\\img_07269.jpg --> data\\fish\\valid\\LAG\n",
      "data\\fish\\org\\LAG\\img_02608.jpg --> data\\fish\\valid\\LAG\n",
      "data\\fish\\org\\LAG\\img_03611.jpg --> data\\fish\\valid\\LAG\n",
      "465 data\\fish\\org\\NoF\n",
      "data\\fish\\org\\NoF\\img_01667.jpg --> data\\fish\\train\\NoF\n",
      "data\\fish\\org\\NoF\\img_02158.jpg --> data\\fish\\train\\NoF\n",
      "data\\fish\\org\\NoF\\img_00471.jpg --> data\\fish\\train\\NoF\n",
      "data\\fish\\org\\NoF\\img_00318.jpg --> data\\fish\\train\\NoF\n",
      "data\\fish\\org\\NoF\\img_06366.jpg --> data\\fish\\train\\NoF\n",
      "data\\fish\\org\\NoF\\img_06816.jpg --> data\\fish\\train\\NoF\n",
      "data\\fish\\org\\NoF\\img_02786.jpg --> data\\fish\\train\\NoF\n",
      "data\\fish\\org\\NoF\\img_05636.jpg --> data\\fish\\train\\NoF\n",
      "data\\fish\\org\\NoF\\img_06874.jpg --> data\\fish\\train\\NoF\n",
      "data\\fish\\org\\NoF\\img_03768.jpg --> data\\fish\\train\\NoF\n",
      "data\\fish\\org\\NoF\\img_00062.jpg --> data\\fish\\train\\NoF\n",
      "data\\fish\\org\\NoF\\img_00512.jpg --> data\\fish\\train\\NoF\n",
      "data\\fish\\org\\NoF\\img_06116.jpg --> data\\fish\\train\\NoF\n",
      "data\\fish\\org\\NoF\\img_04168.jpg --> data\\fish\\train\\NoF\n",
      "data\\fish\\org\\NoF\\img_07268.jpg --> data\\fish\\train\\NoF\n",
      "data\\fish\\org\\NoF\\img_04866.jpg --> data\\fish\\train\\NoF\n",
      "data\\fish\\org\\NoF\\img_06083.jpg --> data\\fish\\train\\NoF\n",
      "data\\fish\\org\\NoF\\img_02930.jpg --> data\\fish\\train\\NoF\n",
      "data\\fish\\org\\NoF\\img_04703.jpg --> data\\fish\\train\\NoF\n",
      "data\\fish\\org\\NoF\\img_00387.jpg --> data\\fish\\train\\NoF\n",
      "data\\fish\\org\\NoF\\img_06953.jpg --> data\\fish\\train\\NoF\n",
      "data\\fish\\org\\NoF\\img_00456.jpg --> data\\fish\\train\\NoF\n",
      "data\\fish\\org\\NoF\\img_03206.jpg --> data\\fish\\train\\NoF\n",
      "data\\fish\\org\\NoF\\img_07129.jpg --> data\\fish\\train\\NoF\n",
      "data\\fish\\org\\NoF\\img_05936.jpg --> data\\fish\\train\\NoF\n",
      "data\\fish\\org\\NoF\\img_00981.jpg --> data\\fish\\train\\NoF\n",
      "data\\fish\\org\\NoF\\img_01419.jpg --> data\\fish\\train\\NoF\n",
      "data\\fish\\org\\NoF\\img_06515.jpg --> data\\fish\\train\\NoF\n"
     ]
    },
    {
     "name": "stdout",
     "output_type": "stream",
     "text": [
      "data\\fish\\org\\NoF\\img_04351.jpg --> data\\fish\\train\\NoF\n",
      "data\\fish\\org\\NoF\\img_02329.jpg --> data\\fish\\train\\NoF\n",
      "data\\fish\\org\\NoF\\img_03933.jpg --> data\\fish\\train\\NoF\n",
      "data\\fish\\org\\NoF\\img_05733.jpg --> data\\fish\\train\\NoF\n",
      "data\\fish\\org\\NoF\\img_00720.jpg --> data\\fish\\train\\NoF\n",
      "data\\fish\\org\\NoF\\img_05984.jpg --> data\\fish\\train\\NoF\n",
      "data\\fish\\org\\NoF\\img_02015.jpg --> data\\fish\\train\\NoF\n",
      "data\\fish\\org\\NoF\\img_03893.jpg --> data\\fish\\train\\NoF\n",
      "data\\fish\\org\\NoF\\img_01892.jpg --> data\\fish\\train\\NoF\n",
      "data\\fish\\org\\NoF\\img_02441.jpg --> data\\fish\\train\\NoF\n",
      "data\\fish\\org\\NoF\\img_05352.jpg --> data\\fish\\train\\NoF\n",
      "data\\fish\\org\\NoF\\img_07758.jpg --> data\\fish\\train\\NoF\n",
      "data\\fish\\org\\NoF\\img_05998.jpg --> data\\fish\\train\\NoF\n",
      "data\\fish\\org\\NoF\\img_05814.jpg --> data\\fish\\train\\NoF\n",
      "data\\fish\\org\\NoF\\img_00849.jpg --> data\\fish\\train\\NoF\n",
      "data\\fish\\org\\NoF\\img_07597.jpg --> data\\fish\\train\\NoF\n",
      "data\\fish\\org\\NoF\\img_05178.jpg --> data\\fish\\train\\NoF\n",
      "data\\fish\\org\\NoF\\img_03506.jpg --> data\\fish\\train\\NoF\n",
      "data\\fish\\org\\NoF\\img_04616.jpg --> data\\fish\\train\\NoF\n",
      "data\\fish\\org\\NoF\\img_03002.jpg --> data\\fish\\train\\NoF\n",
      "data\\fish\\org\\NoF\\img_00616.jpg --> data\\fish\\train\\NoF\n",
      "data\\fish\\org\\NoF\\img_03257.jpg --> data\\fish\\train\\NoF\n",
      "data\\fish\\org\\NoF\\img_01411.jpg --> data\\fish\\train\\NoF\n",
      "data\\fish\\org\\NoF\\img_06675.jpg --> data\\fish\\train\\NoF\n",
      "data\\fish\\org\\NoF\\img_01710.jpg --> data\\fish\\train\\NoF\n",
      "data\\fish\\org\\NoF\\img_01297.jpg --> data\\fish\\train\\NoF\n",
      "data\\fish\\org\\NoF\\img_03386.jpg --> data\\fish\\train\\NoF\n",
      "data\\fish\\org\\NoF\\img_00315.jpg --> data\\fish\\train\\NoF\n",
      "data\\fish\\org\\NoF\\img_02534.jpg --> data\\fish\\train\\NoF\n",
      "data\\fish\\org\\NoF\\img_03423.jpg --> data\\fish\\train\\NoF\n",
      "data\\fish\\org\\NoF\\img_06248.jpg --> data\\fish\\train\\NoF\n",
      "data\\fish\\org\\NoF\\img_06478.jpg --> data\\fish\\train\\NoF\n",
      "data\\fish\\org\\NoF\\img_01165.jpg --> data\\fish\\train\\NoF\n",
      "data\\fish\\org\\NoF\\img_02272.jpg --> data\\fish\\train\\NoF\n",
      "data\\fish\\org\\NoF\\img_04166.jpg --> data\\fish\\valid\\NoF\n",
      "data\\fish\\org\\NoF\\img_06398.jpg --> data\\fish\\valid\\NoF\n",
      "data\\fish\\org\\NoF\\img_00494.jpg --> data\\fish\\valid\\NoF\n",
      "data\\fish\\org\\NoF\\img_06969.jpg --> data\\fish\\valid\\NoF\n",
      "data\\fish\\org\\NoF\\img_06222.jpg --> data\\fish\\valid\\NoF\n",
      "data\\fish\\org\\NoF\\img_07339.jpg --> data\\fish\\valid\\NoF\n",
      "data\\fish\\org\\NoF\\img_07687.jpg --> data\\fish\\valid\\NoF\n",
      "data\\fish\\org\\NoF\\img_06050.jpg --> data\\fish\\valid\\NoF\n",
      "data\\fish\\org\\NoF\\img_05666.jpg --> data\\fish\\valid\\NoF\n",
      "data\\fish\\org\\NoF\\img_05594.jpg --> data\\fish\\valid\\NoF\n",
      "data\\fish\\org\\NoF\\img_04971.jpg --> data\\fish\\valid\\NoF\n",
      "data\\fish\\org\\NoF\\img_04674.jpg --> data\\fish\\valid\\NoF\n",
      "data\\fish\\org\\NoF\\img_03949.jpg --> data\\fish\\valid\\NoF\n",
      "data\\fish\\org\\NoF\\img_00011.jpg --> data\\fish\\valid\\NoF\n",
      "data\\fish\\org\\NoF\\img_07673.jpg --> data\\fish\\valid\\NoF\n",
      "data\\fish\\org\\NoF\\img_01094.jpg --> data\\fish\\valid\\NoF\n",
      "data\\fish\\org\\NoF\\img_03113.jpg --> data\\fish\\valid\\NoF\n",
      "data\\fish\\org\\NoF\\img_01303.jpg --> data\\fish\\valid\\NoF\n",
      "data\\fish\\org\\NoF\\img_00516.jpg --> data\\fish\\valid\\NoF\n",
      "data\\fish\\org\\NoF\\img_00673.jpg --> data\\fish\\valid\\NoF\n",
      "data\\fish\\org\\NoF\\img_01219.jpg --> data\\fish\\valid\\NoF\n",
      "data\\fish\\org\\NoF\\img_04793.jpg --> data\\fish\\valid\\NoF\n",
      "data\\fish\\org\\NoF\\img_03678.jpg --> data\\fish\\valid\\NoF\n",
      "data\\fish\\org\\NoF\\img_07496.jpg --> data\\fish\\valid\\NoF\n",
      "data\\fish\\org\\NoF\\img_05891.jpg --> data\\fish\\valid\\NoF\n",
      "data\\fish\\org\\NoF\\img_06402.jpg --> data\\fish\\valid\\NoF\n",
      "data\\fish\\org\\NoF\\img_00413.jpg --> data\\fish\\valid\\NoF\n",
      "data\\fish\\org\\NoF\\img_00105.jpg --> data\\fish\\valid\\NoF\n",
      "data\\fish\\org\\NoF\\img_01040.jpg --> data\\fish\\valid\\NoF\n",
      "data\\fish\\org\\NoF\\img_02323.jpg --> data\\fish\\valid\\NoF\n",
      "data\\fish\\org\\NoF\\img_03404.jpg --> data\\fish\\valid\\NoF\n",
      "299 data\\fish\\org\\OTHER\n",
      "data\\fish\\org\\OTHER\\img_00262.jpg --> data\\fish\\train\\OTHER\n",
      "data\\fish\\org\\OTHER\\img_04057.jpg --> data\\fish\\train\\OTHER\n",
      "data\\fish\\org\\OTHER\\img_06578.jpg --> data\\fish\\train\\OTHER\n",
      "data\\fish\\org\\OTHER\\img_06044.jpg --> data\\fish\\train\\OTHER\n",
      "data\\fish\\org\\OTHER\\img_05943.jpg --> data\\fish\\train\\OTHER\n",
      "data\\fish\\org\\OTHER\\img_06155.jpg --> data\\fish\\train\\OTHER\n",
      "data\\fish\\org\\OTHER\\img_00332.jpg --> data\\fish\\train\\OTHER\n",
      "data\\fish\\org\\OTHER\\img_01428.jpg --> data\\fish\\train\\OTHER\n",
      "data\\fish\\org\\OTHER\\img_03243.jpg --> data\\fish\\train\\OTHER\n",
      "data\\fish\\org\\OTHER\\img_00261.jpg --> data\\fish\\train\\OTHER\n",
      "data\\fish\\org\\OTHER\\img_06785.jpg --> data\\fish\\train\\OTHER\n",
      "data\\fish\\org\\OTHER\\img_01080.jpg --> data\\fish\\train\\OTHER\n",
      "data\\fish\\org\\OTHER\\img_03841.jpg --> data\\fish\\train\\OTHER\n",
      "data\\fish\\org\\OTHER\\img_02031.jpg --> data\\fish\\train\\OTHER\n",
      "data\\fish\\org\\OTHER\\img_02511.jpg --> data\\fish\\train\\OTHER\n",
      "data\\fish\\org\\OTHER\\img_04064.jpg --> data\\fish\\train\\OTHER\n",
      "data\\fish\\org\\OTHER\\img_07359.jpg --> data\\fish\\train\\OTHER\n",
      "data\\fish\\org\\OTHER\\img_07042.jpg --> data\\fish\\train\\OTHER\n",
      "data\\fish\\org\\OTHER\\img_01879.jpg --> data\\fish\\train\\OTHER\n",
      "data\\fish\\org\\OTHER\\img_06706.jpg --> data\\fish\\train\\OTHER\n",
      "data\\fish\\org\\OTHER\\img_02595.jpg --> data\\fish\\train\\OTHER\n",
      "data\\fish\\org\\OTHER\\img_05834.jpg --> data\\fish\\train\\OTHER\n",
      "data\\fish\\org\\OTHER\\img_07916.jpg --> data\\fish\\train\\OTHER\n",
      "data\\fish\\org\\OTHER\\img_07139.jpg --> data\\fish\\train\\OTHER\n",
      "data\\fish\\org\\OTHER\\img_05860.jpg --> data\\fish\\train\\OTHER\n",
      "data\\fish\\org\\OTHER\\img_04494.jpg --> data\\fish\\train\\OTHER\n",
      "data\\fish\\org\\OTHER\\img_05155.jpg --> data\\fish\\train\\OTHER\n",
      "data\\fish\\org\\OTHER\\img_05895.jpg --> data\\fish\\train\\OTHER\n",
      "data\\fish\\org\\OTHER\\img_06093.jpg --> data\\fish\\train\\OTHER\n",
      "data\\fish\\org\\OTHER\\img_04548.jpg --> data\\fish\\train\\OTHER\n",
      "data\\fish\\org\\OTHER\\img_00886.jpg --> data\\fish\\train\\OTHER\n",
      "data\\fish\\org\\OTHER\\img_07922.jpg --> data\\fish\\train\\OTHER\n",
      "data\\fish\\org\\OTHER\\img_06133.jpg --> data\\fish\\train\\OTHER\n",
      "data\\fish\\org\\OTHER\\img_01648.jpg --> data\\fish\\train\\OTHER\n",
      "data\\fish\\org\\OTHER\\img_00397.jpg --> data\\fish\\train\\OTHER\n",
      "data\\fish\\org\\OTHER\\img_06651.jpg --> data\\fish\\train\\OTHER\n",
      "data\\fish\\org\\OTHER\\img_02395.jpg --> data\\fish\\train\\OTHER\n",
      "data\\fish\\org\\OTHER\\img_04851.jpg --> data\\fish\\train\\OTHER\n",
      "data\\fish\\org\\OTHER\\img_07220.jpg --> data\\fish\\train\\OTHER\n",
      "data\\fish\\org\\OTHER\\img_05502.jpg --> data\\fish\\valid\\OTHER\n",
      "data\\fish\\org\\OTHER\\img_04652.jpg --> data\\fish\\valid\\OTHER\n",
      "data\\fish\\org\\OTHER\\img_02541.jpg --> data\\fish\\valid\\OTHER\n",
      "data\\fish\\org\\OTHER\\img_03951.jpg --> data\\fish\\valid\\OTHER\n",
      "data\\fish\\org\\OTHER\\img_01814.jpg --> data\\fish\\valid\\OTHER\n",
      "data\\fish\\org\\OTHER\\img_02691.jpg --> data\\fish\\valid\\OTHER\n",
      "data\\fish\\org\\OTHER\\img_04988.jpg --> data\\fish\\valid\\OTHER\n",
      "data\\fish\\org\\OTHER\\img_07399.jpg --> data\\fish\\valid\\OTHER\n",
      "data\\fish\\org\\OTHER\\img_02760.jpg --> data\\fish\\valid\\OTHER\n",
      "data\\fish\\org\\OTHER\\img_06199.jpg --> data\\fish\\valid\\OTHER\n",
      "data\\fish\\org\\OTHER\\img_03049.jpg --> data\\fish\\valid\\OTHER\n",
      "data\\fish\\org\\OTHER\\img_06584.jpg --> data\\fish\\valid\\OTHER\n",
      "data\\fish\\org\\OTHER\\img_02360.jpg --> data\\fish\\valid\\OTHER\n",
      "data\\fish\\org\\OTHER\\img_04992.jpg --> data\\fish\\valid\\OTHER\n",
      "data\\fish\\org\\OTHER\\img_07536.jpg --> data\\fish\\valid\\OTHER\n",
      "data\\fish\\org\\OTHER\\img_01349.jpg --> data\\fish\\valid\\OTHER\n",
      "data\\fish\\org\\OTHER\\img_00670.jpg --> data\\fish\\valid\\OTHER\n",
      "data\\fish\\org\\OTHER\\img_01526.jpg --> data\\fish\\valid\\OTHER\n",
      "data\\fish\\org\\OTHER\\img_05645.jpg --> data\\fish\\valid\\OTHER\n",
      "176 data\\fish\\org\\SHARK\n",
      "data\\fish\\org\\SHARK\\img_03385.jpg --> data\\fish\\train\\SHARK\n",
      "data\\fish\\org\\SHARK\\img_06523.jpg --> data\\fish\\train\\SHARK\n",
      "data\\fish\\org\\SHARK\\img_06821.jpg --> data\\fish\\train\\SHARK\n",
      "data\\fish\\org\\SHARK\\img_06124.jpg --> data\\fish\\train\\SHARK\n",
      "data\\fish\\org\\SHARK\\img_04170.jpg --> data\\fish\\train\\SHARK\n",
      "data\\fish\\org\\SHARK\\img_06082.jpg --> data\\fish\\train\\SHARK\n",
      "data\\fish\\org\\SHARK\\img_04535.jpg --> data\\fish\\train\\SHARK\n",
      "data\\fish\\org\\SHARK\\img_00478.jpg --> data\\fish\\train\\SHARK\n",
      "data\\fish\\org\\SHARK\\img_03971.jpg --> data\\fish\\train\\SHARK\n",
      "data\\fish\\org\\SHARK\\img_05126.jpg --> data\\fish\\train\\SHARK\n",
      "data\\fish\\org\\SHARK\\img_07056.jpg --> data\\fish\\train\\SHARK\n",
      "data\\fish\\org\\SHARK\\img_03525.jpg --> data\\fish\\train\\SHARK\n",
      "data\\fish\\org\\SHARK\\img_02114.jpg --> data\\fish\\train\\SHARK\n",
      "data\\fish\\org\\SHARK\\img_06686.jpg --> data\\fish\\train\\SHARK\n",
      "data\\fish\\org\\SHARK\\img_06303.jpg --> data\\fish\\train\\SHARK\n",
      "data\\fish\\org\\SHARK\\img_01881.jpg --> data\\fish\\train\\SHARK\n",
      "data\\fish\\org\\SHARK\\img_01780.jpg --> data\\fish\\train\\SHARK\n",
      "data\\fish\\org\\SHARK\\img_03770.jpg --> data\\fish\\train\\SHARK\n",
      "data\\fish\\org\\SHARK\\img_05762.jpg --> data\\fish\\train\\SHARK\n",
      "data\\fish\\org\\SHARK\\img_00247.jpg --> data\\fish\\train\\SHARK\n",
      "data\\fish\\org\\SHARK\\img_04857.jpg --> data\\fish\\train\\SHARK\n",
      "data\\fish\\org\\SHARK\\img_05900.jpg --> data\\fish\\train\\SHARK\n"
     ]
    },
    {
     "name": "stdout",
     "output_type": "stream",
     "text": [
      "data\\fish\\org\\SHARK\\img_00096.jpg --> data\\fish\\train\\SHARK\n",
      "data\\fish\\org\\SHARK\\img_00033.jpg --> data\\fish\\valid\\SHARK\n",
      "data\\fish\\org\\SHARK\\img_07533.jpg --> data\\fish\\valid\\SHARK\n",
      "data\\fish\\org\\SHARK\\img_02557.jpg --> data\\fish\\valid\\SHARK\n",
      "data\\fish\\org\\SHARK\\img_03131.jpg --> data\\fish\\valid\\SHARK\n",
      "data\\fish\\org\\SHARK\\img_01986.jpg --> data\\fish\\valid\\SHARK\n",
      "data\\fish\\org\\SHARK\\img_01916.jpg --> data\\fish\\valid\\SHARK\n",
      "data\\fish\\org\\SHARK\\img_01820.jpg --> data\\fish\\valid\\SHARK\n",
      "data\\fish\\org\\SHARK\\img_07080.jpg --> data\\fish\\valid\\SHARK\n",
      "data\\fish\\org\\SHARK\\img_06385.jpg --> data\\fish\\valid\\SHARK\n",
      "data\\fish\\org\\SHARK\\img_05019.jpg --> data\\fish\\valid\\SHARK\n",
      "data\\fish\\org\\SHARK\\img_06000.jpg --> data\\fish\\valid\\SHARK\n",
      "734 data\\fish\\org\\YFT\n",
      "data\\fish\\org\\YFT\\img_00217.jpg --> data\\fish\\train\\YFT\n",
      "data\\fish\\org\\YFT\\img_00801.jpg --> data\\fish\\train\\YFT\n",
      "data\\fish\\org\\YFT\\img_06846.jpg --> data\\fish\\train\\YFT\n",
      "data\\fish\\org\\YFT\\img_01974.jpg --> data\\fish\\train\\YFT\n",
      "data\\fish\\org\\YFT\\img_06763.jpg --> data\\fish\\train\\YFT\n",
      "data\\fish\\org\\YFT\\img_06156.jpg --> data\\fish\\train\\YFT\n",
      "data\\fish\\org\\YFT\\img_07613.jpg --> data\\fish\\train\\YFT\n",
      "data\\fish\\org\\YFT\\img_05624.jpg --> data\\fish\\train\\YFT\n",
      "data\\fish\\org\\YFT\\img_05333.jpg --> data\\fish\\train\\YFT\n",
      "data\\fish\\org\\YFT\\img_01335.jpg --> data\\fish\\train\\YFT\n",
      "data\\fish\\org\\YFT\\img_00439.jpg --> data\\fish\\train\\YFT\n",
      "data\\fish\\org\\YFT\\img_06980.jpg --> data\\fish\\train\\YFT\n",
      "data\\fish\\org\\YFT\\img_02858.jpg --> data\\fish\\train\\YFT\n",
      "data\\fish\\org\\YFT\\img_00803.jpg --> data\\fish\\train\\YFT\n",
      "data\\fish\\org\\YFT\\img_04046.jpg --> data\\fish\\train\\YFT\n",
      "data\\fish\\org\\YFT\\img_04394.jpg --> data\\fish\\train\\YFT\n",
      "data\\fish\\org\\YFT\\img_07555.jpg --> data\\fish\\train\\YFT\n",
      "data\\fish\\org\\YFT\\img_04249.jpg --> data\\fish\\train\\YFT\n",
      "data\\fish\\org\\YFT\\img_04765.jpg --> data\\fish\\train\\YFT\n",
      "data\\fish\\org\\YFT\\img_03464.jpg --> data\\fish\\train\\YFT\n",
      "data\\fish\\org\\YFT\\img_02579.jpg --> data\\fish\\train\\YFT\n",
      "data\\fish\\org\\YFT\\img_04267.jpg --> data\\fish\\train\\YFT\n",
      "data\\fish\\org\\YFT\\img_03622.jpg --> data\\fish\\train\\YFT\n",
      "data\\fish\\org\\YFT\\img_06487.jpg --> data\\fish\\train\\YFT\n",
      "data\\fish\\org\\YFT\\img_04594.jpg --> data\\fish\\train\\YFT\n",
      "data\\fish\\org\\YFT\\img_03388.jpg --> data\\fish\\train\\YFT\n",
      "data\\fish\\org\\YFT\\img_06535.jpg --> data\\fish\\train\\YFT\n",
      "data\\fish\\org\\YFT\\img_04241.jpg --> data\\fish\\train\\YFT\n",
      "data\\fish\\org\\YFT\\img_00092.jpg --> data\\fish\\train\\YFT\n",
      "data\\fish\\org\\YFT\\img_01492.jpg --> data\\fish\\train\\YFT\n",
      "data\\fish\\org\\YFT\\img_02104.jpg --> data\\fish\\train\\YFT\n",
      "data\\fish\\org\\YFT\\img_02806.jpg --> data\\fish\\train\\YFT\n",
      "data\\fish\\org\\YFT\\img_04911.jpg --> data\\fish\\train\\YFT\n",
      "data\\fish\\org\\YFT\\img_07655.jpg --> data\\fish\\train\\YFT\n",
      "data\\fish\\org\\YFT\\img_01938.jpg --> data\\fish\\train\\YFT\n",
      "data\\fish\\org\\YFT\\img_04077.jpg --> data\\fish\\train\\YFT\n",
      "data\\fish\\org\\YFT\\img_01370.jpg --> data\\fish\\train\\YFT\n",
      "data\\fish\\org\\YFT\\img_00806.jpg --> data\\fish\\train\\YFT\n",
      "data\\fish\\org\\YFT\\img_06782.jpg --> data\\fish\\train\\YFT\n",
      "data\\fish\\org\\YFT\\img_00253.jpg --> data\\fish\\train\\YFT\n",
      "data\\fish\\org\\YFT\\img_07344.jpg --> data\\fish\\train\\YFT\n",
      "data\\fish\\org\\YFT\\img_06339.jpg --> data\\fish\\train\\YFT\n",
      "data\\fish\\org\\YFT\\img_03407.jpg --> data\\fish\\train\\YFT\n",
      "data\\fish\\org\\YFT\\img_00815.jpg --> data\\fish\\train\\YFT\n",
      "data\\fish\\org\\YFT\\img_05506.jpg --> data\\fish\\train\\YFT\n",
      "data\\fish\\org\\YFT\\img_07569.jpg --> data\\fish\\train\\YFT\n",
      "data\\fish\\org\\YFT\\img_05036.jpg --> data\\fish\\train\\YFT\n",
      "data\\fish\\org\\YFT\\img_00139.jpg --> data\\fish\\train\\YFT\n",
      "data\\fish\\org\\YFT\\img_03185.jpg --> data\\fish\\train\\YFT\n",
      "data\\fish\\org\\YFT\\img_02962.jpg --> data\\fish\\train\\YFT\n",
      "data\\fish\\org\\YFT\\img_05307.jpg --> data\\fish\\train\\YFT\n",
      "data\\fish\\org\\YFT\\img_06048.jpg --> data\\fish\\train\\YFT\n",
      "data\\fish\\org\\YFT\\img_01429.jpg --> data\\fish\\train\\YFT\n",
      "data\\fish\\org\\YFT\\img_06988.jpg --> data\\fish\\train\\YFT\n",
      "data\\fish\\org\\YFT\\img_05102.jpg --> data\\fish\\train\\YFT\n",
      "data\\fish\\org\\YFT\\img_07208.jpg --> data\\fish\\train\\YFT\n",
      "data\\fish\\org\\YFT\\img_05122.jpg --> data\\fish\\train\\YFT\n",
      "data\\fish\\org\\YFT\\img_06407.jpg --> data\\fish\\train\\YFT\n",
      "data\\fish\\org\\YFT\\img_04626.jpg --> data\\fish\\train\\YFT\n",
      "data\\fish\\org\\YFT\\img_03015.jpg --> data\\fish\\train\\YFT\n",
      "data\\fish\\org\\YFT\\img_03898.jpg --> data\\fish\\train\\YFT\n",
      "data\\fish\\org\\YFT\\img_07069.jpg --> data\\fish\\train\\YFT\n",
      "data\\fish\\org\\YFT\\img_01087.jpg --> data\\fish\\train\\YFT\n",
      "data\\fish\\org\\YFT\\img_04801.jpg --> data\\fish\\train\\YFT\n",
      "data\\fish\\org\\YFT\\img_06486.jpg --> data\\fish\\train\\YFT\n",
      "data\\fish\\org\\YFT\\img_02014.jpg --> data\\fish\\train\\YFT\n",
      "data\\fish\\org\\YFT\\img_01634.jpg --> data\\fish\\train\\YFT\n",
      "data\\fish\\org\\YFT\\img_02525.jpg --> data\\fish\\train\\YFT\n",
      "data\\fish\\org\\YFT\\img_07602.jpg --> data\\fish\\train\\YFT\n",
      "data\\fish\\org\\YFT\\img_04367.jpg --> data\\fish\\train\\YFT\n",
      "data\\fish\\org\\YFT\\img_07340.jpg --> data\\fish\\train\\YFT\n",
      "data\\fish\\org\\YFT\\img_04281.jpg --> data\\fish\\train\\YFT\n",
      "data\\fish\\org\\YFT\\img_00287.jpg --> data\\fish\\train\\YFT\n",
      "data\\fish\\org\\YFT\\img_04159.jpg --> data\\fish\\train\\YFT\n",
      "data\\fish\\org\\YFT\\img_03480.jpg --> data\\fish\\train\\YFT\n",
      "data\\fish\\org\\YFT\\img_01769.jpg --> data\\fish\\train\\YFT\n",
      "data\\fish\\org\\YFT\\img_05787.jpg --> data\\fish\\train\\YFT\n",
      "data\\fish\\org\\YFT\\img_04096.jpg --> data\\fish\\train\\YFT\n",
      "data\\fish\\org\\YFT\\img_05892.jpg --> data\\fish\\train\\YFT\n",
      "data\\fish\\org\\YFT\\img_05913.jpg --> data\\fish\\train\\YFT\n",
      "data\\fish\\org\\YFT\\img_04381.jpg --> data\\fish\\train\\YFT\n",
      "data\\fish\\org\\YFT\\img_07624.jpg --> data\\fish\\train\\YFT\n",
      "data\\fish\\org\\YFT\\img_06406.jpg --> data\\fish\\train\\YFT\n",
      "data\\fish\\org\\YFT\\img_01700.jpg --> data\\fish\\train\\YFT\n",
      "data\\fish\\org\\YFT\\img_01573.jpg --> data\\fish\\train\\YFT\n",
      "data\\fish\\org\\YFT\\img_02713.jpg --> data\\fish\\train\\YFT\n",
      "data\\fish\\org\\YFT\\img_00069.jpg --> data\\fish\\train\\YFT\n",
      "data\\fish\\org\\YFT\\img_04217.jpg --> data\\fish\\train\\YFT\n",
      "data\\fish\\org\\YFT\\img_00522.jpg --> data\\fish\\train\\YFT\n",
      "data\\fish\\org\\YFT\\img_01301.jpg --> data\\fish\\train\\YFT\n",
      "data\\fish\\org\\YFT\\img_03035.jpg --> data\\fish\\train\\YFT\n",
      "data\\fish\\org\\YFT\\img_04730.jpg --> data\\fish\\train\\YFT\n",
      "data\\fish\\org\\YFT\\img_00696.jpg --> data\\fish\\train\\YFT\n",
      "data\\fish\\org\\YFT\\img_04802.jpg --> data\\fish\\train\\YFT\n",
      "data\\fish\\org\\YFT\\img_07854.jpg --> data\\fish\\train\\YFT\n",
      "data\\fish\\org\\YFT\\img_05024.jpg --> data\\fish\\train\\YFT\n",
      "data\\fish\\org\\YFT\\img_07530.jpg --> data\\fish\\train\\YFT\n",
      "data\\fish\\org\\YFT\\img_05329.jpg --> data\\fish\\valid\\YFT\n",
      "data\\fish\\org\\YFT\\img_07427.jpg --> data\\fish\\valid\\YFT\n",
      "data\\fish\\org\\YFT\\img_02642.jpg --> data\\fish\\valid\\YFT\n",
      "data\\fish\\org\\YFT\\img_06481.jpg --> data\\fish\\valid\\YFT\n",
      "data\\fish\\org\\YFT\\img_06729.jpg --> data\\fish\\valid\\YFT\n",
      "data\\fish\\org\\YFT\\img_05414.jpg --> data\\fish\\valid\\YFT\n",
      "data\\fish\\org\\YFT\\img_07541.jpg --> data\\fish\\valid\\YFT\n",
      "data\\fish\\org\\YFT\\img_00114.jpg --> data\\fish\\valid\\YFT\n",
      "data\\fish\\org\\YFT\\img_06326.jpg --> data\\fish\\valid\\YFT\n",
      "data\\fish\\org\\YFT\\img_06196.jpg --> data\\fish\\valid\\YFT\n",
      "data\\fish\\org\\YFT\\img_05574.jpg --> data\\fish\\valid\\YFT\n",
      "data\\fish\\org\\YFT\\img_07109.jpg --> data\\fish\\valid\\YFT\n",
      "data\\fish\\org\\YFT\\img_04302.jpg --> data\\fish\\valid\\YFT\n",
      "data\\fish\\org\\YFT\\img_01201.jpg --> data\\fish\\valid\\YFT\n",
      "data\\fish\\org\\YFT\\img_04087.jpg --> data\\fish\\valid\\YFT\n",
      "data\\fish\\org\\YFT\\img_01973.jpg --> data\\fish\\valid\\YFT\n",
      "data\\fish\\org\\YFT\\img_02067.jpg --> data\\fish\\valid\\YFT\n",
      "data\\fish\\org\\YFT\\img_02311.jpg --> data\\fish\\valid\\YFT\n",
      "data\\fish\\org\\YFT\\img_05729.jpg --> data\\fish\\valid\\YFT\n",
      "data\\fish\\org\\YFT\\img_04591.jpg --> data\\fish\\valid\\YFT\n",
      "data\\fish\\org\\YFT\\img_03396.jpg --> data\\fish\\valid\\YFT\n",
      "data\\fish\\org\\YFT\\img_03568.jpg --> data\\fish\\valid\\YFT\n",
      "data\\fish\\org\\YFT\\img_04933.jpg --> data\\fish\\valid\\YFT\n",
      "data\\fish\\org\\YFT\\img_01742.jpg --> data\\fish\\valid\\YFT\n",
      "data\\fish\\org\\YFT\\img_07025.jpg --> data\\fish\\valid\\YFT\n",
      "data\\fish\\org\\YFT\\img_04694.jpg --> data\\fish\\valid\\YFT\n",
      "data\\fish\\org\\YFT\\img_03963.jpg --> data\\fish\\valid\\YFT\n",
      "data\\fish\\org\\YFT\\img_06146.jpg --> data\\fish\\valid\\YFT\n",
      "data\\fish\\org\\YFT\\img_04230.jpg --> data\\fish\\valid\\YFT\n",
      "data\\fish\\org\\YFT\\img_06271.jpg --> data\\fish\\valid\\YFT\n",
      "data\\fish\\org\\YFT\\img_00312.jpg --> data\\fish\\valid\\YFT\n",
      "data\\fish\\org\\YFT\\img_05708.jpg --> data\\fish\\valid\\YFT\n",
      "data\\fish\\org\\YFT\\img_03782.jpg --> data\\fish\\valid\\YFT\n",
      "data\\fish\\org\\YFT\\img_07275.jpg --> data\\fish\\valid\\YFT\n",
      "data\\fish\\org\\YFT\\img_01403.jpg --> data\\fish\\valid\\YFT\n",
      "data\\fish\\org\\YFT\\img_07403.jpg --> data\\fish\\valid\\YFT\n",
      "data\\fish\\org\\YFT\\img_05245.jpg --> data\\fish\\valid\\YFT\n",
      "data\\fish\\org\\YFT\\img_07388.jpg --> data\\fish\\valid\\YFT\n",
      "data\\fish\\org\\YFT\\img_03938.jpg --> data\\fish\\valid\\YFT\n",
      "data\\fish\\org\\YFT\\img_05282.jpg --> data\\fish\\valid\\YFT\n",
      "data\\fish\\org\\YFT\\img_06854.jpg --> data\\fish\\valid\\YFT\n",
      "data\\fish\\org\\YFT\\img_00871.jpg --> data\\fish\\valid\\YFT\n",
      "data\\fish\\org\\YFT\\img_01113.jpg --> data\\fish\\valid\\YFT\n",
      "data\\fish\\org\\YFT\\img_07400.jpg --> data\\fish\\valid\\YFT\n",
      "data\\fish\\org\\YFT\\img_02958.jpg --> data\\fish\\valid\\YFT\n",
      "data\\fish\\org\\YFT\\img_00238.jpg --> data\\fish\\valid\\YFT\n",
      "data\\fish\\org\\YFT\\img_07315.jpg --> data\\fish\\valid\\YFT\n"
     ]
    },
    {
     "name": "stdout",
     "output_type": "stream",
     "text": [
      "data\\fish\\org\\YFT\\img_05676.jpg --> data\\fish\\valid\\YFT\n"
     ]
    }
   ],
   "source": [
    "import os\n",
    "import glob\n",
    "import numpy as np\n",
    "from pathlib import Path\n",
    "from shutil import copy\n",
    "\n",
    "source = [x for x in Path(path + '/org').iterdir() if x.is_dir()]\n",
    "target = {'train': 10, 'valid': 5}\n",
    "\n",
    "# create folders: train, valid\n",
    "for name in target.keys():\n",
    "    Path(path + '/' + name).mkdir(exist_ok = True)\n",
    "\n",
    "def drop(dst, src):\n",
    "    dst.mkdir(exist_ok = True) # ignore FileExistsrror\n",
    "    print(src, '-->', dst)\n",
    "    #copy(src, dst)\n",
    "\n",
    "for src in source: \n",
    "    imgs = sorted(Path(src).glob('*.jpg'))\n",
    "    print(len(imgs), src)\n",
    "    imgs = np.random.permutation(imgs)\n",
    "    total = np.sum(list(target.values())) * 5.0\n",
    "    start = 0\n",
    "    for key, val in target.items():\n",
    "        size = np.int32(len(imgs) * val / total)\n",
    "        dst = Path(path + '/' + key + '/' + src.name)\n",
    "        for index in range(0, size):\n",
    "            img = imgs[start + index]\n",
    "            drop(dst, img)\n",
    "        start += size\n"
   ]
  },
  {
   "cell_type": "code",
   "execution_count": 19,
   "metadata": {},
   "outputs": [
    {
     "name": "stdout",
     "output_type": "stream",
     "text": [
      "Found 499 images belonging to 8 classes.\n",
      "Found 247 images belonging to 8 classes.\n",
      "Found 499 images belonging to 8 classes.\n",
      "Found 247 images belonging to 8 classes.\n",
      "Found 1000 images belonging to 1 classes.\n"
     ]
    }
   ],
   "source": [
    "batches = get_batches(path + '/train', batch_size = batch_size)\n",
    "val_batches = get_batches(path + '/valid', batch_size = batch_size * 2, shuffle = False)\n",
    "\n",
    "(val_classes, trn_classes, val_labels, trn_labels, val_filenames, filenames, test_filenames) = get_classes(path + '/')"
   ]
  },
  {
   "cell_type": "markdown",
   "metadata": {},
   "source": [
    "Sometimes it's helpful to have just the filenames, without the path."
   ]
  },
  {
   "cell_type": "code",
   "execution_count": 213,
   "metadata": {},
   "outputs": [
    {
     "name": "stdout",
     "output_type": "stream",
     "text": [
      "ALB\\img_00019.jpg img_00019.jpg\n",
      "ALB\\img_00010.jpg img_00010.jpg\n"
     ]
    },
    {
     "ename": "IndexError",
     "evalue": "list index out of range",
     "output_type": "error",
     "traceback": [
      "\u001b[1;31m---------------------------------------------------------------------------\u001b[0m",
      "\u001b[1;31mIndexError\u001b[0m                                Traceback (most recent call last)",
      "\u001b[1;32m<ipython-input-213-db8c14040082>\u001b[0m in \u001b[0;36m<module>\u001b[1;34m()\u001b[0m\n\u001b[0;32m      4\u001b[0m \u001b[0mprint\u001b[0m\u001b[1;33m(\u001b[0m\u001b[0mfilenames\u001b[0m\u001b[1;33m[\u001b[0m\u001b[1;36m0\u001b[0m\u001b[1;33m]\u001b[0m\u001b[1;33m,\u001b[0m \u001b[0mraw_filenames\u001b[0m\u001b[1;33m[\u001b[0m\u001b[1;36m0\u001b[0m\u001b[1;33m]\u001b[0m\u001b[1;33m)\u001b[0m\u001b[1;33m\u001b[0m\u001b[0m\n\u001b[0;32m      5\u001b[0m \u001b[0mprint\u001b[0m\u001b[1;33m(\u001b[0m\u001b[0mval_filenames\u001b[0m\u001b[1;33m[\u001b[0m\u001b[1;36m0\u001b[0m\u001b[1;33m]\u001b[0m\u001b[1;33m,\u001b[0m \u001b[0mraw_val_filenames\u001b[0m\u001b[1;33m[\u001b[0m\u001b[1;36m0\u001b[0m\u001b[1;33m]\u001b[0m\u001b[1;33m)\u001b[0m\u001b[1;33m\u001b[0m\u001b[0m\n\u001b[1;32m----> 6\u001b[1;33m \u001b[0mprint\u001b[0m\u001b[1;33m(\u001b[0m\u001b[0mtest_filenames\u001b[0m\u001b[1;33m[\u001b[0m\u001b[1;36m0\u001b[0m\u001b[1;33m]\u001b[0m\u001b[1;33m,\u001b[0m \u001b[0mraw_test_filenames\u001b[0m\u001b[1;33m[\u001b[0m\u001b[1;36m0\u001b[0m\u001b[1;33m]\u001b[0m\u001b[1;33m)\u001b[0m\u001b[1;33m\u001b[0m\u001b[0m\n\u001b[0m",
      "\u001b[1;31mIndexError\u001b[0m: list index out of range"
     ]
    }
   ],
   "source": [
    "raw_filenames = [f.split(os.sep)[-1] for f in filenames]\n",
    "raw_test_filenames = [f.split(os.sep)[-1] for f in test_filenames]\n",
    "raw_val_filenames = [f.split(os.sep)[-1] for f in val_filenames]\n",
    "print(filenames[0], raw_filenames[0])\n",
    "print(val_filenames[0], raw_val_filenames[0])"
   ]
  },
  {
   "cell_type": "markdown",
   "metadata": {},
   "source": [
    "## vgg approach\n",
    "\n",
    "We start with our usual VGG approach. We will be using VGG with batch normalization. We explained how to add batch normalization to VGG in the [imagenet batch notebook]. VGG with batch normalization is implemented in [vgg_bn.py], and there is a version of vgg_ft (our fine tuning function) with batch norm called vgg_ft_bn in [util.py]."
   ]
  },
  {
   "cell_type": "markdown",
   "metadata": {},
   "source": [
    "### Initial model\n",
    "\n",
    "First we create a simple fine-tuned VGG model to be our starting point."
   ]
  },
  {
   "cell_type": "code",
   "execution_count": 114,
   "metadata": {
    "collapsed": true
   },
   "outputs": [],
   "source": [
    "from vgg16bn import Vgg16BN\n",
    "model = vgg_ft_bn(8)"
   ]
  },
  {
   "cell_type": "code",
   "execution_count": 99,
   "metadata": {},
   "outputs": [
    {
     "name": "stdout",
     "output_type": "stream",
     "text": [
      "Found 499 images belonging to 8 classes.\n",
      "Found 247 images belonging to 8 classes.\n"
     ]
    }
   ],
   "source": [
    "trn = get_data(path + '/train')\n",
    "val = get_data(path + '/valid')"
   ]
  },
  {
   "cell_type": "code",
   "execution_count": 107,
   "metadata": {},
   "outputs": [
    {
     "name": "stdout",
     "output_type": "stream",
     "text": [
      "Found 0 images belonging to 0 classes.\n"
     ]
    }
   ],
   "source": [
    "imp.reload(utils)\n",
    "from utils import *\n",
    "test = get_data(path + '/test')"
   ]
  },
  {
   "cell_type": "code",
   "execution_count": 108,
   "metadata": {
    "collapsed": true
   },
   "outputs": [],
   "source": [
    "save_array(path + '/results/trn.dat', trn)\n",
    "save_array(path + '/results/val.dat', val)"
   ]
  },
  {
   "cell_type": "code",
   "execution_count": 109,
   "metadata": {
    "collapsed": true
   },
   "outputs": [],
   "source": [
    "save_array(path + '/results/test.dat', test)"
   ]
  },
  {
   "cell_type": "code",
   "execution_count": 110,
   "metadata": {
    "collapsed": true
   },
   "outputs": [],
   "source": [
    "trn = load_array(path + '/results/trn.dat')\n",
    "val = load_array(path + '/results/val.dat')"
   ]
  },
  {
   "cell_type": "code",
   "execution_count": 111,
   "metadata": {
    "collapsed": true
   },
   "outputs": [],
   "source": [
    "test = load_array(path + '/results/test.dat')"
   ]
  },
  {
   "cell_type": "code",
   "execution_count": 112,
   "metadata": {
    "collapsed": true
   },
   "outputs": [],
   "source": [
    "gen = image.ImageDataGenerator()"
   ]
  },
  {
   "cell_type": "code",
   "execution_count": 116,
   "metadata": {
    "collapsed": true
   },
   "outputs": [],
   "source": [
    "model.compile(optimizer = Adam(1e-3), loss = 'categorical_crossentropy', metrics = ['accuracy'])"
   ]
  },
  {
   "cell_type": "code",
   "execution_count": null,
   "metadata": {},
   "outputs": [
    {
     "name": "stdout",
     "output_type": "stream",
     "text": [
      "Train on 499 samples, validate on 247 samples\n",
      "Epoch 1/3\n"
     ]
    }
   ],
   "source": [
    "model.fit(trn, trn_labels, batch_size = batch_size, epochs = 3, validation_data = (val, val_labels))"
   ]
  },
  {
   "cell_type": "code",
   "execution_count": 118,
   "metadata": {
    "collapsed": true
   },
   "outputs": [],
   "source": [
    "model.save_weights(path + '/results/ft1.h5')"
   ]
  },
  {
   "cell_type": "markdown",
   "metadata": {},
   "source": [
    "### Precompute convolutional output\n",
    "\n",
    "We pre-compute the output of the last convolution layer of VGG, since we're unlikely to need to fine-tune those layers. (All following analysis will be done on just the pre-computed convolutional features.)"
   ]
  },
  {
   "cell_type": "code",
   "execution_count": 120,
   "metadata": {
    "collapsed": true
   },
   "outputs": [],
   "source": [
    "model.load_weights(path + '/results/ft1.h5')"
   ]
  },
  {
   "cell_type": "code",
   "execution_count": 123,
   "metadata": {
    "collapsed": true
   },
   "outputs": [],
   "source": [
    "conv_layers, fc_layers = split_at(model, Convolution2D)"
   ]
  },
  {
   "cell_type": "code",
   "execution_count": 124,
   "metadata": {
    "collapsed": true
   },
   "outputs": [],
   "source": [
    "conv_model = Sequential(conv_layers)"
   ]
  },
  {
   "cell_type": "code",
   "execution_count": 125,
   "metadata": {
    "collapsed": true
   },
   "outputs": [],
   "source": [
    "conv_feat = conv_model.predict(trn)\n",
    "conv_val_feat = conv_model.predict(val)"
   ]
  },
  {
   "cell_type": "code",
   "execution_count": 126,
   "metadata": {},
   "outputs": [
    {
     "ename": "ValueError",
     "evalue": "Error when checking : expected lambda_2_input to have 4 dimensions, but got array with shape (0, 1)",
     "output_type": "error",
     "traceback": [
      "\u001b[1;31m---------------------------------------------------------------------------\u001b[0m",
      "\u001b[1;31mValueError\u001b[0m                                Traceback (most recent call last)",
      "\u001b[1;32m<ipython-input-126-3c25de9469b8>\u001b[0m in \u001b[0;36m<module>\u001b[1;34m()\u001b[0m\n\u001b[1;32m----> 1\u001b[1;33m \u001b[0mconv_test_feat\u001b[0m \u001b[1;33m=\u001b[0m \u001b[0mconv_model\u001b[0m\u001b[1;33m.\u001b[0m\u001b[0mpredict\u001b[0m\u001b[1;33m(\u001b[0m\u001b[0mtest\u001b[0m\u001b[1;33m)\u001b[0m\u001b[1;33m\u001b[0m\u001b[0m\n\u001b[0m",
      "\u001b[1;32mC:\\Users\\hjkim\\Anaconda3\\lib\\site-packages\\keras-2.0.8-py3.6.egg\\keras\\models.py\u001b[0m in \u001b[0;36mpredict\u001b[1;34m(self, x, batch_size, verbose)\u001b[0m\n\u001b[0;32m    915\u001b[0m         \u001b[1;32mif\u001b[0m \u001b[1;32mnot\u001b[0m \u001b[0mself\u001b[0m\u001b[1;33m.\u001b[0m\u001b[0mbuilt\u001b[0m\u001b[1;33m:\u001b[0m\u001b[1;33m\u001b[0m\u001b[0m\n\u001b[0;32m    916\u001b[0m             \u001b[0mself\u001b[0m\u001b[1;33m.\u001b[0m\u001b[0mbuild\u001b[0m\u001b[1;33m(\u001b[0m\u001b[1;33m)\u001b[0m\u001b[1;33m\u001b[0m\u001b[0m\n\u001b[1;32m--> 917\u001b[1;33m         \u001b[1;32mreturn\u001b[0m \u001b[0mself\u001b[0m\u001b[1;33m.\u001b[0m\u001b[0mmodel\u001b[0m\u001b[1;33m.\u001b[0m\u001b[0mpredict\u001b[0m\u001b[1;33m(\u001b[0m\u001b[0mx\u001b[0m\u001b[1;33m,\u001b[0m \u001b[0mbatch_size\u001b[0m\u001b[1;33m=\u001b[0m\u001b[0mbatch_size\u001b[0m\u001b[1;33m,\u001b[0m \u001b[0mverbose\u001b[0m\u001b[1;33m=\u001b[0m\u001b[0mverbose\u001b[0m\u001b[1;33m)\u001b[0m\u001b[1;33m\u001b[0m\u001b[0m\n\u001b[0m\u001b[0;32m    918\u001b[0m \u001b[1;33m\u001b[0m\u001b[0m\n\u001b[0;32m    919\u001b[0m     \u001b[1;32mdef\u001b[0m \u001b[0mpredict_on_batch\u001b[0m\u001b[1;33m(\u001b[0m\u001b[0mself\u001b[0m\u001b[1;33m,\u001b[0m \u001b[0mx\u001b[0m\u001b[1;33m)\u001b[0m\u001b[1;33m:\u001b[0m\u001b[1;33m\u001b[0m\u001b[0m\n",
      "\u001b[1;32mC:\\Users\\hjkim\\Anaconda3\\lib\\site-packages\\keras-2.0.8-py3.6.egg\\keras\\engine\\training.py\u001b[0m in \u001b[0;36mpredict\u001b[1;34m(self, x, batch_size, verbose, steps)\u001b[0m\n\u001b[0;32m   1697\u001b[0m         x = _standardize_input_data(x, self._feed_input_names,\n\u001b[0;32m   1698\u001b[0m                                     \u001b[0mself\u001b[0m\u001b[1;33m.\u001b[0m\u001b[0m_feed_input_shapes\u001b[0m\u001b[1;33m,\u001b[0m\u001b[1;33m\u001b[0m\u001b[0m\n\u001b[1;32m-> 1699\u001b[1;33m                                     check_batch_axis=False)\n\u001b[0m\u001b[0;32m   1700\u001b[0m         \u001b[1;32mif\u001b[0m \u001b[0mself\u001b[0m\u001b[1;33m.\u001b[0m\u001b[0mstateful\u001b[0m\u001b[1;33m:\u001b[0m\u001b[1;33m\u001b[0m\u001b[0m\n\u001b[0;32m   1701\u001b[0m             \u001b[1;32mif\u001b[0m \u001b[0mx\u001b[0m\u001b[1;33m[\u001b[0m\u001b[1;36m0\u001b[0m\u001b[1;33m]\u001b[0m\u001b[1;33m.\u001b[0m\u001b[0mshape\u001b[0m\u001b[1;33m[\u001b[0m\u001b[1;36m0\u001b[0m\u001b[1;33m]\u001b[0m \u001b[1;33m>\u001b[0m \u001b[0mbatch_size\u001b[0m \u001b[1;32mand\u001b[0m \u001b[0mx\u001b[0m\u001b[1;33m[\u001b[0m\u001b[1;36m0\u001b[0m\u001b[1;33m]\u001b[0m\u001b[1;33m.\u001b[0m\u001b[0mshape\u001b[0m\u001b[1;33m[\u001b[0m\u001b[1;36m0\u001b[0m\u001b[1;33m]\u001b[0m \u001b[1;33m%\u001b[0m \u001b[0mbatch_size\u001b[0m \u001b[1;33m!=\u001b[0m \u001b[1;36m0\u001b[0m\u001b[1;33m:\u001b[0m\u001b[1;33m\u001b[0m\u001b[0m\n",
      "\u001b[1;32mC:\\Users\\hjkim\\Anaconda3\\lib\\site-packages\\keras-2.0.8-py3.6.egg\\keras\\engine\\training.py\u001b[0m in \u001b[0;36m_standardize_input_data\u001b[1;34m(data, names, shapes, check_batch_axis, exception_prefix)\u001b[0m\n\u001b[0;32m    130\u001b[0m                                  \u001b[1;34m' to have '\u001b[0m \u001b[1;33m+\u001b[0m \u001b[0mstr\u001b[0m\u001b[1;33m(\u001b[0m\u001b[0mlen\u001b[0m\u001b[1;33m(\u001b[0m\u001b[0mshapes\u001b[0m\u001b[1;33m[\u001b[0m\u001b[0mi\u001b[0m\u001b[1;33m]\u001b[0m\u001b[1;33m)\u001b[0m\u001b[1;33m)\u001b[0m \u001b[1;33m+\u001b[0m\u001b[1;33m\u001b[0m\u001b[0m\n\u001b[0;32m    131\u001b[0m                                  \u001b[1;34m' dimensions, but got array with shape '\u001b[0m \u001b[1;33m+\u001b[0m\u001b[1;33m\u001b[0m\u001b[0m\n\u001b[1;32m--> 132\u001b[1;33m                                  str(array.shape))\n\u001b[0m\u001b[0;32m    133\u001b[0m             \u001b[1;32mfor\u001b[0m \u001b[0mj\u001b[0m\u001b[1;33m,\u001b[0m \u001b[1;33m(\u001b[0m\u001b[0mdim\u001b[0m\u001b[1;33m,\u001b[0m \u001b[0mref_dim\u001b[0m\u001b[1;33m)\u001b[0m \u001b[1;32min\u001b[0m \u001b[0menumerate\u001b[0m\u001b[1;33m(\u001b[0m\u001b[0mzip\u001b[0m\u001b[1;33m(\u001b[0m\u001b[0marray\u001b[0m\u001b[1;33m.\u001b[0m\u001b[0mshape\u001b[0m\u001b[1;33m,\u001b[0m \u001b[0mshapes\u001b[0m\u001b[1;33m[\u001b[0m\u001b[0mi\u001b[0m\u001b[1;33m]\u001b[0m\u001b[1;33m)\u001b[0m\u001b[1;33m)\u001b[0m\u001b[1;33m:\u001b[0m\u001b[1;33m\u001b[0m\u001b[0m\n\u001b[0;32m    134\u001b[0m                 \u001b[1;32mif\u001b[0m \u001b[1;32mnot\u001b[0m \u001b[0mj\u001b[0m \u001b[1;32mand\u001b[0m \u001b[1;32mnot\u001b[0m \u001b[0mcheck_batch_axis\u001b[0m\u001b[1;33m:\u001b[0m\u001b[1;33m\u001b[0m\u001b[0m\n",
      "\u001b[1;31mValueError\u001b[0m: Error when checking : expected lambda_2_input to have 4 dimensions, but got array with shape (0, 1)"
     ]
    }
   ],
   "source": [
    "conv_test_feat = conv_model.predict(test)"
   ]
  },
  {
   "cell_type": "code",
   "execution_count": 127,
   "metadata": {
    "collapsed": true
   },
   "outputs": [],
   "source": [
    "save_array(path + '/results/conv_feat.dat', conv_feat)\n",
    "save_array(path + '/results/conv_val_feat.dat', conv_val_feat)"
   ]
  },
  {
   "cell_type": "code",
   "execution_count": null,
   "metadata": {
    "collapsed": true
   },
   "outputs": [],
   "source": [
    "save_array(path + '/results/conv_test_feat.dat', conv_test_feat)"
   ]
  },
  {
   "cell_type": "code",
   "execution_count": 128,
   "metadata": {
    "collapsed": true
   },
   "outputs": [],
   "source": [
    "conv_feat = load_array(path + '/results/conv_feat.dat')\n",
    "conv_val_feat = load_array(path + '/results/conv_val_feat.dat')"
   ]
  },
  {
   "cell_type": "code",
   "execution_count": 130,
   "metadata": {},
   "outputs": [
    {
     "ename": "FileNotFoundError",
     "evalue": "[Errno 2] No such file or directory: './data/fish/results/conv_test_feat.dat\\\\meta\\\\sizes'",
     "output_type": "error",
     "traceback": [
      "\u001b[1;31m---------------------------------------------------------------------------\u001b[0m",
      "\u001b[1;31mFileNotFoundError\u001b[0m                         Traceback (most recent call last)",
      "\u001b[1;32m<ipython-input-130-53f246d822d6>\u001b[0m in \u001b[0;36m<module>\u001b[1;34m()\u001b[0m\n\u001b[1;32m----> 1\u001b[1;33m \u001b[0mconv_test_feat\u001b[0m \u001b[1;33m=\u001b[0m \u001b[0mload_array\u001b[0m\u001b[1;33m(\u001b[0m\u001b[0mpath\u001b[0m \u001b[1;33m+\u001b[0m \u001b[1;34m'/results/conv_test_feat.dat'\u001b[0m\u001b[1;33m)\u001b[0m\u001b[1;33m\u001b[0m\u001b[0m\n\u001b[0m",
      "\u001b[1;32mG:\\Users\\hjkim\\Documents\\Python Scripts\\fastai\\courses\\deeplearning1\\nbs\\utils.py\u001b[0m in \u001b[0;36mload_array\u001b[1;34m(fname)\u001b[0m\n\u001b[0;32m    186\u001b[0m \u001b[1;33m\u001b[0m\u001b[0m\n\u001b[0;32m    187\u001b[0m \u001b[1;32mdef\u001b[0m \u001b[0mload_array\u001b[0m\u001b[1;33m(\u001b[0m\u001b[0mfname\u001b[0m\u001b[1;33m)\u001b[0m\u001b[1;33m:\u001b[0m\u001b[1;33m\u001b[0m\u001b[0m\n\u001b[1;32m--> 188\u001b[1;33m     \u001b[1;32mreturn\u001b[0m \u001b[0mbcolz\u001b[0m\u001b[1;33m.\u001b[0m\u001b[0mopen\u001b[0m\u001b[1;33m(\u001b[0m\u001b[0mfname\u001b[0m\u001b[1;33m)\u001b[0m\u001b[1;33m[\u001b[0m\u001b[1;33m:\u001b[0m\u001b[1;33m]\u001b[0m\u001b[1;33m\u001b[0m\u001b[0m\n\u001b[0m\u001b[0;32m    189\u001b[0m \u001b[1;33m\u001b[0m\u001b[0m\n\u001b[0;32m    190\u001b[0m \u001b[1;33m\u001b[0m\u001b[0m\n",
      "\u001b[1;32mC:\\Users\\hjkim\\Anaconda3\\lib\\site-packages\\bcolz\\toplevel.py\u001b[0m in \u001b[0;36mopen\u001b[1;34m(rootdir, mode)\u001b[0m\n\u001b[0;32m    138\u001b[0m         \u001b[1;32mreturn\u001b[0m \u001b[0mbcolz\u001b[0m\u001b[1;33m.\u001b[0m\u001b[0mctable\u001b[0m\u001b[1;33m(\u001b[0m\u001b[0mrootdir\u001b[0m\u001b[1;33m=\u001b[0m\u001b[0mrootdir\u001b[0m\u001b[1;33m,\u001b[0m \u001b[0mmode\u001b[0m\u001b[1;33m=\u001b[0m\u001b[0mmode\u001b[0m\u001b[1;33m)\u001b[0m\u001b[1;33m\u001b[0m\u001b[0m\n\u001b[0;32m    139\u001b[0m     \u001b[1;32melse\u001b[0m\u001b[1;33m:\u001b[0m\u001b[1;33m\u001b[0m\u001b[0m\n\u001b[1;32m--> 140\u001b[1;33m         \u001b[1;32mreturn\u001b[0m \u001b[0mbcolz\u001b[0m\u001b[1;33m.\u001b[0m\u001b[0mcarray\u001b[0m\u001b[1;33m(\u001b[0m\u001b[0mrootdir\u001b[0m\u001b[1;33m=\u001b[0m\u001b[0mrootdir\u001b[0m\u001b[1;33m,\u001b[0m \u001b[0mmode\u001b[0m\u001b[1;33m=\u001b[0m\u001b[0mmode\u001b[0m\u001b[1;33m)\u001b[0m\u001b[1;33m\u001b[0m\u001b[0m\n\u001b[0m\u001b[0;32m    141\u001b[0m \u001b[1;33m\u001b[0m\u001b[0m\n\u001b[0;32m    142\u001b[0m \u001b[1;33m\u001b[0m\u001b[0m\n",
      "\u001b[1;32mbcolz/carray_ext.pyx\u001b[0m in \u001b[0;36mbcolz.carray_ext.carray.__cinit__ (bcolz\\carray_ext.c:14879)\u001b[1;34m()\u001b[0m\n",
      "\u001b[1;32mbcolz/carray_ext.pyx\u001b[0m in \u001b[0;36mbcolz.carray_ext.carray._read_meta (bcolz\\carray_ext.c:19583)\u001b[1;34m()\u001b[0m\n",
      "\u001b[1;31mFileNotFoundError\u001b[0m: [Errno 2] No such file or directory: './data/fish/results/conv_test_feat.dat\\\\meta\\\\sizes'"
     ]
    }
   ],
   "source": [
    "conv_test_feat = load_array(path + '/results/conv_test_feat.dat')"
   ]
  },
  {
   "cell_type": "code",
   "execution_count": 129,
   "metadata": {},
   "outputs": [
    {
     "data": {
      "text/plain": [
       "(247, 512, 14, 14)"
      ]
     },
     "execution_count": 129,
     "metadata": {},
     "output_type": "execute_result"
    }
   ],
   "source": [
    "conv_val_feat.shape"
   ]
  },
  {
   "cell_type": "markdown",
   "metadata": {},
   "source": [
    "### Train model\n",
    "\n",
    "We can now create our first baseline model - a simple 3-layer FC net."
   ]
  },
  {
   "cell_type": "code",
   "execution_count": 130,
   "metadata": {
    "collapsed": true
   },
   "outputs": [],
   "source": [
    "def get_bn_layers(p):\n",
    "    return [\n",
    "        MaxPooling2D(input_shape = conv_layers[-1].output_shape[1:]),\n",
    "        BatchNormalization(axis = 1),\n",
    "        Dropout(p/4),\n",
    "        Flatten(),\n",
    "        Dense(512, activation = 'relu'),\n",
    "        BatchNormalization(),\n",
    "        Dropout(p),\n",
    "        Dense(512, activation = 'relu'),\n",
    "        BatchNormalization(),\n",
    "        Dropout(p/2),\n",
    "        Dense(8, activation = 'softmax')\n",
    "    ]"
   ]
  },
  {
   "cell_type": "code",
   "execution_count": 131,
   "metadata": {
    "collapsed": true
   },
   "outputs": [],
   "source": [
    "p = 0.6"
   ]
  },
  {
   "cell_type": "code",
   "execution_count": 134,
   "metadata": {
    "collapsed": true
   },
   "outputs": [],
   "source": [
    "bn_model = Sequential(get_bn_layers(p))\n",
    "bn_model.compile(Adam(lr = 0.001), loss = 'categorical_crossentropy', metrics = ['accuracy'])"
   ]
  },
  {
   "cell_type": "code",
   "execution_count": 136,
   "metadata": {},
   "outputs": [
    {
     "name": "stdout",
     "output_type": "stream",
     "text": [
      "Train on 499 samples, validate on 247 samples\n",
      "Epoch 1/3\n",
      "499/499 [==============================] - 12s - loss: 2.1535 - acc: 0.3487 - val_loss: 5.0908 - val_acc: 0.5142\n",
      "Epoch 2/3\n",
      "499/499 [==============================] - 8s - loss: 1.0238 - acc: 0.6794 - val_loss: 3.1890 - val_acc: 0.6680\n",
      "Epoch 3/3\n",
      "499/499 [==============================] - 8s - loss: 0.5626 - acc: 0.8216 - val_loss: 2.5735 - val_acc: 0.7409\n"
     ]
    },
    {
     "data": {
      "text/plain": [
       "<keras.callbacks.History at 0x28309dd8>"
      ]
     },
     "execution_count": 136,
     "metadata": {},
     "output_type": "execute_result"
    }
   ],
   "source": [
    "bn_model.fit(conv_feat, trn_labels, batch_size = batch_size, epochs = 3, validation_data = (conv_val_feat, val_labels))"
   ]
  },
  {
   "cell_type": "code",
   "execution_count": 137,
   "metadata": {
    "collapsed": true
   },
   "outputs": [],
   "source": [
    "bn_model.optimizer.lr = 1e-4"
   ]
  },
  {
   "cell_type": "code",
   "execution_count": 139,
   "metadata": {},
   "outputs": [
    {
     "name": "stdout",
     "output_type": "stream",
     "text": [
      "Train on 499 samples, validate on 247 samples\n",
      "Epoch 1/7\n",
      "499/499 [==============================] - 8s - loss: 0.3562 - acc: 0.8958 - val_loss: 1.9846 - val_acc: 0.7328\n",
      "Epoch 2/7\n",
      "499/499 [==============================] - 8s - loss: 0.2468 - acc: 0.9339 - val_loss: 1.5597 - val_acc: 0.7773\n",
      "Epoch 3/7\n",
      "499/499 [==============================] - 8s - loss: 0.1831 - acc: 0.9499 - val_loss: 1.4672 - val_acc: 0.8057\n",
      "Epoch 4/7\n",
      "499/499 [==============================] - 8s - loss: 0.1015 - acc: 0.9659 - val_loss: 1.2804 - val_acc: 0.8016\n",
      "Epoch 5/7\n",
      "499/499 [==============================] - 8s - loss: 0.0861 - acc: 0.9800 - val_loss: 1.1444 - val_acc: 0.8219\n",
      "Epoch 6/7\n",
      "499/499 [==============================] - 8s - loss: 0.0568 - acc: 0.9840 - val_loss: 1.0872 - val_acc: 0.8300\n",
      "Epoch 7/7\n",
      "499/499 [==============================] - 8s - loss: 0.0601 - acc: 0.9880 - val_loss: 1.0682 - val_acc: 0.8462\n"
     ]
    },
    {
     "data": {
      "text/plain": [
       "<keras.callbacks.History at 0x1c809b38>"
      ]
     },
     "execution_count": 139,
     "metadata": {},
     "output_type": "execute_result"
    }
   ],
   "source": [
    "bn_model.fit(conv_feat, trn_labels, batch_size = batch_size, epochs = 7, validation_data = (conv_val_feat, val_labels))"
   ]
  },
  {
   "cell_type": "code",
   "execution_count": 141,
   "metadata": {
    "collapsed": true
   },
   "outputs": [],
   "source": [
    "bn_model.save_weights(path + '/models/conv_512_6.h5')"
   ]
  },
  {
   "cell_type": "code",
   "execution_count": 143,
   "metadata": {},
   "outputs": [
    {
     "name": "stdout",
     "output_type": "stream",
     "text": [
      "247/247 [==============================] - 2s     \n"
     ]
    },
    {
     "data": {
      "text/plain": [
       "[1.0681925703156814, 0.84615384542990313]"
      ]
     },
     "execution_count": 143,
     "metadata": {},
     "output_type": "execute_result"
    }
   ],
   "source": [
    "bn_model.evaluate(conv_val_feat, val_labels)"
   ]
  },
  {
   "cell_type": "code",
   "execution_count": 144,
   "metadata": {
    "collapsed": true
   },
   "outputs": [],
   "source": [
    "bn_model.load_weights(path + '/models/conv_512_6.h5')"
   ]
  },
  {
   "cell_type": "markdown",
   "metadata": {},
   "source": [
    "## Multi input\n",
    "\n",
    "The images are of different sizes, which are likely to represent the boat they came from (since diffent boats will be use different cameras). Perhaps this creates some data leakage that we can take advantage of to get a better Kaggle leaderboard position> To find out, first we create arrays of the file sizes for each image:"
   ]
  },
  {
   "cell_type": "code",
   "execution_count": 153,
   "metadata": {
    "collapsed": true
   },
   "outputs": [],
   "source": [
    "sizes = [PIL.Image.open(path + '/train/' + f).size for f in filenames]\n",
    "id2size = list(set(sizes))\n",
    "size2id = {o:i for i,o in enumerate(id2size)}"
   ]
  },
  {
   "cell_type": "code",
   "execution_count": 154,
   "metadata": {},
   "outputs": [
    {
     "data": {
      "text/plain": [
       "Counter({(1192, 670): 22,\n",
       "         (1244, 700): 1,\n",
       "         (1276, 718): 32,\n",
       "         (1280, 720): 285,\n",
       "         (1280, 750): 89,\n",
       "         (1280, 924): 10,\n",
       "         (1280, 974): 47,\n",
       "         (1334, 750): 4,\n",
       "         (1518, 854): 7,\n",
       "         (1732, 974): 2})"
      ]
     },
     "execution_count": 154,
     "metadata": {},
     "output_type": "execute_result"
    }
   ],
   "source": [
    "import collections\n",
    "collections.Counter(sizes)"
   ]
  },
  {
   "cell_type": "markdown",
   "metadata": {},
   "source": [
    "Then we one-hot encode them (since we want to treat them as categorical) and normalize the data."
   ]
  },
  {
   "cell_type": "code",
   "execution_count": 155,
   "metadata": {
    "collapsed": true
   },
   "outputs": [],
   "source": [
    "trn_sizes_orig = to_categorical([size2id[o] for o in sizes], len(id2size))"
   ]
  },
  {
   "cell_type": "code",
   "execution_count": 157,
   "metadata": {
    "collapsed": true,
    "scrolled": true
   },
   "outputs": [],
   "source": [
    "raw_val_sizes = [PIL.Image.open(path + '/valid/' + f).size for f in val_filenames]\n",
    "val_sizes = to_categorical([size2id[o] for o in raw_val_sizes], len(id2size))"
   ]
  },
  {
   "cell_type": "code",
   "execution_count": 158,
   "metadata": {
    "collapsed": true
   },
   "outputs": [],
   "source": [
    "trn_sizes = trn_sizes_orig - trn_sizes_orig.mean(axis = 0) / trn_sizes_orig.std(axis = 0)\n",
    "val_sizes = val_sizes - trn_sizes_orig.mean(axis = 0) / trn_sizes_orig.std(axis = 0)"
   ]
  },
  {
   "cell_type": "markdown",
   "metadata": {},
   "source": [
    "To use this additional \"meta-data\", we create a model with multiple input layers - sz_inp will be our input for the size information."
   ]
  },
  {
   "cell_type": "code",
   "execution_count": 159,
   "metadata": {
    "collapsed": true
   },
   "outputs": [],
   "source": [
    "p = 0.6"
   ]
  },
  {
   "cell_type": "code",
   "execution_count": 163,
   "metadata": {},
   "outputs": [
    {
     "name": "stderr",
     "output_type": "stream",
     "text": [
      "C:\\Users\\hjkim\\Anaconda3\\lib\\site-packages\\ipykernel_launcher.py:15: UserWarning: The `merge` function is deprecated and will be removed after 08/2017. Use instead layers from `keras.layers.merge`, e.g. `add`, `concatenate`, etc.\n",
      "  from ipykernel import kernelapp as app\n",
      "C:\\Users\\hjkim\\Anaconda3\\lib\\site-packages\\keras-2.0.8-py3.6.egg\\keras\\legacy\\layers.py:458: UserWarning: The `Merge` layer is deprecated and will be removed after 08/2017. Use instead layers from `keras.layers.merge`, e.g. `add`, `concatenate`, etc.\n"
     ]
    }
   ],
   "source": [
    "inp = Input(conv_layers[-1].output_shape[1:])\n",
    "sz_inp = Input((len(id2size),))\n",
    "bn_inp = BatchNormalization()(sz_inp)\n",
    "\n",
    "x = MaxPooling2D()(inp)\n",
    "x = BatchNormalization(axis = 1)(x)\n",
    "x = Dropout(p/4)(x)\n",
    "x = Flatten()(x)\n",
    "x = Dense(512, activation = 'relu')(x)\n",
    "x = BatchNormalization()(x)\n",
    "x = Dropout(p)(x)\n",
    "x = Dense(512, activation = 'relu')(x)\n",
    "x = BatchNormalization()(x)\n",
    "x = Dropout(p/2)(x)\n",
    "x = merge([x, bn_inp], 'concat')\n",
    "x = Dense(8, activation = 'softmax')(x)"
   ]
  },
  {
   "cell_type": "markdown",
   "metadata": {},
   "source": [
    "When we compile the model, we have to specify all the input layers in an array."
   ]
  },
  {
   "cell_type": "code",
   "execution_count": 165,
   "metadata": {
    "collapsed": true
   },
   "outputs": [],
   "source": [
    "model = Model([inp, sz_inp], x)\n",
    "model.compile(Adam(lr = 0.001), loss = 'categorical_crossentropy', metrics = ['accuracy'])"
   ]
  },
  {
   "cell_type": "markdown",
   "metadata": {},
   "source": [
    "Adn when we train the model, we have to provide all the input layer's data in an array."
   ]
  },
  {
   "cell_type": "code",
   "execution_count": 166,
   "metadata": {},
   "outputs": [
    {
     "name": "stdout",
     "output_type": "stream",
     "text": [
      "Train on 499 samples, validate on 247 samples\n",
      "Epoch 1/3\n",
      "499/499 [==============================] - 13s - loss: 2.2043 - acc: 0.3467 - val_loss: 4.9715 - val_acc: 0.5466\n",
      "Epoch 2/3\n",
      "499/499 [==============================] - 8s - loss: 1.0147 - acc: 0.6774 - val_loss: 2.7582 - val_acc: 0.7126\n",
      "Epoch 3/3\n",
      "499/499 [==============================] - 8s - loss: 0.7118 - acc: 0.7816 - val_loss: 2.1437 - val_acc: 0.7611\n"
     ]
    },
    {
     "data": {
      "text/plain": [
       "<keras.callbacks.History at 0x29906a90>"
      ]
     },
     "execution_count": 166,
     "metadata": {},
     "output_type": "execute_result"
    }
   ],
   "source": [
    "model.fit([conv_feat, trn_sizes], trn_labels, batch_size = batch_size, epochs = 3, validation_data = ([conv_val_feat, val_sizes], val_labels))"
   ]
  },
  {
   "cell_type": "code",
   "execution_count": 167,
   "metadata": {
    "collapsed": true
   },
   "outputs": [],
   "source": [
    "bn_model.optimizer.lr = 1e-4"
   ]
  },
  {
   "cell_type": "code",
   "execution_count": 170,
   "metadata": {},
   "outputs": [
    {
     "name": "stdout",
     "output_type": "stream",
     "text": [
      "Train on 499 samples, validate on 247 samples\n",
      "Epoch 1/8\n",
      "499/499 [==============================] - 8s - loss: 0.0342 - acc: 0.9960 - val_loss: 1.0334 - val_acc: 0.8462\n",
      "Epoch 2/8\n",
      "499/499 [==============================] - 8s - loss: 0.0404 - acc: 0.9900 - val_loss: 0.9796 - val_acc: 0.8462\n",
      "Epoch 3/8\n",
      "499/499 [==============================] - 9s - loss: 0.0218 - acc: 0.9980 - val_loss: 0.9534 - val_acc: 0.8502\n",
      "Epoch 4/8\n",
      "499/499 [==============================] - 8s - loss: 0.0312 - acc: 0.9920 - val_loss: 0.9105 - val_acc: 0.8502\n",
      "Epoch 5/8\n",
      "499/499 [==============================] - 8s - loss: 0.0150 - acc: 0.9980 - val_loss: 0.8912 - val_acc: 0.8502\n",
      "Epoch 6/8\n",
      "499/499 [==============================] - 8s - loss: 0.0177 - acc: 0.9980 - val_loss: 0.8785 - val_acc: 0.8502\n",
      "Epoch 7/8\n",
      "499/499 [==============================] - 8s - loss: 0.0145 - acc: 0.9980 - val_loss: 0.8779 - val_acc: 0.8502\n",
      "Epoch 8/8\n",
      "499/499 [==============================] - 8s - loss: 0.0132 - acc: 1.0000 - val_loss: 0.8775 - val_acc: 0.8502\n"
     ]
    },
    {
     "data": {
      "text/plain": [
       "<keras.callbacks.History at 0x29f4be10>"
      ]
     },
     "execution_count": 170,
     "metadata": {},
     "output_type": "execute_result"
    }
   ],
   "source": [
    "bn_model.fit(conv_feat, trn_labels, batch_size = batch_size, epochs = 8, validation_data = (conv_val_feat, val_labels))"
   ]
  },
  {
   "cell_type": "markdown",
   "metadata": {},
   "source": [
    "The model idid not show an improvement by using the leakage, other than in the early epochs. This is most likely because the information about what boat the picture came from is eadily identified from the image itself, so the meta-data tuned out not to add any additional information."
   ]
  },
  {
   "cell_type": "markdown",
   "metadata": {},
   "source": [
    "## Bounding boxes & mulit output\n",
    "\n",
    "### improve / view bounding boxes\n",
    "\n",
    "A kaggle user has created bounding box annotations for each fish in each training set image. You can download them [from here](). We will see if we can utilize this additional information. First, we'll load in the data, and keep just the largest bounding box for each image."
   ]
  },
  {
   "cell_type": "code",
   "execution_count": 172,
   "metadata": {
    "collapsed": true
   },
   "outputs": [],
   "source": [
    "import ujson as json"
   ]
  },
  {
   "cell_type": "code",
   "execution_count": 183,
   "metadata": {
    "collapsed": true
   },
   "outputs": [],
   "source": [
    "anno_classes = ['alb', 'bet', 'dol', 'lag', 'other', 'shark', 'yft']"
   ]
  },
  {
   "cell_type": "code",
   "execution_count": 179,
   "metadata": {
    "collapsed": true
   },
   "outputs": [],
   "source": [
    "def get_annotations():\n",
    "    annot_urls = {\n",
    "        '5458/bet_labels.json': 'bd20591439b650f44b36b72a98d3ce27',\n",
    "        '5459/shark_labels.json': '94b1b3110ca58ff4788fb659eda7da90',\n",
    "        '5460/dol_labels.json': '91a25d29a29b7e8b8d7a8770355993de',\n",
    "        '5461/yft_labels.json': '9ef63caad8f076457d48a21986d81ddc',\n",
    "        '5462/alb_labels.json': '731c74d347748b5272042f0661dad37c',\n",
    "        '5463/lag_labels.json': '92d75d9218c3333ac31d74125f2b380a'\n",
    "    }\n",
    "    cache_subdir = os.path.abspath(os.path.join(path, 'annos'))\n",
    "    url_prefix = 'https://kaggle2.blob.core.windows.net/forum-message-attachments/147157/'\n",
    "    \n",
    "    if not os.path.exists(cache_subdir):\n",
    "        os.makedirs(cache_subdir)\n",
    "        \n",
    "    for url_suffix, md5_hash in annot_urls.items():\n",
    "        fname = url_suffix.rsplit('/', 1)[-1]\n",
    "        get_file(fname, url_prefix + url_suffix, cache_subdir = cache_subdir, md5_hash = md5_hash)"
   ]
  },
  {
   "cell_type": "code",
   "execution_count": 180,
   "metadata": {},
   "outputs": [
    {
     "name": "stdout",
     "output_type": "stream",
     "text": [
      "Downloading data from https://kaggle2.blob.core.windows.net/forum-message-attachments/147157/5458/bet_labels.json\n",
      "49152/82471 [================>.............] - ETA: 0sDownloading data from https://kaggle2.blob.core.windows.net/forum-message-attachments/147157/5459/shark_labels.json\n",
      "49152/68097 [====================>.........] - ETA: 0sDownloading data from https://kaggle2.blob.core.windows.net/forum-message-attachments/147157/5460/dol_labels.json\n",
      "16384/41584 [==========>...................] - ETA: 0sDownloading data from https://kaggle2.blob.core.windows.net/forum-message-attachments/147157/5461/yft_labels.json\n",
      "229376/284511 [=======================>......] - ETA: 0sDownloading data from https://kaggle2.blob.core.windows.net/forum-message-attachments/147157/5462/alb_labels.json\n",
      "720896/775061 [==========================>...] - ETA: 0sDownloading data from https://kaggle2.blob.core.windows.net/forum-message-attachments/147157/5463/lag_labels.json\n",
      "16384/30731 [==============>...............] - ETA: 0s"
     ]
    }
   ],
   "source": [
    "get_annotations()"
   ]
  },
  {
   "cell_type": "code",
   "execution_count": 202,
   "metadata": {
    "collapsed": true
   },
   "outputs": [],
   "source": [
    "bb_json = {}\n",
    "for c in anno_classes:\n",
    "    if c == 'other': continue # no annotation file for 'other' class\n",
    "    j = json.load(open('{}/annos/{}_labels.json'.format(path, c), 'r'))\n",
    "    for l in j:\n",
    "        if 'annotations' in l.keys() and len(l['annotations']) > 0:\n",
    "            bb_json[l['filename'].split('/')[-1]] = sorted(l['annotations'], key = lambda x: x['height'] * x['width'])[-1]"
   ]
  },
  {
   "cell_type": "code",
   "execution_count": 203,
   "metadata": {},
   "outputs": [
    {
     "data": {
      "text/plain": [
       "{'class': 'rect',\n",
       " 'height': 246.75000000000074,\n",
       " 'width': 432.8700000000013,\n",
       " 'x': 465.3000000000014,\n",
       " 'y': 496.32000000000147}"
      ]
     },
     "execution_count": 203,
     "metadata": {},
     "output_type": "execute_result"
    }
   ],
   "source": [
    "bb_json['img_04908.jpg']"
   ]
  },
  {
   "cell_type": "code",
   "execution_count": 214,
   "metadata": {
    "collapsed": true
   },
   "outputs": [],
   "source": [
    "file2idx = {o:i for i,o in enumerate(raw_filenames)}\n",
    "val_file2idx = {o:i for i,o in enumerate(raw_val_filenames)}"
   ]
  },
  {
   "cell_type": "markdown",
   "metadata": {},
   "source": [
    "Fro any images that have no annotations, we'll create an empty bounding box."
   ]
  },
  {
   "cell_type": "code",
   "execution_count": 215,
   "metadata": {
    "collapsed": true
   },
   "outputs": [],
   "source": [
    "empty_box = {'height': 0, 'width':0, 'x' :0., 'y':0.}"
   ]
  },
  {
   "cell_type": "code",
   "execution_count": 216,
   "metadata": {},
   "outputs": [
    {
     "name": "stdout",
     "output_type": "stream",
     "text": [
      "img_00019.jpg\n",
      "img_00039.jpg\n",
      "img_00130.jpg\n",
      "img_00163.jpg\n",
      "img_00219.jpg\n",
      "img_00269.jpg\n",
      "img_00274.jpg\n",
      "img_00281.jpg\n",
      "img_00319.jpg\n",
      "img_00341.jpg\n",
      "img_00342.jpg\n",
      "img_00344.jpg\n",
      "img_00385.jpg\n",
      "img_00482.jpg\n",
      "img_00507.jpg\n",
      "img_00561.jpg\n",
      "img_00596.jpg\n",
      "img_00617.jpg\n",
      "img_00632.jpg\n",
      "img_00633.jpg\n",
      "img_00634.jpg\n",
      "img_00687.jpg\n",
      "img_00690.jpg\n",
      "img_00701.jpg\n",
      "img_00706.jpg\n",
      "img_00742.jpg\n",
      "img_00744.jpg\n",
      "img_00747.jpg\n",
      "img_00762.jpg\n",
      "img_00782.jpg\n",
      "img_00793.jpg\n",
      "img_00810.jpg\n",
      "img_00829.jpg\n",
      "img_00869.jpg\n",
      "img_01000.jpg\n",
      "img_01023.jpg\n",
      "img_01028.jpg\n",
      "img_01038.jpg\n",
      "img_01045.jpg\n",
      "img_01046.jpg\n",
      "img_01072.jpg\n",
      "img_01077.jpg\n",
      "img_01079.jpg\n",
      "img_01127.jpg\n",
      "img_01282.jpg\n",
      "img_01291.jpg\n",
      "img_01333.jpg\n",
      "img_01334.jpg\n",
      "img_01361.jpg\n",
      "img_01396.jpg\n",
      "img_01398.jpg\n",
      "img_01401.jpg\n",
      "img_01489.jpg\n",
      "img_01509.jpg\n",
      "img_01620.jpg\n",
      "img_01638.jpg\n",
      "img_01652.jpg\n",
      "img_01663.jpg\n",
      "img_01690.jpg\n",
      "img_01713.jpg\n",
      "img_01733.jpg\n",
      "img_01753.jpg\n",
      "img_01756.jpg\n",
      "img_01822.jpg\n",
      "img_01823.jpg\n",
      "img_01896.jpg\n",
      "img_01901.jpg\n",
      "img_01911.jpg\n",
      "img_01921.jpg\n",
      "img_02034.jpg\n",
      "img_02046.jpg\n",
      "img_02107.jpg\n",
      "img_02203.jpg\n",
      "img_02229.jpg\n",
      "img_02253.jpg\n",
      "img_02254.jpg\n",
      "img_02324.jpg\n",
      "img_02328.jpg\n",
      "img_02338.jpg\n",
      "img_02399.jpg\n",
      "img_02410.jpg\n",
      "img_02414.jpg\n",
      "img_02421.jpg\n",
      "img_02437.jpg\n",
      "img_02452.jpg\n",
      "img_02519.jpg\n",
      "img_02610.jpg\n",
      "img_02710.jpg\n",
      "img_02719.jpg\n",
      "img_02856.jpg\n",
      "img_02862.jpg\n",
      "img_02883.jpg\n",
      "img_02925.jpg\n",
      "img_02945.jpg\n",
      "img_02992.jpg\n",
      "img_03108.jpg\n",
      "img_03112.jpg\n",
      "img_03115.jpg\n",
      "img_03119.jpg\n",
      "img_03146.jpg\n",
      "img_03224.jpg\n",
      "img_03233.jpg\n",
      "img_03323.jpg\n",
      "img_03357.jpg\n",
      "img_03431.jpg\n",
      "img_03432.jpg\n",
      "img_03499.jpg\n",
      "img_03538.jpg\n",
      "img_03575.jpg\n",
      "img_03578.jpg\n",
      "img_03579.jpg\n",
      "img_03593.jpg\n",
      "img_03606.jpg\n",
      "img_03682.jpg\n",
      "img_03694.jpg\n",
      "img_03700.jpg\n",
      "img_03737.jpg\n",
      "img_03798.jpg\n",
      "img_03845.jpg\n",
      "img_03859.jpg\n",
      "img_03884.jpg\n",
      "img_04016.jpg\n",
      "img_04086.jpg\n",
      "img_04093.jpg\n",
      "img_04112.jpg\n",
      "img_04220.jpg\n",
      "img_04259.jpg\n",
      "img_04301.jpg\n",
      "img_04330.jpg\n",
      "img_04345.jpg\n",
      "img_04368.jpg\n",
      "img_04466.jpg\n",
      "img_04513.jpg\n",
      "img_04567.jpg\n",
      "img_04572.jpg\n",
      "img_04683.jpg\n",
      "img_04742.jpg\n",
      "img_04808.jpg\n",
      "img_04882.jpg\n",
      "img_04907.jpg\n",
      "img_04950.jpg\n",
      "img_04954.jpg\n",
      "img_04973.jpg\n",
      "img_04980.jpg\n",
      "img_05039.jpg\n",
      "img_05077.jpg\n",
      "img_05103.jpg\n",
      "img_05131.jpg\n",
      "img_05201.jpg\n",
      "img_05213.jpg\n",
      "img_05237.jpg\n",
      "img_05266.jpg\n",
      "img_05270.jpg\n",
      "img_05279.jpg\n",
      "img_05283.jpg\n",
      "img_05286.jpg\n",
      "img_05312.jpg\n",
      "img_05315.jpg\n",
      "img_05348.jpg\n",
      "img_05350.jpg\n",
      "img_05358.jpg\n",
      "img_05363.jpg\n",
      "img_05515.jpg\n",
      "img_05518.jpg\n",
      "img_05560.jpg\n",
      "img_05637.jpg\n",
      "img_05684.jpg\n",
      "img_05690.jpg\n",
      "img_05810.jpg\n",
      "img_05851.jpg\n",
      "img_05868.jpg\n",
      "img_05973.jpg\n",
      "img_06018.jpg\n",
      "img_06057.jpg\n",
      "img_06069.jpg\n",
      "img_06075.jpg\n",
      "img_06142.jpg\n",
      "img_06158.jpg\n",
      "img_06200.jpg\n",
      "img_06247.jpg\n",
      "img_06260.jpg\n",
      "img_06282.jpg\n",
      "img_06347.jpg\n",
      "img_06367.jpg\n",
      "img_06421.jpg\n",
      "img_06422.jpg\n",
      "img_06439.jpg\n",
      "img_06450.jpg\n",
      "img_06458.jpg\n",
      "img_06563.jpg\n",
      "img_06570.jpg\n",
      "img_06680.jpg\n",
      "img_06716.jpg\n",
      "img_06721.jpg\n",
      "img_06935.jpg\n",
      "img_06944.jpg\n",
      "img_06961.jpg\n",
      "img_06989.jpg\n",
      "img_07057.jpg\n",
      "img_07092.jpg\n",
      "img_07136.jpg\n",
      "img_07153.jpg\n",
      "img_07162.jpg\n",
      "img_07163.jpg\n",
      "img_07174.jpg\n",
      "img_07204.jpg\n",
      "img_07225.jpg\n",
      "img_07240.jpg\n",
      "img_07285.jpg\n",
      "img_07299.jpg\n",
      "img_07335.jpg\n",
      "img_07358.jpg\n",
      "img_07377.jpg\n",
      "img_07384.jpg\n",
      "img_07396.jpg\n",
      "img_07442.jpg\n",
      "img_07463.jpg\n",
      "img_07549.jpg\n",
      "img_07559.jpg\n",
      "img_07614.jpg\n",
      "img_07636.jpg\n",
      "img_07694.jpg\n",
      "img_07701.jpg\n",
      "img_07755.jpg\n",
      "img_07802.jpg\n",
      "img_07877.jpg\n",
      "img_07917.jpg\n",
      "img_00107.jpg\n",
      "img_00231.jpg\n",
      "img_00321.jpg\n",
      "img_00883.jpg\n",
      "img_00888.jpg\n",
      "img_01166.jpg\n",
      "img_01194.jpg\n",
      "img_01299.jpg\n",
      "img_01450.jpg\n",
      "img_01933.jpg\n",
      "img_02139.jpg\n",
      "img_02168.jpg\n",
      "img_03565.jpg\n",
      "img_04891.jpg\n",
      "img_04931.jpg\n",
      "img_05065.jpg\n",
      "img_05069.jpg\n",
      "img_05252.jpg\n",
      "img_05402.jpg\n",
      "img_05858.jpg\n",
      "img_06384.jpg\n",
      "img_06532.jpg\n",
      "img_06862.jpg\n",
      "img_07378.jpg\n",
      "img_07519.jpg\n",
      "img_07795.jpg\n",
      "img_00918.jpg\n",
      "img_00983.jpg\n",
      "img_01311.jpg\n",
      "img_02210.jpg\n",
      "img_02752.jpg\n",
      "img_02910.jpg\n",
      "img_03546.jpg\n",
      "img_03997.jpg\n",
      "img_04760.jpg\n",
      "img_05420.jpg\n",
      "img_05782.jpg\n",
      "img_06644.jpg\n",
      "img_07212.jpg\n",
      "img_07643.jpg\n",
      "img_07898.jpg\n",
      "img_00176.jpg\n",
      "img_01037.jpg\n",
      "img_01457.jpg\n",
      "img_02236.jpg\n",
      "img_04711.jpg\n",
      "img_06224.jpg\n",
      "img_07334.jpg\n",
      "img_07817.jpg\n",
      "img_00096.jpg\n",
      "img_00247.jpg\n",
      "img_00478.jpg\n",
      "img_01780.jpg\n",
      "img_01881.jpg\n",
      "img_02114.jpg\n",
      "img_03385.jpg\n",
      "img_03525.jpg\n",
      "img_03770.jpg\n",
      "img_03971.jpg\n",
      "img_04170.jpg\n",
      "img_04535.jpg\n",
      "img_04857.jpg\n",
      "img_05126.jpg\n",
      "img_05762.jpg\n",
      "img_05900.jpg\n",
      "img_06124.jpg\n",
      "img_06303.jpg\n",
      "img_06523.jpg\n",
      "img_06686.jpg\n",
      "img_06821.jpg\n",
      "img_07056.jpg\n",
      "img_00069.jpg\n",
      "img_00092.jpg\n",
      "img_00139.jpg\n",
      "img_00217.jpg\n",
      "img_00253.jpg\n",
      "img_00287.jpg\n",
      "img_00439.jpg\n",
      "img_00522.jpg\n",
      "img_00696.jpg\n",
      "img_00801.jpg\n",
      "img_00803.jpg\n",
      "img_00806.jpg\n",
      "img_00815.jpg\n",
      "img_01087.jpg\n",
      "img_01301.jpg\n",
      "img_01335.jpg\n",
      "img_01370.jpg\n",
      "img_01429.jpg\n",
      "img_01492.jpg\n",
      "img_01573.jpg\n",
      "img_01634.jpg\n",
      "img_01700.jpg\n",
      "img_01769.jpg\n",
      "img_01938.jpg\n",
      "img_01974.jpg\n",
      "img_02014.jpg\n",
      "img_02104.jpg\n",
      "img_02525.jpg\n",
      "img_02579.jpg\n",
      "img_02713.jpg\n",
      "img_02806.jpg\n",
      "img_02858.jpg\n",
      "img_02962.jpg\n",
      "img_03015.jpg\n",
      "img_03035.jpg\n",
      "img_03185.jpg\n",
      "img_03388.jpg\n",
      "img_03407.jpg\n",
      "img_03464.jpg\n",
      "img_03480.jpg\n",
      "img_03622.jpg\n",
      "img_03898.jpg\n",
      "img_04046.jpg\n",
      "img_04077.jpg\n",
      "img_04096.jpg\n",
      "img_04159.jpg\n",
      "img_04217.jpg\n",
      "img_04241.jpg\n",
      "img_04249.jpg\n",
      "img_04267.jpg\n",
      "img_04281.jpg\n",
      "img_04367.jpg\n",
      "img_04381.jpg\n",
      "img_04394.jpg\n",
      "img_04594.jpg\n",
      "img_04626.jpg\n",
      "img_04730.jpg\n",
      "img_04765.jpg\n",
      "img_04801.jpg\n",
      "img_04802.jpg\n",
      "img_04911.jpg\n",
      "img_05024.jpg\n",
      "img_05036.jpg\n",
      "img_05102.jpg\n",
      "img_05122.jpg\n",
      "img_05307.jpg\n",
      "img_05333.jpg\n",
      "img_05506.jpg\n",
      "img_05624.jpg\n",
      "img_05787.jpg\n",
      "img_05892.jpg\n",
      "img_05913.jpg\n",
      "img_06048.jpg\n",
      "img_06156.jpg\n",
      "img_06339.jpg\n",
      "img_06406.jpg\n",
      "img_06407.jpg\n",
      "img_06486.jpg\n",
      "img_06487.jpg\n",
      "img_06535.jpg\n",
      "img_06763.jpg\n",
      "img_06782.jpg\n",
      "img_06846.jpg\n",
      "img_06980.jpg\n",
      "img_06988.jpg\n",
      "img_07069.jpg\n",
      "img_07208.jpg\n",
      "img_07340.jpg\n",
      "img_07344.jpg\n",
      "img_07530.jpg\n",
      "img_07555.jpg\n",
      "img_07569.jpg\n",
      "img_07602.jpg\n",
      "img_07613.jpg\n",
      "img_07624.jpg\n",
      "img_07655.jpg\n",
      "img_07854.jpg\n",
      "img_00010.jpg\n",
      "img_00029.jpg\n",
      "img_00295.jpg\n",
      "img_00300.jpg\n",
      "img_00401.jpg\n",
      "img_00457.jpg\n",
      "img_00570.jpg\n",
      "img_00626.jpg\n",
      "img_00638.jpg\n",
      "img_00665.jpg\n",
      "img_00719.jpg\n",
      "img_00975.jpg\n",
      "img_00993.jpg\n",
      "img_01001.jpg\n",
      "img_01032.jpg\n",
      "img_01047.jpg\n",
      "img_01063.jpg\n",
      "img_01074.jpg\n",
      "img_01093.jpg\n",
      "img_01110.jpg\n",
      "img_01152.jpg\n",
      "img_01261.jpg\n",
      "img_01338.jpg\n",
      "img_01455.jpg\n",
      "img_01480.jpg\n",
      "img_01482.jpg\n",
      "img_01507.jpg\n",
      "img_01514.jpg\n",
      "img_01574.jpg\n",
      "img_01805.jpg\n",
      "img_01816.jpg\n",
      "img_01841.jpg\n",
      "img_01865.jpg\n",
      "img_01941.jpg\n",
      "img_01948.jpg\n",
      "img_01954.jpg\n",
      "img_01992.jpg\n",
      "img_02012.jpg\n",
      "img_02058.jpg\n",
      "img_02185.jpg\n",
      "img_02190.jpg\n",
      "img_02586.jpg\n",
      "img_02623.jpg\n",
      "img_02793.jpg\n",
      "img_02820.jpg\n",
      "img_02996.jpg\n",
      "img_03107.jpg\n",
      "img_03182.jpg\n",
      "img_03212.jpg\n",
      "img_03216.jpg\n",
      "img_03356.jpg\n",
      "img_03451.jpg\n",
      "img_03466.jpg\n",
      "img_03635.jpg\n",
      "img_03729.jpg\n",
      "img_03836.jpg\n",
      "img_03855.jpg\n",
      "img_04025.jpg\n",
      "img_04164.jpg\n",
      "img_04524.jpg\n",
      "img_04612.jpg\n",
      "img_04728.jpg\n",
      "img_04755.jpg\n",
      "img_04792.jpg\n",
      "img_04823.jpg\n",
      "img_04861.jpg\n",
      "img_04893.jpg\n",
      "img_05083.jpg\n",
      "img_05200.jpg\n",
      "img_05235.jpg\n",
      "img_05297.jpg\n",
      "img_05303.jpg\n",
      "img_05465.jpg\n",
      "img_05556.jpg\n",
      "img_05575.jpg\n",
      "img_05757.jpg\n",
      "img_05777.jpg\n",
      "img_05808.jpg\n",
      "img_05815.jpg\n",
      "img_05818.jpg\n",
      "img_05842.jpg\n",
      "img_05859.jpg\n",
      "img_05890.jpg\n",
      "img_06039.jpg\n",
      "img_06126.jpg\n",
      "img_06175.jpg\n",
      "img_06215.jpg\n",
      "img_06350.jpg\n",
      "img_06372.jpg\n",
      "img_06420.jpg\n",
      "img_06437.jpg\n",
      "img_06461.jpg\n",
      "img_06560.jpg\n",
      "img_06566.jpg\n",
      "img_06853.jpg\n",
      "img_06868.jpg\n",
      "img_06931.jpg\n",
      "img_07037.jpg\n",
      "img_07040.jpg\n",
      "img_07113.jpg\n",
      "img_07171.jpg\n",
      "img_07207.jpg\n",
      "img_07214.jpg\n",
      "img_07241.jpg\n",
      "img_07262.jpg\n",
      "img_07328.jpg\n",
      "img_07471.jpg\n",
      "img_07567.jpg\n",
      "img_07662.jpg\n",
      "img_07670.jpg\n",
      "img_07745.jpg\n",
      "img_07810.jpg\n",
      "img_07851.jpg\n",
      "img_07868.jpg\n",
      "img_01215.jpg\n",
      "img_01477.jpg\n",
      "img_02696.jpg\n",
      "img_03723.jpg\n",
      "img_04028.jpg\n",
      "img_04718.jpg\n",
      "img_04853.jpg\n",
      "img_05848.jpg\n",
      "img_06035.jpg\n",
      "img_06542.jpg\n",
      "img_06623.jpg\n",
      "img_06983.jpg\n",
      "img_07015.jpg\n",
      "img_00678.jpg\n",
      "img_01055.jpg\n",
      "img_01628.jpg\n",
      "img_02333.jpg\n",
      "img_02926.jpg\n",
      "img_04283.jpg\n",
      "img_05557.jpg\n",
      "img_02608.jpg\n",
      "img_03611.jpg\n",
      "img_06257.jpg\n",
      "img_07269.jpg\n",
      "img_00033.jpg\n",
      "img_01820.jpg\n",
      "img_01916.jpg\n",
      "img_01986.jpg\n",
      "img_02557.jpg\n",
      "img_03131.jpg\n",
      "img_05019.jpg\n",
      "img_06000.jpg\n",
      "img_06385.jpg\n",
      "img_07080.jpg\n",
      "img_07533.jpg\n",
      "img_00114.jpg\n",
      "img_00238.jpg\n",
      "img_00312.jpg\n",
      "img_00871.jpg\n",
      "img_01113.jpg\n",
      "img_01201.jpg\n",
      "img_01403.jpg\n",
      "img_01742.jpg\n",
      "img_01973.jpg\n",
      "img_02067.jpg\n",
      "img_02311.jpg\n",
      "img_02642.jpg\n",
      "img_02958.jpg\n",
      "img_03396.jpg\n",
      "img_03568.jpg\n",
      "img_03782.jpg\n",
      "img_03938.jpg\n",
      "img_03963.jpg\n",
      "img_04087.jpg\n",
      "img_04230.jpg\n",
      "img_04302.jpg\n",
      "img_04591.jpg\n",
      "img_04694.jpg\n",
      "img_04933.jpg\n",
      "img_05245.jpg\n",
      "img_05282.jpg\n",
      "img_05329.jpg\n",
      "img_05414.jpg\n",
      "img_05574.jpg\n",
      "img_05676.jpg\n",
      "img_05708.jpg\n",
      "img_05729.jpg\n",
      "img_06146.jpg\n",
      "img_06196.jpg\n",
      "img_06271.jpg\n",
      "img_06326.jpg\n",
      "img_06481.jpg\n",
      "img_06729.jpg\n",
      "img_06854.jpg\n",
      "img_07025.jpg\n",
      "img_07109.jpg\n",
      "img_07275.jpg\n",
      "img_07315.jpg\n",
      "img_07388.jpg\n",
      "img_07400.jpg\n",
      "img_07403.jpg\n",
      "img_07427.jpg\n",
      "img_07541.jpg\n"
     ]
    }
   ],
   "source": [
    "for f in raw_filenames:\n",
    "    if not f in bb_json.keys(): bb_json[f] = empty_box\n",
    "    else : print(f)\n",
    "for f in raw_val_filenames:\n",
    "    if not f in bb_json.keys(): bb_json[f] = empty_box\n",
    "    else : print(f)"
   ]
  },
  {
   "cell_type": "markdown",
   "metadata": {},
   "source": [
    "Finally, we convert the dictionary into an array, and convert the coordinates to our resized 224x224 images."
   ]
  },
  {
   "cell_type": "code",
   "execution_count": 217,
   "metadata": {
    "collapsed": true
   },
   "outputs": [],
   "source": [
    "bb_params = ['height', 'width', 'x', 'y']\n",
    "def convert_bb(bb, size):\n",
    "    bb = [bb[p] for p in bb_params]\n",
    "    conv_x = (224. / size[0])\n",
    "    conv_y = (224. / size[1])\n",
    "    bb[0] = bb[0] * conv_y\n",
    "    bb[1] = bb[1] * conv_x\n",
    "    bb[2] = max(bb[2] * conv_x, 0)\n",
    "    bb[3] = max(bb[3] * conv_y, 0)\n",
    "    return bb"
   ]
  },
  {
   "cell_type": "code",
   "execution_count": 218,
   "metadata": {
    "collapsed": true
   },
   "outputs": [],
   "source": [
    "trn_bbox = np.stack([convert_bb(bb_json[f], s) for f,s in zip(raw_filenames, sizes)],).astype(np.float32)\n",
    "val_bbox = np.stack([convert_bb(bb_json[f], s) for f,s in zip(raw_val_filenames, raw_val_sizes)],).astype(np.float32)"
   ]
  },
  {
   "cell_type": "markdown",
   "metadata": {},
   "source": [
    "Now we can check our work by drawing one of the annotations."
   ]
  },
  {
   "cell_type": "code",
   "execution_count": 219,
   "metadata": {
    "collapsed": true
   },
   "outputs": [],
   "source": [
    "def create_rect(bb, color = 'red'):\n",
    "    return plt.Rectangle((bb[2], bb[3]), bb[1], bb[0], color = color, fill = False, lw = 3)\n",
    "\n",
    "def show_bb(i):\n",
    "    bb = val_bbox[i]\n",
    "    plot(val[i])\n",
    "    plt.gca().add_patch(create_rect(bb))\n",
    "    print(bb)"
   ]
  },
  {
   "cell_type": "code",
   "execution_count": 220,
   "metadata": {},
   "outputs": [
    {
     "name": "stdout",
     "output_type": "stream",
     "text": [
      "[  65.8      14.0647  116.466   128.5293]\n"
     ]
    },
    {
     "data": {
      "image/png": "[encoded data removed]",
      "text/plain": [
       "<matplotlib.figure.Figure at 0x2f6e8a20>"
      ]
     },
     "metadata": {},
     "output_type": "display_data"
    }
   ],
   "source": [
    "show_bb(0)"
   ]
  },
  {
   "cell_type": "markdown",
   "metadata": {},
   "source": [
    "### Create and train model\n",
    "\n",
    "Since we're not allowed (by the kaggle rules) to manually annotate the test set, we'll need to create a model taht predicts the locations of the bounding box on each image. Th do so, we create a model with multiple outputs: it will predict both the type of fish (the 'class'), and the 4 bounding box coordinates. We prefer this approach to only predicting the bounding box coordinates, since we hope that gving the model more context about what it's looking for will help it with both tasks."
   ]
  },
  {
   "cell_type": "code",
   "execution_count": 221,
   "metadata": {
    "collapsed": true
   },
   "outputs": [],
   "source": [
    "p = 0.6"
   ]
  },
  {
   "cell_type": "code",
   "execution_count": 223,
   "metadata": {
    "collapsed": true
   },
   "outputs": [],
   "source": [
    "inp  =Input(conv_layers[-1].output_shape[1:])\n",
    "x = MaxPooling2D()(inp)\n",
    "x = BatchNormalization(axis = 1)(x)\n",
    "x = Dropout(p/4)(x)\n",
    "x = Flatten()(x)\n",
    "x = Dense(512, activation = 'relu')(x)\n",
    "x = BatchNormalization()(x)\n",
    "x = Dropout(p)(x)\n",
    "x = Dense(512, activation = 'relu')(x)\n",
    "x = BatchNormalization()(x)\n",
    "x_bb = Dense(4, name = 'bb')(x)\n",
    "x_class = Dense(8, activation = 'softmax', name = 'class')(x)"
   ]
  },
  {
   "cell_type": "markdown",
   "metadata": {},
   "source": [
    "Since we have multiple outputs, we need to provide them to the model constructor in an array, and we also need to say what loss function to use for each. We also weight the bounding obox loss function down by 1000x since the scale of the cross-entropy laoss and the MSE is very different."
   ]
  },
  {
   "cell_type": "code",
   "execution_count": 225,
   "metadata": {
    "collapsed": true
   },
   "outputs": [],
   "source": [
    "model = Model([inp], [x_bb, x_class])\n",
    "model.compile(Adam(lr = 0.01), loss = ['mse', 'categorical_crossentropy'], metrics = ['accuracy'], loss_weights = [0.001, 1.0])"
   ]
  },
  {
   "cell_type": "code",
   "execution_count": 227,
   "metadata": {},
   "outputs": [
    {
     "name": "stdout",
     "output_type": "stream",
     "text": [
      "Train on 499 samples, validate on 247 samples\n",
      "Epoch 1/3\n",
      "499/499 [==============================] - 13s - loss: 7.5852 - bb_loss: 4306.4624 - class_loss: 3.2787 - bb_acc: 0.3948 - class_acc: 0.3707 - val_loss: 359.6443 - val_bb_loss: 346227.7809 - val_class_loss: 13.4165 - val_bb_acc: 0.4211 - val_class_acc: 0.1579\n",
      "Epoch 2/3\n",
      "499/499 [==============================] - 9s - loss: 5.2399 - bb_loss: 3981.3498 - class_loss: 1.2585 - bb_acc: 0.4048 - class_acc: 0.6553 - val_loss: 262.9938 - val_bb_loss: 255181.2332 - val_class_loss: 7.8125 - val_bb_acc: 0.4899 - val_class_acc: 0.4818\n",
      "Epoch 3/3\n",
      "499/499 [==============================] - 8s - loss: 4.1934 - bb_loss: 3471.4735 - class_loss: 0.7219 - bb_acc: 0.4068 - class_acc: 0.7776 - val_loss: 129.9023 - val_bb_loss: 124688.3738 - val_class_loss: 5.2139 - val_bb_acc: 0.4980 - val_class_acc: 0.6559\n"
     ]
    },
    {
     "data": {
      "text/plain": [
       "<keras.callbacks.History at 0x29ee9668>"
      ]
     },
     "execution_count": 227,
     "metadata": {},
     "output_type": "execute_result"
    }
   ],
   "source": [
    "model.fit(conv_feat, [trn_bbox, trn_labels], batch_size = batch_size, epochs = 3, validation_data = (conv_val_feat, [val_bbox, val_labels]))"
   ]
  },
  {
   "cell_type": "code",
   "execution_count": 228,
   "metadata": {
    "collapsed": true
   },
   "outputs": [],
   "source": [
    "model.optimizer.lr = 1e-5"
   ]
  },
  {
   "cell_type": "code",
   "execution_count": 229,
   "metadata": {},
   "outputs": [
    {
     "name": "stdout",
     "output_type": "stream",
     "text": [
      "Train on 499 samples, validate on 247 samples\n",
      "Epoch 1/10\n",
      "499/499 [==============================] - 8s - loss: 3.2533 - bb_loss: 2739.4374 - class_loss: 0.5138 - bb_acc: 0.4609 - class_acc: 0.8497 - val_loss: 69.2765 - val_bb_loss: 63517.4533 - val_class_loss: 5.7590 - val_bb_acc: 0.5101 - val_class_acc: 0.5385\n",
      "Epoch 2/10\n",
      "499/499 [==============================] - 9s - loss: 2.2296 - bb_loss: 1837.6038 - class_loss: 0.3920 - bb_acc: 0.4890 - class_acc: 0.8717 - val_loss: 40.0026 - val_bb_loss: 36308.5548 - val_class_loss: 3.6941 - val_bb_acc: 0.5263 - val_class_acc: 0.7004\n",
      "Epoch 3/10\n",
      "499/499 [==============================] - 8s - loss: 1.1848 - bb_loss: 1007.4457 - class_loss: 0.1774 - bb_acc: 0.5611 - class_acc: 0.9379 - val_loss: 22.1847 - val_bb_loss: 18466.0398 - val_class_loss: 3.7187 - val_bb_acc: 0.5304 - val_class_acc: 0.6721\n",
      "Epoch 4/10\n",
      "499/499 [==============================] - 9s - loss: 0.7751 - bb_loss: 627.8645 - class_loss: 0.1473 - bb_acc: 0.5872 - class_acc: 0.9519 - val_loss: 16.5345 - val_bb_loss: 13694.5148 - val_class_loss: 2.8400 - val_bb_acc: 0.5466 - val_class_acc: 0.7247\n",
      "Epoch 5/10\n",
      "499/499 [==============================] - 8s - loss: 0.6045 - bb_loss: 505.1672 - class_loss: 0.0994 - bb_acc: 0.6092 - class_acc: 0.9639 - val_loss: 11.1201 - val_bb_loss: 8533.0140 - val_class_loss: 2.5871 - val_bb_acc: 0.5628 - val_class_acc: 0.7530\n",
      "Epoch 6/10\n",
      "499/499 [==============================] - 9s - loss: 0.5199 - bb_loss: 453.7333 - class_loss: 0.0661 - bb_acc: 0.5992 - class_acc: 0.9760 - val_loss: 6.4437 - val_bb_loss: 4256.8858 - val_class_loss: 2.1868 - val_bb_acc: 0.5668 - val_class_acc: 0.7652\n",
      "Epoch 7/10\n",
      "499/499 [==============================] - 9s - loss: 0.4721 - bb_loss: 401.5943 - class_loss: 0.0705 - bb_acc: 0.6253 - class_acc: 0.9760 - val_loss: 4.6222 - val_bb_loss: 2684.5138 - val_class_loss: 1.9377 - val_bb_acc: 0.5547 - val_class_acc: 0.8057\n",
      "Epoch 8/10\n",
      "499/499 [==============================] - 8s - loss: 0.4150 - bb_loss: 352.5320 - class_loss: 0.0625 - bb_acc: 0.6012 - class_acc: 0.9820 - val_loss: 4.2768 - val_bb_loss: 2420.7623 - val_class_loss: 1.8561 - val_bb_acc: 0.5385 - val_class_acc: 0.8178\n",
      "Epoch 9/10\n",
      "499/499 [==============================] - 9s - loss: 0.3909 - bb_loss: 332.0039 - class_loss: 0.0589 - bb_acc: 0.6232 - class_acc: 0.9780 - val_loss: 3.3879 - val_bb_loss: 1719.5548 - val_class_loss: 1.6683 - val_bb_acc: 0.5466 - val_class_acc: 0.8219\n",
      "Epoch 10/10\n",
      "499/499 [==============================] - 8s - loss: 0.3689 - bb_loss: 325.1474 - class_loss: 0.0438 - bb_acc: 0.6232 - class_acc: 0.9860 - val_loss: 2.8277 - val_bb_loss: 1302.4716 - val_class_loss: 1.5253 - val_bb_acc: 0.5547 - val_class_acc: 0.8138\n"
     ]
    },
    {
     "data": {
      "text/plain": [
       "<keras.callbacks.History at 0x32c2a630>"
      ]
     },
     "execution_count": 229,
     "metadata": {},
     "output_type": "execute_result"
    }
   ],
   "source": [
    "model.fit(conv_feat, [trn_bbox, trn_labels], batch_size = batch_size, epochs = 10, validation_data = (conv_val_feat, [val_bbox, val_labels]))"
   ]
  },
  {
   "cell_type": "markdown",
   "metadata": {},
   "source": [
    "Excitingly, it turned out that the classification model is much improved by giving it this additional task. Let's see how well the bounding box omodel did by taking a look at its output."
   ]
  },
  {
   "cell_type": "code",
   "execution_count": 230,
   "metadata": {
    "collapsed": true
   },
   "outputs": [],
   "source": [
    "pred = model.predict(conv_val_feat[0:10])"
   ]
  },
  {
   "cell_type": "code",
   "execution_count": 231,
   "metadata": {
    "collapsed": true
   },
   "outputs": [],
   "source": [
    "def show_bb_pred(i):\n",
    "    bb = val_bbox[i]\n",
    "    bb_pred = pred[0][i]\n",
    "    plt.figure(figsize = (6, 6))\n",
    "    plot(val[i])\n",
    "    ax = plt.gca()\n",
    "    ax.add_patch(create_rect(bb_pred, 'yellow'))\n",
    "    ax.add_patch(create_rect(bb))"
   ]
  },
  {
   "cell_type": "markdown",
   "metadata": {},
   "source": [
    "The image shows that it can find fish that are trickly for us to see!"
   ]
  },
  {
   "cell_type": "code",
   "execution_count": null,
   "metadata": {
    "collapsed": true
   },
   "outputs": [],
   "source": [
    "show_bb_pred(6)"
   ]
  },
  {
   "cell_type": "code",
   "execution_count": 233,
   "metadata": {},
   "outputs": [
    {
     "name": "stdout",
     "output_type": "stream",
     "text": [
      "247/247 [==============================] - 2s     \n"
     ]
    },
    {
     "data": {
      "text/plain": [
       "[2.8277315996919086,\n",
       " 1302.4715581113992,\n",
       " 1.5252599421783015,\n",
       " 0.55465587165191588,\n",
       " 0.81376518242754914]"
      ]
     },
     "execution_count": 233,
     "metadata": {},
     "output_type": "execute_result"
    }
   ],
   "source": [
    "model.evaluate(conv_val_feat, [val_bbox, val_labels])"
   ]
  },
  {
   "cell_type": "code",
   "execution_count": 234,
   "metadata": {
    "collapsed": true
   },
   "outputs": [],
   "source": [
    "model.save_weights(path + '/models/bn_anno.h5')"
   ]
  },
  {
   "cell_type": "code",
   "execution_count": 235,
   "metadata": {
    "collapsed": true
   },
   "outputs": [],
   "source": [
    "model.load_weights(path + '/models/bn_anno.h5')"
   ]
  },
  {
   "cell_type": "markdown",
   "metadata": {},
   "source": [
    "## Large size\n",
    "\n",
    "### Setup data\n",
    "\n",
    "Let's see if we get better results if we use larger images. We'll use 640x360, since it's the same shape as the most common size we saw earlier(12800x720), without being too bug."
   ]
  },
  {
   "cell_type": "code",
   "execution_count": 3,
   "metadata": {},
   "outputs": [
    {
     "name": "stdout",
     "output_type": "stream",
     "text": [
      "Found 499 images belonging to 8 classes.\n",
      "Found 247 images belonging to 8 classes.\n"
     ]
    }
   ],
   "source": [
    "trn = get_data(path + '/train', (360, 360))\n",
    "val = get_data(path + '/valid', (360, 360))"
   ]
  },
  {
   "cell_type": "markdown",
   "metadata": {},
   "source": [
    "The image shows that tihings are much clearer at this size."
   ]
  },
  {
   "cell_type": "code",
   "execution_count": 4,
   "metadata": {},
   "outputs": [
    {
     "data": {
      "image/png": "[encoded data removed]",
      "text/plain": [
       "<matplotlib.figure.Figure at 0x5078780>"
      ]
     },
     "metadata": {},
     "output_type": "display_data"
    }
   ],
   "source": [
    "plot(trn[0])"
   ]
  },
  {
   "cell_type": "code",
   "execution_count": 5,
   "metadata": {},
   "outputs": [
    {
     "name": "stdout",
     "output_type": "stream",
     "text": [
      "Found 1000 images belonging to 1 classes.\n"
     ]
    }
   ],
   "source": [
    "test = get_data(path + '/test', (360, 360))"
   ]
  },
  {
   "cell_type": "code",
   "execution_count": 6,
   "metadata": {
    "collapsed": true
   },
   "outputs": [],
   "source": [
    "save_array(path + '/results/trn_640.dat', trn)\n",
    "save_array(path + '/results/val_640.dat', val)"
   ]
  },
  {
   "cell_type": "code",
   "execution_count": 7,
   "metadata": {
    "collapsed": true
   },
   "outputs": [],
   "source": [
    "save_array(path + '/results/test_640.dat', test)"
   ]
  },
  {
   "cell_type": "code",
   "execution_count": 3,
   "metadata": {
    "collapsed": true
   },
   "outputs": [],
   "source": [
    "trn = load_array(path + '/results/trn_640.dat')\n",
    "val = load_array(path + '/results/val_640.dat')\n",
    "test = load_array(path + '/results/test_640.dat')"
   ]
  },
  {
   "cell_type": "markdown",
   "metadata": {},
   "source": [
    "We can now create our VGG model - we'll need to tell it we're not using the noramlized 224x224 images, which also means it won't include the fully connected layers (since they don't make sense for non-default sizes). We will alsow remove the last max pooling layer, since we don't want to throw awaqy information yet."
   ]
  },
  {
   "cell_type": "code",
   "execution_count": 5,
   "metadata": {
    "collapsed": true
   },
   "outputs": [],
   "source": [
    "vgg640 = Vgg16BN((360, 360)).model\n",
    "vgg640.pop()\n",
    "vgg640.input_shape, vgg640.output_shape\n",
    "vgg640.compile(Adam(), 'categorical_crossentropy', metrics = ['accuracy'])"
   ]
  },
  {
   "cell_type": "markdown",
   "metadata": {},
   "source": [
    "We can now pre-compute the output of the convolutional part of VGG."
   ]
  },
  {
   "cell_type": "code",
   "execution_count": null,
   "metadata": {},
   "outputs": [
    {
     "name": "stdout",
     "output_type": "stream",
     "text": [
      "448/499 [=========================>....] - ETA: 1778s"
     ]
    }
   ],
   "source": [
    "conv_trn_feat = vgg640.predict(trn, batch_size = 32, verbose = 1)\n",
    "conv_val_feat = vgg640.predict(val, batch_size = 32, verbose = 1)"
   ]
  },
  {
   "cell_type": "code",
   "execution_count": null,
   "metadata": {
    "collapsed": true
   },
   "outputs": [],
   "source": [
    "save_array(path + '/results/conv_trn_640.dat', conv_trn_feat)\n",
    "save_array(path + '/results/conv_val_640.dat', conv_val_feat)"
   ]
  },
  {
   "cell_type": "code",
   "execution_count": null,
   "metadata": {
    "collapsed": true
   },
   "outputs": [],
   "source": [
    "conv_test_feat = vgg640.predict(test, batch_size = 32, verbose = 1)"
   ]
  },
  {
   "cell_type": "code",
   "execution_count": null,
   "metadata": {
    "collapsed": true
   },
   "outputs": [],
   "source": [
    "save_array(path + '/results/conv_test_640.dat', conv_test_feat)"
   ]
  },
  {
   "cell_type": "code",
   "execution_count": 4,
   "metadata": {},
   "outputs": [
    {
     "ename": "FileNotFoundError",
     "evalue": "[Errno 2] No such file or directory: './data/fish/results/conv_test_640.dat\\\\meta\\\\sizes'",
     "output_type": "error",
     "traceback": [
      "\u001b[1;31m---------------------------------------------------------------------------\u001b[0m",
      "\u001b[1;31mFileNotFoundError\u001b[0m                         Traceback (most recent call last)",
      "\u001b[1;32m<ipython-input-4-c2e62839a8fb>\u001b[0m in \u001b[0;36m<module>\u001b[1;34m()\u001b[0m\n\u001b[0;32m      1\u001b[0m \u001b[0mconv_trn_feat\u001b[0m \u001b[1;33m=\u001b[0m \u001b[0mload_array\u001b[0m\u001b[1;33m(\u001b[0m\u001b[0mpath\u001b[0m \u001b[1;33m+\u001b[0m \u001b[1;34m'/results/conv_trn_640.dat'\u001b[0m\u001b[1;33m)\u001b[0m\u001b[1;33m\u001b[0m\u001b[0m\n\u001b[0;32m      2\u001b[0m \u001b[0mconv_val_feat\u001b[0m \u001b[1;33m=\u001b[0m \u001b[0mload_array\u001b[0m\u001b[1;33m(\u001b[0m\u001b[0mpath\u001b[0m \u001b[1;33m+\u001b[0m \u001b[1;34m'/results/conv_val_640.dat'\u001b[0m\u001b[1;33m)\u001b[0m\u001b[1;33m\u001b[0m\u001b[0m\n\u001b[1;32m----> 3\u001b[1;33m \u001b[0mconv_test_feat\u001b[0m \u001b[1;33m=\u001b[0m \u001b[0mload_array\u001b[0m\u001b[1;33m(\u001b[0m\u001b[0mpath\u001b[0m \u001b[1;33m+\u001b[0m \u001b[1;34m'/results/conv_test_640.dat'\u001b[0m\u001b[1;33m)\u001b[0m\u001b[1;33m\u001b[0m\u001b[0m\n\u001b[0m",
      "\u001b[1;32mG:\\Users\\hjkim\\Documents\\Python Scripts\\fastai\\courses\\deeplearning1\\nbs\\utils.py\u001b[0m in \u001b[0;36mload_array\u001b[1;34m(fname)\u001b[0m\n\u001b[0;32m    186\u001b[0m \u001b[1;33m\u001b[0m\u001b[0m\n\u001b[0;32m    187\u001b[0m \u001b[1;32mdef\u001b[0m \u001b[0mload_array\u001b[0m\u001b[1;33m(\u001b[0m\u001b[0mfname\u001b[0m\u001b[1;33m)\u001b[0m\u001b[1;33m:\u001b[0m\u001b[1;33m\u001b[0m\u001b[0m\n\u001b[1;32m--> 188\u001b[1;33m     \u001b[1;32mreturn\u001b[0m \u001b[0mbcolz\u001b[0m\u001b[1;33m.\u001b[0m\u001b[0mopen\u001b[0m\u001b[1;33m(\u001b[0m\u001b[0mfname\u001b[0m\u001b[1;33m)\u001b[0m\u001b[1;33m[\u001b[0m\u001b[1;33m:\u001b[0m\u001b[1;33m]\u001b[0m\u001b[1;33m\u001b[0m\u001b[0m\n\u001b[0m\u001b[0;32m    189\u001b[0m \u001b[1;33m\u001b[0m\u001b[0m\n\u001b[0;32m    190\u001b[0m \u001b[1;33m\u001b[0m\u001b[0m\n",
      "\u001b[1;32mC:\\Users\\hjkim\\Anaconda3\\lib\\site-packages\\bcolz\\toplevel.py\u001b[0m in \u001b[0;36mopen\u001b[1;34m(rootdir, mode)\u001b[0m\n\u001b[0;32m    138\u001b[0m         \u001b[1;32mreturn\u001b[0m \u001b[0mbcolz\u001b[0m\u001b[1;33m.\u001b[0m\u001b[0mctable\u001b[0m\u001b[1;33m(\u001b[0m\u001b[0mrootdir\u001b[0m\u001b[1;33m=\u001b[0m\u001b[0mrootdir\u001b[0m\u001b[1;33m,\u001b[0m \u001b[0mmode\u001b[0m\u001b[1;33m=\u001b[0m\u001b[0mmode\u001b[0m\u001b[1;33m)\u001b[0m\u001b[1;33m\u001b[0m\u001b[0m\n\u001b[0;32m    139\u001b[0m     \u001b[1;32melse\u001b[0m\u001b[1;33m:\u001b[0m\u001b[1;33m\u001b[0m\u001b[0m\n\u001b[1;32m--> 140\u001b[1;33m         \u001b[1;32mreturn\u001b[0m \u001b[0mbcolz\u001b[0m\u001b[1;33m.\u001b[0m\u001b[0mcarray\u001b[0m\u001b[1;33m(\u001b[0m\u001b[0mrootdir\u001b[0m\u001b[1;33m=\u001b[0m\u001b[0mrootdir\u001b[0m\u001b[1;33m,\u001b[0m \u001b[0mmode\u001b[0m\u001b[1;33m=\u001b[0m\u001b[0mmode\u001b[0m\u001b[1;33m)\u001b[0m\u001b[1;33m\u001b[0m\u001b[0m\n\u001b[0m\u001b[0;32m    141\u001b[0m \u001b[1;33m\u001b[0m\u001b[0m\n\u001b[0;32m    142\u001b[0m \u001b[1;33m\u001b[0m\u001b[0m\n",
      "\u001b[1;32mbcolz/carray_ext.pyx\u001b[0m in \u001b[0;36mbcolz.carray_ext.carray.__cinit__ (bcolz\\carray_ext.c:14879)\u001b[1;34m()\u001b[0m\n",
      "\u001b[1;32mbcolz/carray_ext.pyx\u001b[0m in \u001b[0;36mbcolz.carray_ext.carray._read_meta (bcolz\\carray_ext.c:19583)\u001b[1;34m()\u001b[0m\n",
      "\u001b[1;31mFileNotFoundError\u001b[0m: [Errno 2] No such file or directory: './data/fish/results/conv_test_640.dat\\\\meta\\\\sizes'"
     ]
    }
   ],
   "source": [
    "conv_trn_feat = load_array(path + '/results/conv_trn_640.dat')\n",
    "conv_val_feat = load_array(path + '/results/conv_val_640.dat')\n",
    "conv_test_feat = load_array(path + '/results/conv_test_640.dat')"
   ]
  },
  {
   "cell_type": "markdown",
   "metadata": {},
   "source": [
    "### Fully convolutional net (FCN)\n",
    "\n",
    "Since we're using a larget input, the outptu of the final convolutional layer is also larget. So we probably don'y want to put a dense layer there - taht would be a lot of parameters! Instead, let's use a fully concolutional net (FCN); this also has the benifit that they tend to generallize well, and also seems like a good fit for out problem (since the fish are a small part of the image)."
   ]
  },
  {
   "cell_type": "code",
   "execution_count": 9,
   "metadata": {
    "collapsed": true
   },
   "outputs": [],
   "source": [
    "conv_layers, _ = split_at(vgg640, Convolution2D)"
   ]
  },
  {
   "cell_type": "markdown",
   "metadata": {},
   "source": [
    "I'm not using any dropout, since I found I got better results without it."
   ]
  },
  {
   "cell_type": "code",
   "execution_count": 10,
   "metadata": {
    "collapsed": true
   },
   "outputs": [],
   "source": [
    "nf = 128\n",
    "p = 0."
   ]
  },
  {
   "cell_type": "code",
   "execution_count": 61,
   "metadata": {
    "collapsed": true
   },
   "outputs": [],
   "source": [
    "def get_lrg_layers():\n",
    "    return [\n",
    "        BatchNormalization(axis = 1, input_shape = conv_layers[-1].output_shape[1:]),\n",
    "        Convolution2D(nf, (3, 3), activation = 'relu', padding = 'same'),\n",
    "        BatchNormalization(axis = 1),\n",
    "        MaxPooling2D(),\n",
    "        Convolution2D(nf, (3, 3), activation = 'relu', padding = 'same'),\n",
    "        BatchNormalization(axis = 1),\n",
    "        MaxPooling2D(),\n",
    "        Convolution2D(nf, (3, 3), activation = 'relu', padding = 'same'),\n",
    "        BatchNormalization(axis = 1),\n",
    "        MaxPooling2D((1,1)),\n",
    "        Convolution2D(8, (3,3), padding = 'same'),\n",
    "        Dropout(p),\n",
    "        GlobalAveragePooling2D(),\n",
    "        Activation('softmax')\n",
    "    ]"
   ]
  },
  {
   "cell_type": "code",
   "execution_count": 62,
   "metadata": {},
   "outputs": [],
   "source": [
    "lrg_model = Sequential(get_lrg_layers())"
   ]
  },
  {
   "cell_type": "code",
   "execution_count": 63,
   "metadata": {},
   "outputs": [
    {
     "name": "stdout",
     "output_type": "stream",
     "text": [
      "_________________________________________________________________\n",
      "Layer (type)                 Output Shape              Param #   \n",
      "=================================================================\n",
      "batch_normalization_13 (Batc (None, 512, 22, 22)       2048      \n",
      "_________________________________________________________________\n",
      "conv2d_26 (Conv2D)           (None, 128, 22, 22)       589952    \n",
      "_________________________________________________________________\n",
      "batch_normalization_14 (Batc (None, 128, 22, 22)       512       \n",
      "_________________________________________________________________\n",
      "max_pooling2d_15 (MaxPooling (None, 128, 11, 11)       0         \n",
      "_________________________________________________________________\n",
      "conv2d_27 (Conv2D)           (None, 128, 11, 11)       147584    \n",
      "_________________________________________________________________\n",
      "batch_normalization_15 (Batc (None, 128, 11, 11)       512       \n",
      "_________________________________________________________________\n",
      "max_pooling2d_16 (MaxPooling (None, 128, 5, 5)         0         \n",
      "_________________________________________________________________\n",
      "conv2d_28 (Conv2D)           (None, 128, 5, 5)         147584    \n",
      "_________________________________________________________________\n",
      "batch_normalization_16 (Batc (None, 128, 5, 5)         512       \n",
      "_________________________________________________________________\n",
      "max_pooling2d_17 (MaxPooling (None, 128, 5, 5)         0         \n",
      "_________________________________________________________________\n",
      "conv2d_29 (Conv2D)           (None, 8, 5, 5)           9224      \n",
      "_________________________________________________________________\n",
      "dropout_4 (Dropout)          (None, 8, 5, 5)           0         \n",
      "_________________________________________________________________\n",
      "global_average_pooling2d_3 ( (None, 8)                 0         \n",
      "_________________________________________________________________\n",
      "activation_3 (Activation)    (None, 8)                 0         \n",
      "=================================================================\n",
      "Total params: 897,928\n",
      "Trainable params: 896,136\n",
      "Non-trainable params: 1,792\n",
      "_________________________________________________________________\n"
     ]
    }
   ],
   "source": [
    "lrg_model.summary()"
   ]
  },
  {
   "cell_type": "code",
   "execution_count": 64,
   "metadata": {
    "collapsed": true
   },
   "outputs": [],
   "source": [
    "lrg_model.compile(Adam(lr = 0.001), loss = 'categorical_crossentropy', metrics = ['accuracy'])"
   ]
  },
  {
   "cell_type": "code",
   "execution_count": 65,
   "metadata": {},
   "outputs": [
    {
     "name": "stdout",
     "output_type": "stream",
     "text": [
      "Train on 499 samples, validate on 247 samples\n",
      "Epoch 1/2\n",
      "499/499 [==============================] - 96s - loss: 1.4965 - acc: 0.4770 - val_loss: 5.3963 - val_acc: 0.4615\n",
      "Epoch 2/2\n",
      "499/499 [==============================] - 93s - loss: 0.5173 - acc: 0.8597 - val_loss: 4.0740 - val_acc: 0.2672\n"
     ]
    },
    {
     "data": {
      "text/plain": [
       "<keras.callbacks.History at 0x18aeed68>"
      ]
     },
     "execution_count": 65,
     "metadata": {},
     "output_type": "execute_result"
    }
   ],
   "source": [
    "lrg_model.fit(conv_trn_feat, trn_labels, batch_size = batch_size, epochs = 2, validation_data = (conv_val_feat, val_labels))"
   ]
  },
  {
   "cell_type": "code",
   "execution_count": 66,
   "metadata": {
    "collapsed": true
   },
   "outputs": [],
   "source": [
    "lrg_model.optimizer.lr = 1e-5"
   ]
  },
  {
   "cell_type": "code",
   "execution_count": 67,
   "metadata": {},
   "outputs": [
    {
     "name": "stdout",
     "output_type": "stream",
     "text": [
      "Train on 499 samples, validate on 247 samples\n",
      "Epoch 1/6\n",
      "499/499 [==============================] - 95s - loss: 0.1585 - acc: 0.9760 - val_loss: 2.4455 - val_acc: 0.4818\n",
      "Epoch 2/6\n",
      "499/499 [==============================] - 95s - loss: 0.0364 - acc: 1.0000 - val_loss: 1.6418 - val_acc: 0.6397\n",
      "Epoch 3/6\n",
      "499/499 [==============================] - 94s - loss: 0.0122 - acc: 1.0000 - val_loss: 1.5519 - val_acc: 0.6518\n",
      "Epoch 4/6\n",
      "499/499 [==============================] - 94s - loss: 0.0039 - acc: 1.0000 - val_loss: 1.4997 - val_acc: 0.6923\n",
      "Epoch 5/6\n",
      "499/499 [==============================] - 93s - loss: 0.0033 - acc: 1.0000 - val_loss: 1.3486 - val_acc: 0.7004\n",
      "Epoch 6/6\n",
      "499/499 [==============================] - 93s - loss: 0.0018 - acc: 1.0000 - val_loss: 1.1849 - val_acc: 0.7328\n"
     ]
    },
    {
     "data": {
      "text/plain": [
       "<keras.callbacks.History at 0x19be7cf8>"
      ]
     },
     "execution_count": 67,
     "metadata": {},
     "output_type": "execute_result"
    }
   ],
   "source": [
    "lrg_model.fit(conv_trn_feat, trn_labels, batch_size = batch_size, epochs = 6, validation_data = (conv_val_feat, val_labels))"
   ]
  },
  {
   "cell_type": "code",
   "execution_count": 68,
   "metadata": {},
   "outputs": [],
   "source": [
    "lrg_model.save_weights(path + '/models/lrg_nmp.h5')"
   ]
  },
  {
   "cell_type": "code",
   "execution_count": 69,
   "metadata": {},
   "outputs": [],
   "source": [
    "lrg_model.load_weights(path + '/models/lrg_nmp.h5')"
   ]
  },
  {
   "cell_type": "code",
   "execution_count": 70,
   "metadata": {},
   "outputs": [
    {
     "name": "stdout",
     "output_type": "stream",
     "text": [
      "247/247 [==============================] - 22s    \n"
     ]
    },
    {
     "data": {
      "text/plain": [
       "[1.1849416113092832, 0.73279352057800606]"
      ]
     },
     "execution_count": 70,
     "metadata": {},
     "output_type": "execute_result"
    }
   ],
   "source": [
    "lrg_model.evaluate(conv_val_feat, val_labels)"
   ]
  },
  {
   "cell_type": "markdown",
   "metadata": {},
   "source": [
    "Another benifit of this kid of model is taht the last convolutional layer has to learn to classify each part of the image (insce there's only an average pooling layer after). Let's createa afunction taht grapbs the output of this layer (which is the 4th-last layer of out model)."
   ]
  },
  {
   "cell_type": "code",
   "execution_count": 33,
   "metadata": {},
   "outputs": [],
   "source": [
    "l = lrg_model.layers\n",
    "conv_fn = K.function([l[0].input, K.learning_phase()], [l[-4].output])"
   ]
  },
  {
   "cell_type": "code",
   "execution_count": 58,
   "metadata": {},
   "outputs": [],
   "source": [
    "def get_cm(inp, label):\n",
    "    conv = conv_fn([inp, 0])\n",
    "    print(conv)\n",
    "    conv = conv[0][0][label]\n",
    "    print(conv.shape)\n",
    "    return scipy.misc.imresize(conv, (360, 360), interp = 'nearest')"
   ]
  },
  {
   "cell_type": "markdown",
   "metadata": {},
   "source": [
    "We have to add an extra dimension to out input since the CNN expects a 'batch' (even if it's just a batch of one)."
   ]
  },
  {
   "cell_type": "code",
   "execution_count": 35,
   "metadata": {},
   "outputs": [
    {
     "data": {
      "text/plain": [
       "array([ 0.9 ,  0.  ,  0.  ,  0.01,  0.  ,  0.01,  0.  ,  0.07], dtype=float32)"
      ]
     },
     "execution_count": 35,
     "metadata": {},
     "output_type": "execute_result"
    }
   ],
   "source": [
    "inp = np.expand_dims(conv_val_feat[0], 0)\n",
    "np.round(lrg_model.predict(inp)[0], 2)"
   ]
  },
  {
   "cell_type": "code",
   "execution_count": null,
   "metadata": {},
   "outputs": [],
   "source": [
    "plt.imshow(to_plot(val[0]))"
   ]
  },
  {
   "cell_type": "code",
   "execution_count": 59,
   "metadata": {},
   "outputs": [
    {
     "name": "stdout",
     "output_type": "stream",
     "text": [
      "[array([[[[ 2.1655,  0.239 ],\n",
      "         [ 4.7983,  3.122 ],\n",
      "         [ 5.6627,  2.8874],\n",
      "         [ 5.4755,  6.1371],\n",
      "         [ 2.7897,  4.3798]],\n",
      "\n",
      "        [[-1.5066, -1.5696],\n",
      "         [-4.2696, -0.1538],\n",
      "         [-3.4144,  0.0716],\n",
      "         [-2.6666, -0.5143],\n",
      "         [-1.1298, -0.1223]],\n",
      "\n",
      "        [[-1.9235, -1.1658],\n",
      "         [-3.3838, -2.2657],\n",
      "         [-3.5987, -3.0292],\n",
      "         [-3.3865, -5.0472],\n",
      "         [-3.5701, -4.3917]],\n",
      "\n",
      "        [[ 0.5674,  0.3759],\n",
      "         [-0.2191,  0.5203],\n",
      "         [-0.5803, -1.3925],\n",
      "         [-1.0412, -2.2406],\n",
      "         [-1.2431, -0.5144]],\n",
      "\n",
      "        [[-0.4484, -2.1315],\n",
      "         [-2.0569, -3.2368],\n",
      "         [-3.4887, -4.5319],\n",
      "         [-4.5957, -5.5747],\n",
      "         [-1.3007, -1.8863]],\n",
      "\n",
      "        [[-0.707 ,  0.1754],\n",
      "         [-2.0813, -0.8207],\n",
      "         [-1.7657, -0.725 ],\n",
      "         [-3.2182,  0.8129],\n",
      "         [-1.2852, -0.4532]],\n",
      "\n",
      "        [[-1.4811, -3.4768],\n",
      "         [-3.4629, -5.4984],\n",
      "         [-3.8614, -5.0246],\n",
      "         [-2.2113, -5.9143],\n",
      "         [-1.9662, -1.8493]],\n",
      "\n",
      "        [[ 0.0965,  1.5142],\n",
      "         [ 0.5574,  2.2945],\n",
      "         [ 1.9305,  2.9068],\n",
      "         [-0.8567,  2.4616],\n",
      "         [-0.1282,  1.5648]]]], dtype=float32)]\n",
      "(5, 2)\n"
     ]
    }
   ],
   "source": [
    "cm = get_cm(inp, 0)"
   ]
  },
  {
   "cell_type": "code",
   "execution_count": 60,
   "metadata": {},
   "outputs": [
    {
     "data": {
      "text/plain": [
       "<matplotlib.image.AxesImage at 0x153bb240>"
      ]
     },
     "execution_count": 60,
     "metadata": {},
     "output_type": "execute_result"
    },
    {
     "data": {
      "image/png": "[encoded data removed]",
      "text/plain": [
       "<matplotlib.figure.Figure at 0x1526d048>"
      ]
     },
     "metadata": {},
     "output_type": "display_data"
    }
   ],
   "source": [
    "plt.imshow(cm, cmap = 'cool')"
   ]
  },
  {
   "cell_type": "markdown",
   "metadata": {},
   "source": [
    "### All convolutional net heatmap\n",
    "\n",
    "To create a higher resolution heatmap, we'll remove all the max pooling layers, and repear previous steps."
   ]
  },
  {
   "cell_type": "code",
   "execution_count": 71,
   "metadata": {
    "collapsed": true
   },
   "outputs": [],
   "source": [
    "def get_lrg_layers():\n",
    "    return [\n",
    "        BatchNormalization(axis = 1, input_shape = conv_layers[-1].output_shape[1:]),\n",
    "        Convolution2D(nf, (3,3), activation = 'relu', padding = 'same'),\n",
    "        BatchNormalization(axis = 1),\n",
    "        Convolution2D(nf, (3,3), activation = 'relu', padding = 'same'),\n",
    "        BatchNormalization(axis = 1),\n",
    "        Convolution2D(nf, (3,3), activation = 'relu', padding = 'same'),\n",
    "        BatchNormalization(axis = 1),\n",
    "        Convolution2D(8, (3,3), padding = 'same'),\n",
    "        GlobalAveragePooling2D(),\n",
    "        Activation('softmax')\n",
    "    ]"
   ]
  },
  {
   "cell_type": "code",
   "execution_count": 75,
   "metadata": {},
   "outputs": [],
   "source": [
    "lrg_model = Sequential(get_lrg_layers())"
   ]
  },
  {
   "cell_type": "code",
   "execution_count": 76,
   "metadata": {},
   "outputs": [
    {
     "name": "stdout",
     "output_type": "stream",
     "text": [
      "_________________________________________________________________\n",
      "Layer (type)                 Output Shape              Param #   \n",
      "=================================================================\n",
      "batch_normalization_17 (Batc (None, 512, 22, 22)       2048      \n",
      "_________________________________________________________________\n",
      "conv2d_30 (Conv2D)           (None, 128, 22, 22)       589952    \n",
      "_________________________________________________________________\n",
      "batch_normalization_18 (Batc (None, 128, 22, 22)       512       \n",
      "_________________________________________________________________\n",
      "conv2d_31 (Conv2D)           (None, 128, 22, 22)       147584    \n",
      "_________________________________________________________________\n",
      "batch_normalization_19 (Batc (None, 128, 22, 22)       512       \n",
      "_________________________________________________________________\n",
      "conv2d_32 (Conv2D)           (None, 128, 22, 22)       147584    \n",
      "_________________________________________________________________\n",
      "batch_normalization_20 (Batc (None, 128, 22, 22)       512       \n",
      "_________________________________________________________________\n",
      "conv2d_33 (Conv2D)           (None, 8, 22, 22)         9224      \n",
      "_________________________________________________________________\n",
      "global_average_pooling2d_4 ( (None, 8)                 0         \n",
      "_________________________________________________________________\n",
      "activation_4 (Activation)    (None, 8)                 0         \n",
      "=================================================================\n",
      "Total params: 897,928\n",
      "Trainable params: 896,136\n",
      "Non-trainable params: 1,792\n",
      "_________________________________________________________________\n"
     ]
    }
   ],
   "source": [
    "lrg_model.summary()"
   ]
  },
  {
   "cell_type": "code",
   "execution_count": 77,
   "metadata": {
    "collapsed": true
   },
   "outputs": [],
   "source": [
    "lrg_model.compile(Adam(lr = 0.001), loss = 'categorical_crossentropy', metrics = ['accuracy'])"
   ]
  },
  {
   "cell_type": "code",
   "execution_count": 78,
   "metadata": {},
   "outputs": [
    {
     "name": "stdout",
     "output_type": "stream",
     "text": [
      "Train on 499 samples, validate on 247 samples\n",
      "Epoch 1/2\n",
      "499/499 [==============================] - 140s - loss: 1.6992 - acc: 0.4369 - val_loss: 6.3039 - val_acc: 0.1984\n",
      "Epoch 2/2\n",
      "499/499 [==============================] - 135s - loss: 0.9115 - acc: 0.7415 - val_loss: 3.5375 - val_acc: 0.5425\n"
     ]
    },
    {
     "data": {
      "text/plain": [
       "<keras.callbacks.History at 0x517776a0>"
      ]
     },
     "execution_count": 78,
     "metadata": {},
     "output_type": "execute_result"
    }
   ],
   "source": [
    "lrg_model.fit(conv_trn_feat, trn_labels, batch_size = batch_size, epochs = 2, validation_data = (conv_val_feat, val_labels))"
   ]
  },
  {
   "cell_type": "code",
   "execution_count": 79,
   "metadata": {
    "collapsed": true
   },
   "outputs": [],
   "source": [
    "lrg_model.optimizer.lr = 1e-5"
   ]
  },
  {
   "cell_type": "code",
   "execution_count": 81,
   "metadata": {},
   "outputs": [
    {
     "name": "stdout",
     "output_type": "stream",
     "text": [
      "Train on 499 samples, validate on 247 samples\n",
      "Epoch 1/6\n",
      "499/499 [==============================] - 133s - loss: 0.5136 - acc: 0.8637 - val_loss: 6.6248 - val_acc: 0.2429\n",
      "Epoch 2/6\n",
      "499/499 [==============================] - 137s - loss: 0.2285 - acc: 0.9379 - val_loss: 2.9381 - val_acc: 0.5547\n",
      "Epoch 3/6\n",
      "499/499 [==============================] - 142s - loss: 0.1870 - acc: 0.9559 - val_loss: 5.4223 - val_acc: 0.2915\n",
      "Epoch 4/6\n",
      "499/499 [==============================] - 142s - loss: 0.0620 - acc: 0.9900 - val_loss: 3.0297 - val_acc: 0.5992\n",
      "Epoch 5/6\n",
      "499/499 [==============================] - 135s - loss: 0.0225 - acc: 1.0000 - val_loss: 2.9389 - val_acc: 0.5385\n",
      "Epoch 6/6\n",
      "499/499 [==============================] - 138s - loss: 0.0162 - acc: 1.0000 - val_loss: 1.8927 - val_acc: 0.6721\n"
     ]
    },
    {
     "data": {
      "text/plain": [
       "<keras.callbacks.History at 0x51e02d68>"
      ]
     },
     "execution_count": 81,
     "metadata": {},
     "output_type": "execute_result"
    }
   ],
   "source": [
    "lrg_model.fit(conv_trn_feat, trn_labels, batch_size = batch_size, epochs = 6, validation_data = (conv_val_feat, val_labels))"
   ]
  },
  {
   "cell_type": "code",
   "execution_count": 82,
   "metadata": {
    "collapsed": true
   },
   "outputs": [],
   "source": [
    "lrg_model.save_weights(path + '/models/lrg_0mp.h5')"
   ]
  },
  {
   "cell_type": "code",
   "execution_count": 83,
   "metadata": {
    "collapsed": true
   },
   "outputs": [],
   "source": [
    "lrg_model.load_weights(path + '/models/lrg_0mp.h5')"
   ]
  },
  {
   "cell_type": "markdown",
   "metadata": {},
   "source": [
    "### Create heatmap"
   ]
  },
  {
   "cell_type": "code",
   "execution_count": 86,
   "metadata": {},
   "outputs": [],
   "source": [
    "l = lrg_model.layers\n",
    "conv_fn = K.function([l[0].input, K.learning_phase()], [l[-3].output])"
   ]
  },
  {
   "cell_type": "code",
   "execution_count": 91,
   "metadata": {},
   "outputs": [],
   "source": [
    "def get_cm2(inp, label):\n",
    "    conv = conv_fn([inp, 0])\n",
    "    conv = conv[0][0][label]\n",
    "    return scipy.misc.imresize(conv, (360, 360))"
   ]
  },
  {
   "cell_type": "code",
   "execution_count": 92,
   "metadata": {
    "collapsed": true
   },
   "outputs": [],
   "source": [
    "inp = np.expand_dims(conv_val_feat[0], 0)"
   ]
  },
  {
   "cell_type": "code",
   "execution_count": null,
   "metadata": {},
   "outputs": [],
   "source": [
    "plt.imshow(to_plot(val[0]))"
   ]
  },
  {
   "cell_type": "code",
   "execution_count": 94,
   "metadata": {},
   "outputs": [],
   "source": [
    "cm = get_cm2(inp, 0)"
   ]
  },
  {
   "cell_type": "code",
   "execution_count": 96,
   "metadata": {
    "collapsed": true
   },
   "outputs": [],
   "source": [
    "cm = get_cm2(inp, 4)"
   ]
  },
  {
   "cell_type": "code",
   "execution_count": 97,
   "metadata": {},
   "outputs": [
    {
     "data": {
      "text/plain": [
       "<matplotlib.image.AxesImage at 0x522d6c18>"
      ]
     },
     "execution_count": 97,
     "metadata": {},
     "output_type": "execute_result"
    },
    {
     "data": {
      "image/png": "[encoded data removed]",
      "text/plain": [
       "<matplotlib.figure.Figure at 0x5222c400>"
      ]
     },
     "metadata": {},
     "output_type": "display_data"
    }
   ],
   "source": [
    "plt.imshow(cm, cmap = 'cool')"
   ]
  },
  {
   "cell_type": "code",
   "execution_count": null,
   "metadata": {},
   "outputs": [],
   "source": [
    "plt.figure(figsize = (10, 10))\n",
    "plot(val[0])\n",
    "plt.imshow(cm, cmap = 'cool', alpha = 0.5)"
   ]
  },
  {
   "cell_type": "markdown",
   "metadata": {},
   "source": [
    "### Inception mini-net\n",
    "\n",
    "Here's an example of how to create and use 'inception blocks' - as you see, they use multiple different convolution filter sizes and concatenate the results together. We'll talk more about these next year."
   ]
  },
  {
   "cell_type": "code",
   "execution_count": 108,
   "metadata": {
    "collapsed": true
   },
   "outputs": [],
   "source": [
    "def conv2d_bn(x, nb_filter, nb_row, nb_col, subsample = (1, 1)):\n",
    "    x = Convolution2D(nb_filter, (nb_row, nb_col), subsample = subsample, activation = 'relu', padding = 'same')(x)\n",
    "    return BatchNormalization(axis = 1)(x)"
   ]
  },
  {
   "cell_type": "code",
   "execution_count": 116,
   "metadata": {
    "collapsed": true
   },
   "outputs": [],
   "source": [
    "def incep_block(x):\n",
    "    branch1x1 = conv2d_bn(x, 32, 1, 1, subsample = (2, 2))\n",
    "    branch5x5 = conv2d_bn(x, 24, 1, 1)\n",
    "    branch5x5 = conv2d_bn(branch5x5, 32, 5, 5, subsample = (2, 2))\n",
    "    \n",
    "    branch3x3dbl = conv2d_bn(x, 32, 1, 1)\n",
    "    branch3x3dbl = conv2d_bn(branch3x3dbl, 48, 3, 3)\n",
    "    branch3x3dbl = conv2d_bn(branch3x3dbl, 48, 3, 3, subsample = (2, 2))\n",
    "    \n",
    "    branch_pool = AveragePooling2D((3,3), strides = (2,2), border_mode = 'same')(x)\n",
    "    branch_pool = conv2d_bn(branch_pool, 16, 1, 1)\n",
    "    return merge([branch1x1, branch5x5, branch3x3dbl, branch_pool], mode = 'concat', concat_axis = 1)"
   ]
  },
  {
   "cell_type": "code",
   "execution_count": 118,
   "metadata": {},
   "outputs": [
    {
     "name": "stderr",
     "output_type": "stream",
     "text": [
      "C:\\Users\\hjkim\\Anaconda3\\lib\\site-packages\\ipykernel_launcher.py:2: UserWarning: Update your `Conv2D` call to the Keras 2 API: `Conv2D(32, (1, 1), activation=\"relu\", padding=\"same\", strides=(2, 2))`\n",
      "  \n",
      "C:\\Users\\hjkim\\Anaconda3\\lib\\site-packages\\ipykernel_launcher.py:2: UserWarning: Update your `Conv2D` call to the Keras 2 API: `Conv2D(24, (1, 1), activation=\"relu\", padding=\"same\", strides=(1, 1))`\n",
      "  \n",
      "C:\\Users\\hjkim\\Anaconda3\\lib\\site-packages\\ipykernel_launcher.py:2: UserWarning: Update your `Conv2D` call to the Keras 2 API: `Conv2D(32, (5, 5), activation=\"relu\", padding=\"same\", strides=(2, 2))`\n",
      "  \n",
      "C:\\Users\\hjkim\\Anaconda3\\lib\\site-packages\\ipykernel_launcher.py:2: UserWarning: Update your `Conv2D` call to the Keras 2 API: `Conv2D(32, (1, 1), activation=\"relu\", padding=\"same\", strides=(1, 1))`\n",
      "  \n",
      "C:\\Users\\hjkim\\Anaconda3\\lib\\site-packages\\ipykernel_launcher.py:2: UserWarning: Update your `Conv2D` call to the Keras 2 API: `Conv2D(48, (3, 3), activation=\"relu\", padding=\"same\", strides=(1, 1))`\n",
      "  \n",
      "C:\\Users\\hjkim\\Anaconda3\\lib\\site-packages\\ipykernel_launcher.py:2: UserWarning: Update your `Conv2D` call to the Keras 2 API: `Conv2D(48, (3, 3), activation=\"relu\", padding=\"same\", strides=(2, 2))`\n",
      "  \n",
      "C:\\Users\\hjkim\\Anaconda3\\lib\\site-packages\\ipykernel_launcher.py:10: UserWarning: Update your `AveragePooling2D` call to the Keras 2 API: `AveragePooling2D((3, 3), strides=(2, 2), padding=\"same\")`\n",
      "  # Remove the CWD from sys.path while we load stuff.\n",
      "C:\\Users\\hjkim\\Anaconda3\\lib\\site-packages\\ipykernel_launcher.py:2: UserWarning: Update your `Conv2D` call to the Keras 2 API: `Conv2D(16, (1, 1), activation=\"relu\", padding=\"same\", strides=(1, 1))`\n",
      "  \n",
      "C:\\Users\\hjkim\\Anaconda3\\lib\\site-packages\\ipykernel_launcher.py:12: UserWarning: The `merge` function is deprecated and will be removed after 08/2017. Use instead layers from `keras.layers.merge`, e.g. `add`, `concatenate`, etc.\n",
      "  if sys.path[0] == '':\n",
      "C:\\Users\\hjkim\\Anaconda3\\lib\\site-packages\\keras-2.0.8-py3.6.egg\\keras\\legacy\\layers.py:458: UserWarning: The `Merge` layer is deprecated and will be removed after 08/2017. Use instead layers from `keras.layers.merge`, e.g. `add`, `concatenate`, etc.\n",
      "C:\\Users\\hjkim\\Anaconda3\\lib\\site-packages\\ipykernel_launcher.py:7: UserWarning: Update your `Conv2D` call to the Keras 2 API: `Conv2D(8, (3, 3), padding=\"same\")`\n",
      "  import sys\n"
     ]
    }
   ],
   "source": [
    "inp = Input(vgg640.layers[-1].output_shape[1:])\n",
    "x = BatchNormalization(axis = 1)(inp)\n",
    "x = incep_block(x)\n",
    "x = incep_block(x)\n",
    "x = incep_block(x)\n",
    "x = Dropout(0.75)(x)\n",
    "x = Convolution2D(8, (3,3), border_mode = 'same')(x)\n",
    "x = GlobalAveragePooling2D()(x)\n",
    "outp = Activation('softmax')(x)"
   ]
  },
  {
   "cell_type": "code",
   "execution_count": 120,
   "metadata": {},
   "outputs": [],
   "source": [
    "lrg_model = Model([inp], outp)"
   ]
  },
  {
   "cell_type": "code",
   "execution_count": 121,
   "metadata": {
    "collapsed": true
   },
   "outputs": [],
   "source": [
    "lrg_model.compile(Adam(lr = 0.001), loss = 'categorical_crossentropy', metrics = ['accuracy'])"
   ]
  },
  {
   "cell_type": "code",
   "execution_count": 122,
   "metadata": {},
   "outputs": [
    {
     "name": "stdout",
     "output_type": "stream",
     "text": [
      "Train on 499 samples, validate on 247 samples\n",
      "Epoch 1/2\n",
      "499/499 [==============================] - 108s - loss: 2.0838 - acc: 0.2365 - val_loss: 2.1202 - val_acc: 0.2065\n",
      "Epoch 2/2\n",
      "499/499 [==============================] - 71s - loss: 1.3180 - acc: 0.5792 - val_loss: 2.3708 - val_acc: 0.1943\n"
     ]
    },
    {
     "data": {
      "text/plain": [
       "<keras.callbacks.History at 0x636c7e48>"
      ]
     },
     "execution_count": 122,
     "metadata": {},
     "output_type": "execute_result"
    }
   ],
   "source": [
    "lrg_model.fit(conv_trn_feat, trn_labels, batch_size = batch_size, epochs = 2, validation_data = (conv_val_feat, val_labels))"
   ]
  },
  {
   "cell_type": "code",
   "execution_count": 123,
   "metadata": {
    "collapsed": true
   },
   "outputs": [],
   "source": [
    "lrg_model.optimizer.lr = 1e-5"
   ]
  },
  {
   "cell_type": "code",
   "execution_count": 124,
   "metadata": {},
   "outputs": [
    {
     "name": "stdout",
     "output_type": "stream",
     "text": [
      "Train on 499 samples, validate on 247 samples\n",
      "Epoch 1/2\n",
      "499/499 [==============================] - 72s - loss: 0.8892 - acc: 0.7735 - val_loss: 2.0723 - val_acc: 0.1943\n",
      "Epoch 2/2\n",
      "499/499 [==============================] - 72s - loss: 0.6661 - acc: 0.8076 - val_loss: 1.8851 - val_acc: 0.2186\n"
     ]
    },
    {
     "data": {
      "text/plain": [
       "<keras.callbacks.History at 0x64d647f0>"
      ]
     },
     "execution_count": 124,
     "metadata": {},
     "output_type": "execute_result"
    }
   ],
   "source": [
    "lrg_model.fit(conv_trn_feat, trn_labels, batch_size = batch_size, epochs = 2, validation_data = (conv_val_feat, val_labels))"
   ]
  },
  {
   "cell_type": "code",
   "execution_count": 125,
   "metadata": {
    "collapsed": true
   },
   "outputs": [],
   "source": [
    "lrg_model.save_weights(path + '/models/lrg_nmp.h5')"
   ]
  },
  {
   "cell_type": "code",
   "execution_count": 126,
   "metadata": {
    "collapsed": true
   },
   "outputs": [],
   "source": [
    "lrg_model.load_weights(path + '/models/lrg_nmp.h5')"
   ]
  },
  {
   "cell_type": "markdown",
   "metadata": {},
   "source": [
    "## Pseudo-labeling"
   ]
  },
  {
   "cell_type": "code",
   "execution_count": 129,
   "metadata": {},
   "outputs": [
    {
     "ename": "NameError",
     "evalue": "name 'conv_test_feats' is not defined",
     "output_type": "error",
     "traceback": [
      "\u001b[1;31m---------------------------------------------------------------------------\u001b[0m",
      "\u001b[1;31mNameError\u001b[0m                                 Traceback (most recent call last)",
      "\u001b[1;32m<ipython-input-129-bd00b0b0b5be>\u001b[0m in \u001b[0;36m<module>\u001b[1;34m()\u001b[0m\n\u001b[1;32m----> 1\u001b[1;33m \u001b[0mpreds\u001b[0m \u001b[1;33m=\u001b[0m \u001b[0mlrg_model\u001b[0m\u001b[1;33m.\u001b[0m\u001b[0mpredict\u001b[0m\u001b[1;33m(\u001b[0m\u001b[1;33m[\u001b[0m\u001b[0mconv_test_feats\u001b[0m\u001b[1;33m,\u001b[0m \u001b[0mtest_sizes\u001b[0m\u001b[1;33m]\u001b[0m\u001b[1;33m,\u001b[0m \u001b[0mbatch_size\u001b[0m \u001b[1;33m=\u001b[0m \u001b[0mbatch_size\u001b[0m \u001b[1;33m*\u001b[0m \u001b[1;36m2\u001b[0m\u001b[1;33m)\u001b[0m\u001b[1;33m\u001b[0m\u001b[0m\n\u001b[0m",
      "\u001b[1;31mNameError\u001b[0m: name 'conv_test_feats' is not defined"
     ]
    }
   ],
   "source": [
    "preds = model.predict([conv_test_feats, test_sizes], batch_size = batch_size * 2)"
   ]
  },
  {
   "cell_type": "code",
   "execution_count": null,
   "metadata": {
    "collapsed": true
   },
   "outputs": [],
   "source": [
    "gen = image.ImageDataGenerator()"
   ]
  },
  {
   "cell_type": "code",
   "execution_count": null,
   "metadata": {
    "collapsed": true
   },
   "outputs": [],
   "source": [
    "test_batches = gen.flow(conv_test_feat, preds, batch_size = 16)"
   ]
  },
  {
   "cell_type": "code",
   "execution_count": null,
   "metadata": {
    "collapsed": true
   },
   "outputs": [],
   "source": [
    "val_batches = gen.flow(conv_val_fear, val_labels, batch_size = 4)"
   ]
  },
  {
   "cell_type": "code",
   "execution_count": null,
   "metadata": {
    "collapsed": true
   },
   "outputs": [],
   "source": [
    "batches = gen.flow(conv_feat, trn_labels, batch_size = 44)"
   ]
  },
  {
   "cell_type": "code",
   "execution_count": null,
   "metadata": {
    "collapsed": true
   },
   "outputs": [],
   "source": [
    "mi = MixIterator([batches, test_batches, val_batches])"
   ]
  },
  {
   "cell_type": "code",
   "execution_count": null,
   "metadata": {
    "collapsed": true
   },
   "outputs": [],
   "source": [
    "bn_model.fit_generator(mi, i.N, epochs = 8, validation_data = (conv_val_feat, val_labels))"
   ]
  },
  {
   "cell_type": "markdown",
   "metadata": {},
   "source": [
    "## Submit"
   ]
  },
  {
   "cell_type": "code",
   "execution_count": 131,
   "metadata": {
    "collapsed": true
   },
   "outputs": [],
   "source": [
    "def do_clip(arr, mx): return np.clip(arr, (1-mx)/7, mx)"
   ]
  },
  {
   "cell_type": "code",
   "execution_count": 132,
   "metadata": {},
   "outputs": [
    {
     "name": "stdout",
     "output_type": "stream",
     "text": [
      "247/247 [==============================] - 18s    \n"
     ]
    },
    {
     "data": {
      "text/plain": [
       "[1.8850863776226274, 0.21862348455649155]"
      ]
     },
     "execution_count": 132,
     "metadata": {},
     "output_type": "execute_result"
    }
   ],
   "source": [
    "lrg_model.evaluate(conv_val_feat, val_labels, batch_size * 2)"
   ]
  },
  {
   "cell_type": "code",
   "execution_count": 133,
   "metadata": {},
   "outputs": [
    {
     "ename": "NameError",
     "evalue": "name 'model' is not defined",
     "output_type": "error",
     "traceback": [
      "\u001b[1;31m---------------------------------------------------------------------------\u001b[0m",
      "\u001b[1;31mNameError\u001b[0m                                 Traceback (most recent call last)",
      "\u001b[1;32m<ipython-input-133-3b81440d4881>\u001b[0m in \u001b[0;36m<module>\u001b[1;34m()\u001b[0m\n\u001b[1;32m----> 1\u001b[1;33m \u001b[0mpreds\u001b[0m \u001b[1;33m=\u001b[0m \u001b[0mmodel\u001b[0m\u001b[1;33m.\u001b[0m\u001b[0mpredict\u001b[0m\u001b[1;33m(\u001b[0m\u001b[0mconv_test_feat\u001b[0m\u001b[1;33m,\u001b[0m \u001b[0mbatch_size\u001b[0m \u001b[1;33m=\u001b[0m \u001b[0mbatch_size\u001b[0m\u001b[1;33m)\u001b[0m\u001b[1;33m\u001b[0m\u001b[0m\n\u001b[0m",
      "\u001b[1;31mNameError\u001b[0m: name 'model' is not defined"
     ]
    }
   ],
   "source": [
    "preds = model.predict(conv_test_feat, batch_size = batch_size)"
   ]
  },
  {
   "cell_type": "code",
   "execution_count": 134,
   "metadata": {},
   "outputs": [
    {
     "ename": "NameError",
     "evalue": "name 'preds' is not defined",
     "output_type": "error",
     "traceback": [
      "\u001b[1;31m---------------------------------------------------------------------------\u001b[0m",
      "\u001b[1;31mNameError\u001b[0m                                 Traceback (most recent call last)",
      "\u001b[1;32m<ipython-input-134-7b5d3672bc42>\u001b[0m in \u001b[0;36m<module>\u001b[1;34m()\u001b[0m\n\u001b[1;32m----> 1\u001b[1;33m \u001b[0mpreds\u001b[0m \u001b[1;33m=\u001b[0m \u001b[0mpreds\u001b[0m\u001b[1;33m[\u001b[0m\u001b[1;36m1\u001b[0m\u001b[1;33m]\u001b[0m\u001b[1;33m\u001b[0m\u001b[0m\n\u001b[0m",
      "\u001b[1;31mNameError\u001b[0m: name 'preds' is not defined"
     ]
    }
   ],
   "source": [
    "preds = preds[1]"
   ]
  },
  {
   "cell_type": "code",
   "execution_count": 135,
   "metadata": {
    "collapsed": true
   },
   "outputs": [],
   "source": [
    "test = load_array(path + '/results/test_640.dat')"
   ]
  },
  {
   "cell_type": "code",
   "execution_count": 136,
   "metadata": {
    "collapsed": true
   },
   "outputs": [],
   "source": [
    "test = load_array(path + '/results/test.dat')"
   ]
  },
  {
   "cell_type": "code",
   "execution_count": 137,
   "metadata": {},
   "outputs": [
    {
     "ename": "NameError",
     "evalue": "name 'conv_model' is not defined",
     "output_type": "error",
     "traceback": [
      "\u001b[1;31m---------------------------------------------------------------------------\u001b[0m",
      "\u001b[1;31mNameError\u001b[0m                                 Traceback (most recent call last)",
      "\u001b[1;32m<ipython-input-137-df72ee889890>\u001b[0m in \u001b[0;36m<module>\u001b[1;34m()\u001b[0m\n\u001b[1;32m----> 1\u001b[1;33m \u001b[0mpreds\u001b[0m \u001b[1;33m=\u001b[0m \u001b[0mconv_model\u001b[0m\u001b[1;33m.\u001b[0m\u001b[0mpredict\u001b[0m\u001b[1;33m(\u001b[0m\u001b[0mtest\u001b[0m\u001b[1;33m,\u001b[0m \u001b[0mbatch_size\u001b[0m \u001b[1;33m=\u001b[0m \u001b[1;36m32\u001b[0m\u001b[1;33m)\u001b[0m\u001b[1;33m\u001b[0m\u001b[0m\n\u001b[0m",
      "\u001b[1;31mNameError\u001b[0m: name 'conv_model' is not defined"
     ]
    }
   ],
   "source": [
    "preds = conv_model.predict(test, batch_size = 32)"
   ]
  },
  {
   "cell_type": "code",
   "execution_count": 138,
   "metadata": {},
   "outputs": [
    {
     "ename": "NameError",
     "evalue": "name 'preds' is not defined",
     "output_type": "error",
     "traceback": [
      "\u001b[1;31m---------------------------------------------------------------------------\u001b[0m",
      "\u001b[1;31mNameError\u001b[0m                                 Traceback (most recent call last)",
      "\u001b[1;32m<ipython-input-138-479e04fae834>\u001b[0m in \u001b[0;36m<module>\u001b[1;34m()\u001b[0m\n\u001b[1;32m----> 1\u001b[1;33m \u001b[0msubm\u001b[0m \u001b[1;33m=\u001b[0m \u001b[0mdo_clip\u001b[0m\u001b[1;33m(\u001b[0m\u001b[0mpreds\u001b[0m\u001b[1;33m,\u001b[0m \u001b[1;36m0.82\u001b[0m\u001b[1;33m)\u001b[0m\u001b[1;33m\u001b[0m\u001b[0m\n\u001b[0m",
      "\u001b[1;31mNameError\u001b[0m: name 'preds' is not defined"
     ]
    }
   ],
   "source": [
    "subm = do_clip(preds, 0.82)"
   ]
  },
  {
   "cell_type": "code",
   "execution_count": 139,
   "metadata": {
    "collapsed": true
   },
   "outputs": [],
   "source": [
    "subm_name = path + '/results/subm_bb.gz'"
   ]
  },
  {
   "cell_type": "code",
   "execution_count": 140,
   "metadata": {
    "collapsed": true
   },
   "outputs": [],
   "source": [
    "# classes = sorted(batches.class_indices, key = batches.class_indices.get)\n",
    "classes = ['ALB', 'BET', 'DOL', 'LAG', 'NoF', 'OTHER', 'SHARK', 'YFT']"
   ]
  },
  {
   "cell_type": "code",
   "execution_count": 143,
   "metadata": {},
   "outputs": [
    {
     "ename": "NameError",
     "evalue": "name 'subm' is not defined",
     "output_type": "error",
     "traceback": [
      "\u001b[1;31m---------------------------------------------------------------------------\u001b[0m",
      "\u001b[1;31mNameError\u001b[0m                                 Traceback (most recent call last)",
      "\u001b[1;32m<ipython-input-143-c51e80859006>\u001b[0m in \u001b[0;36m<module>\u001b[1;34m()\u001b[0m\n\u001b[1;32m----> 1\u001b[1;33m \u001b[0msubmission\u001b[0m \u001b[1;33m=\u001b[0m \u001b[0mpd\u001b[0m\u001b[1;33m.\u001b[0m\u001b[0mDataFrame\u001b[0m\u001b[1;33m(\u001b[0m\u001b[0msubm\u001b[0m\u001b[1;33m,\u001b[0m \u001b[0mcolumn\u001b[0m \u001b[1;33m=\u001b[0m \u001b[0mclasses\u001b[0m\u001b[1;33m)\u001b[0m\u001b[1;33m\u001b[0m\u001b[0m\n\u001b[0m\u001b[0;32m      2\u001b[0m \u001b[0msubmission\u001b[0m\u001b[1;33m.\u001b[0m\u001b[0minsert\u001b[0m\u001b[1;33m(\u001b[0m\u001b[1;36m0\u001b[0m\u001b[1;33m,\u001b[0m \u001b[1;34m'image'\u001b[0m\u001b[1;33m,\u001b[0m \u001b[0mraw_test_filenames\u001b[0m\u001b[1;33m)\u001b[0m\u001b[1;33m\u001b[0m\u001b[0m\n\u001b[0;32m      3\u001b[0m \u001b[0msubmission\u001b[0m\u001b[1;33m.\u001b[0m\u001b[0mhead\u001b[0m\u001b[1;33m(\u001b[0m\u001b[1;33m)\u001b[0m\u001b[1;33m\u001b[0m\u001b[0m\n",
      "\u001b[1;31mNameError\u001b[0m: name 'subm' is not defined"
     ]
    }
   ],
   "source": [
    "submission = pd.DataFrame(subm, column = classes)\n",
    "submission.insert(0, 'image', raw_test_filenames)\n",
    "submission.head()"
   ]
  },
  {
   "cell_type": "code",
   "execution_count": null,
   "metadata": {
    "collapsed": true
   },
   "outputs": [],
   "source": [
    "submission.to_csv(subm_)"
   ]
  }
 ],
 "metadata": {
  "kernelspec": {
   "display_name": "Python 3",
   "language": "python",
   "name": "python3"
  },
  "language_info": {
   "codemirror_mode": {
    "name": "ipython",
    "version": 3
   },
   "file_extension": ".py",
   "mimetype": "text/x-python",
   "name": "python",
   "nbconvert_exporter": "python",
   "pygments_lexer": "ipython3",
   "version": "3.6.1"
  }
 },
 "nbformat": 4,
 "nbformat_minor": 2
}
