{
 "cells": [
  {
   "cell_type": "markdown",
   "metadata": {},
   "source": [
    "## Lesson resources\n",
    "\n",
    "* [https://youtu.be/Q0z-l2KRYFY Lesson video]\n",
    "* [http://forums.fast.ai/t/lesson-7-discussion Forum discussion]\n",
    "* [http://wiki.fast.ai/index.php/Lesson_7_Notes Lesson 7 notes]\n",
    "* The notebooks:\n",
    "** [https://github.com/fastai/courses/blob/master/deeplearning1/nbs/lesson6.ipynb Lesson 6] updated with pure python RNN and theano GRU details\n",
    "** [https://github.com/fastai/courses/blob/master/deeplearning1/nbs/lesson7.ipynb Lesson 7] has the various CNN architectures applied to the kaggle fisheries competition.\n",
    "\n",
    "* The python scripts:\n",
    "** [https://github.com/fastai/courses/blob/master/deeplearning1/nbs/vgg16bn.py VGG with batch normalization] - also adds 'size' and 'include_top' parameters\n",
    "** [https://github.com/fastai/courses/blob/master/deeplearning1/nbs/resnet50.py resnet50.py] - The resnet architecture\n",
    "\n",
    "## More information\n",
    "\n",
    "* [https://culurciello.github.io/tech/2016/06/04/nets.html Network architecture review] (really great)\n",
    "* [http://techtalks.tv/talks/fully-convolutional-networks-for-semantic-segmentation/61606/ Fully convolutional net]\n",
    "* [https://keras.io/getting-started/functional-api-guide/#multi-input-and-multi-output-models [Multi input and multi output nets in Keras]\n",
    "* [http://www.wildml.com/2015/10/recurrent-neural-network-tutorial-part-4-implementing-a-grulstm-rnn-with-python-and-theano/ Gated recurrent units (GRUs) ]"
   ]
  },
  {
   "cell_type": "markdown",
   "metadata": {},
   "source": [
    "## Fisheries competition\n",
    "\n",
    "In this notebook we're going to investigate a range of different architectures for the [Kaggle fisheries competition]. The video states taht vgg.py and vgg_ft() from utils.py have been updated to include VGG with batch normalization, but this is not the case. We've instead created a new file [vgg_bn.py] and an additional method vgg_ft_bn() (which is already in utils.py) which we use in this notbook."
   ]
  },
  {
   "cell_type": "code",
   "execution_count": 1,
   "metadata": {},
   "outputs": [
    {
     "name": "stderr",
     "output_type": "stream",
     "text": [
      "Using TensorFlow backend.\n"
     ]
    }
   ],
   "source": [
    "%matplotlib inline\n",
    "import imp\n",
    "import utils\n",
    "imp.reload(utils)\n",
    "from utils import *"
   ]
  },
  {
   "cell_type": "code",
   "execution_count": 2,
   "metadata": {
    "collapsed": true
   },
   "outputs": [],
   "source": [
    "path = 'data\\\\fish\\\\'\n",
    "batch_size = 64"
   ]
  },
  {
   "cell_type": "code",
   "execution_count": null,
   "metadata": {
    "collapsed": true
   },
   "outputs": [],
   "source": [
    "batches = get_batches(path + 'train', batch_size = batch_sie)\n",
    "val_batches = get_batches(path + 'valid', batch_size = batch_size * 2, shuffle = False)\n",
    "\n",
    "(val_classes, trn_classes, val_labels, trn_labels, val_filenames, filenames, test_filenames) = get_classes(path)"
   ]
  }
 ],
 "metadata": {
  "kernelspec": {
   "display_name": "Python 3",
   "language": "python",
   "name": "python3"
  },
  "language_info": {
   "codemirror_mode": {
    "name": "ipython",
    "version": 3
   },
   "file_extension": ".py",
   "mimetype": "text/x-python",
   "name": "python",
   "nbconvert_exporter": "python",
   "pygments_lexer": "ipython3",
   "version": "3.6.1"
  }
 },
 "nbformat": 4,
 "nbformat_minor": 2
}
